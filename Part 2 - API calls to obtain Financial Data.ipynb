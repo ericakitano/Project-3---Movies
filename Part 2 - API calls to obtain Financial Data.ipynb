{
 "cells": [
  {
   "cell_type": "markdown",
   "id": "2b3e4548",
   "metadata": {},
   "source": [
    "# Import Library"
   ]
  },
  {
   "cell_type": "code",
   "execution_count": 1,
   "id": "d4bb5d3f",
   "metadata": {},
   "outputs": [],
   "source": [
    "# Standard Imports\n",
    "import numpy as np\n",
    "import pandas as pd\n",
    "\n",
    "# Additional Imports\n",
    "import os, json, math, time\n",
    "import tmdbsimple as tmdb\n",
    "from tqdm.notebook import tqdm_notebook"
   ]
  },
  {
   "cell_type": "markdown",
   "id": "d4cbec4e",
   "metadata": {},
   "source": [
    "# Load Credentials and Create Movie Object"
   ]
  },
  {
   "cell_type": "code",
   "execution_count": 2,
   "id": "457550f4",
   "metadata": {},
   "outputs": [
    {
     "data": {
      "text/plain": [
       "dict_keys(['API-key'])"
      ]
     },
     "execution_count": 2,
     "metadata": {},
     "output_type": "execute_result"
    }
   ],
   "source": [
    "import json\n",
    "with open('/Users/ericakitano/.secret/tmdb_api.json', 'r') as f:\n",
    "    login = json.load(f)\n",
    "## Display the keys of the loaded dict\n",
    "login.keys()"
   ]
  },
  {
   "cell_type": "code",
   "execution_count": 3,
   "id": "69cb2474",
   "metadata": {},
   "outputs": [],
   "source": [
    "# Log-in to TMDB using my API-key\n",
    "tmdb.API_KEY =  login['API-key']"
   ]
  },
  {
   "cell_type": "code",
   "execution_count": 4,
   "id": "2ace2102",
   "metadata": {},
   "outputs": [],
   "source": [
    "## make a movie object using the .Movies function from tmdb\n",
    "movie = tmdb.Movies(603)"
   ]
  },
  {
   "cell_type": "markdown",
   "id": "5a5f6369",
   "metadata": {},
   "source": [
    "# Obtain Certification Data from `releases()`"
   ]
  },
  {
   "cell_type": "markdown",
   "id": "12645411",
   "metadata": {},
   "source": [
    "## Define `get_movie_with_rating` function"
   ]
  },
  {
   "cell_type": "code",
   "execution_count": 7,
   "id": "dc7c2f7c",
   "metadata": {},
   "outputs": [],
   "source": [
    "def get_movie_with_rating(movie_id):\n",
    "    \n",
    "    # Get the movie object for the current id\n",
    "    movie = tmdb.Movies(movie_id)\n",
    "    \n",
    "    # save the .info .releases dictionaries\n",
    "    info=movie.info()\n",
    "    \n",
    "    releases = movie.releases()\n",
    "    \n",
    "    #Loop through countries in releases\n",
    "    for c in releases['countries']:\n",
    "        #if the country is US\n",
    "        if c['iso_3166_1'] == 'US':\n",
    "            # save a \"certification\" key in \"info\" with the certification\n",
    "            info['certification'] = c['certification']\n",
    "    return info\n"
   ]
  },
  {
   "cell_type": "markdown",
   "id": "d793cd2b",
   "metadata": {},
   "source": [
    "## Test `get_movie_with_rating` function"
   ]
  },
  {
   "cell_type": "markdown",
   "id": "9aa5f136",
   "metadata": {},
   "source": [
    "### Test#1: movie_id: tt0848228 (\"The Avengers\")"
   ]
  },
  {
   "cell_type": "code",
   "execution_count": 8,
   "id": "7dc7474d",
   "metadata": {},
   "outputs": [
    {
     "data": {
      "text/plain": [
       "{'adult': False,\n",
       " 'backdrop_path': '/9BBTo63ANSmhC4e6r62OJFuK2GL.jpg',\n",
       " 'belongs_to_collection': {'id': 86311,\n",
       "  'name': 'The Avengers Collection',\n",
       "  'poster_path': '/yFSIUVTCvgYrpalUktulvk3Gi5Y.jpg',\n",
       "  'backdrop_path': '/zuW6fOiusv4X9nnW3paHGfXcSll.jpg'},\n",
       " 'budget': 220000000,\n",
       " 'genres': [{'id': 878, 'name': 'Science Fiction'},\n",
       "  {'id': 28, 'name': 'Action'},\n",
       "  {'id': 12, 'name': 'Adventure'}],\n",
       " 'homepage': 'https://www.marvel.com/movies/the-avengers',\n",
       " 'id': 24428,\n",
       " 'imdb_id': 'tt0848228',\n",
       " 'original_language': 'en',\n",
       " 'original_title': 'The Avengers',\n",
       " 'overview': 'When an unexpected enemy emerges and threatens global safety and security, Nick Fury, director of the international peacekeeping agency known as S.H.I.E.L.D., finds himself in need of a team to pull the world back from the brink of disaster. Spanning the globe, a daring recruitment effort begins!',\n",
       " 'popularity': 220.336,\n",
       " 'poster_path': '/RYMX2wcKCBAr24UyPD7xwmjaTn.jpg',\n",
       " 'production_companies': [{'id': 420,\n",
       "   'logo_path': '/hUzeosd33nzE5MCNsZxCGEKTXaQ.png',\n",
       "   'name': 'Marvel Studios',\n",
       "   'origin_country': 'US'}],\n",
       " 'production_countries': [{'iso_3166_1': 'US',\n",
       "   'name': 'United States of America'}],\n",
       " 'release_date': '2012-04-25',\n",
       " 'revenue': 1518815515,\n",
       " 'runtime': 143,\n",
       " 'spoken_languages': [{'english_name': 'English',\n",
       "   'iso_639_1': 'en',\n",
       "   'name': 'English'},\n",
       "  {'english_name': 'Hindi', 'iso_639_1': 'hi', 'name': 'हिन्दी'},\n",
       "  {'english_name': 'Russian', 'iso_639_1': 'ru', 'name': 'Pусский'}],\n",
       " 'status': 'Released',\n",
       " 'tagline': 'Some assembly required.',\n",
       " 'title': 'The Avengers',\n",
       " 'video': False,\n",
       " 'vote_average': 7.709,\n",
       " 'vote_count': 28790,\n",
       " 'certification': 'PG-13'}"
      ]
     },
     "execution_count": 8,
     "metadata": {},
     "output_type": "execute_result"
    }
   ],
   "source": [
    "# Test get_movie_with_rating function with movie_id: tt0848228 (\"The Avengers\")\n",
    "test = get_movie_with_rating(\"tt0848228\")\n",
    "test"
   ]
  },
  {
   "cell_type": "markdown",
   "id": "18431709",
   "metadata": {},
   "source": [
    "Verified that `info` now contains `certification` key. "
   ]
  },
  {
   "cell_type": "markdown",
   "id": "4dd0a6f4",
   "metadata": {},
   "source": [
    "### Test#2 : movie_id: tt0332280 (\"The Notebook\")"
   ]
  },
  {
   "cell_type": "code",
   "execution_count": 9,
   "id": "514c5219",
   "metadata": {},
   "outputs": [
    {
     "data": {
      "text/plain": [
       "{'adult': False,\n",
       " 'backdrop_path': '/qom1SZSENdmHFNZBXbtJAU0WTlC.jpg',\n",
       " 'belongs_to_collection': None,\n",
       " 'budget': 29000000,\n",
       " 'genres': [{'id': 10749, 'name': 'Romance'}, {'id': 18, 'name': 'Drama'}],\n",
       " 'homepage': 'http://www.newline.com/properties/notebookthe.html',\n",
       " 'id': 11036,\n",
       " 'imdb_id': 'tt0332280',\n",
       " 'original_language': 'en',\n",
       " 'original_title': 'The Notebook',\n",
       " 'overview': \"An epic love story centered around an older man who reads aloud to a woman with Alzheimer's. From a faded notebook, the old man's words bring to life the story about a couple who is separated by World War II, and is then passionately reunited, seven years later, after they have taken different paths.\",\n",
       " 'popularity': 61.45,\n",
       " 'poster_path': '/rNzQyW4f8B8cQeg7Dgj3n6eT5k9.jpg',\n",
       " 'production_companies': [{'id': 12,\n",
       "   'logo_path': '/5ThIuO93vsk47oexKTSdfKEr7EC.png',\n",
       "   'name': 'New Line Cinema',\n",
       "   'origin_country': 'US'},\n",
       "  {'id': 1565, 'logo_path': None, 'name': 'Avery Pix', 'origin_country': 'US'},\n",
       "  {'id': 2605,\n",
       "   'logo_path': None,\n",
       "   'name': 'Gran Via Productions',\n",
       "   'origin_country': 'US'}],\n",
       " 'production_countries': [{'iso_3166_1': 'US',\n",
       "   'name': 'United States of America'}],\n",
       " 'release_date': '2004-06-25',\n",
       " 'revenue': 115603229,\n",
       " 'runtime': 123,\n",
       " 'spoken_languages': [{'english_name': 'English',\n",
       "   'iso_639_1': 'en',\n",
       "   'name': 'English'}],\n",
       " 'status': 'Released',\n",
       " 'tagline': 'Behind every great love is a great story.',\n",
       " 'title': 'The Notebook',\n",
       " 'video': False,\n",
       " 'vote_average': 7.88,\n",
       " 'vote_count': 10399,\n",
       " 'certification': 'PG-13'}"
      ]
     },
     "execution_count": 9,
     "metadata": {},
     "output_type": "execute_result"
    }
   ],
   "source": [
    "# Test get_movie_with_rating function with movie_id: tt0332280 (\"The Notebook\")\n",
    "test2 = get_movie_with_rating(\"tt0332280\")\n",
    "test2"
   ]
  },
  {
   "cell_type": "markdown",
   "id": "5a0240dd",
   "metadata": {},
   "source": [
    "Verified that the `get_movie_with_rating` function is working."
   ]
  },
  {
   "cell_type": "markdown",
   "id": "03561969",
   "metadata": {},
   "source": [
    "# Obtain Financial Data"
   ]
  },
  {
   "cell_type": "markdown",
   "id": "7d3bd841",
   "metadata": {},
   "source": [
    "### Designate a folder to save data obtained from API calls"
   ]
  },
  {
   "cell_type": "code",
   "execution_count": 10,
   "id": "46bfe274",
   "metadata": {},
   "outputs": [
    {
     "data": {
      "text/plain": [
       "['title_basics.csv.gz', 'title_akas.csv.gz', 'title_ratings.csv.gz']"
      ]
     },
     "execution_count": 10,
     "metadata": {},
     "output_type": "execute_result"
    }
   ],
   "source": [
    "FOLDER = \"Data/\"\n",
    "os.makedirs(FOLDER, exist_ok=True)\n",
    "os.listdir(FOLDER)"
   ]
  },
  {
   "cell_type": "markdown",
   "id": "379989ce",
   "metadata": {},
   "source": [
    "### Define `write_json` function"
   ]
  },
  {
   "cell_type": "markdown",
   "id": "89450951",
   "metadata": {},
   "source": [
    "This function appends a list of records to a json file."
   ]
  },
  {
   "cell_type": "code",
   "execution_count": 11,
   "id": "852368bf",
   "metadata": {},
   "outputs": [],
   "source": [
    "def write_json(new_data, filename): \n",
    "    \"\"\"Appends a list of records (new_data) to a json file (filename). \n",
    "    Adapted from: https://www.geeksforgeeks.org/append-to-json-file-using-python/\"\"\"  \n",
    "    \n",
    "    with open(filename,'r+') as file:\n",
    "        # First we load existing data into a dict.\n",
    "        file_data = json.load(file)\n",
    "        ## Choose extend or append\n",
    "        if (type(new_data) == list) & (type(file_data) == list):\n",
    "            file_data.extend(new_data)\n",
    "        else:\n",
    "             file_data.append(new_data)\n",
    "        # Sets file's current position at offset.\n",
    "        file.seek(0)\n",
    "        # convert back to json.\n",
    "        json.dump(file_data, file)"
   ]
  },
  {
   "cell_type": "markdown",
   "id": "a5f14ebd",
   "metadata": {},
   "source": [
    "### Load in the Title Basics data"
   ]
  },
  {
   "cell_type": "code",
   "execution_count": 12,
   "id": "9ee2b558",
   "metadata": {},
   "outputs": [],
   "source": [
    "# Load in the dataframe from project part 1 as basics:\n",
    "basics = pd.read_csv(\"Data/title_basics.csv.gz\")"
   ]
  },
  {
   "cell_type": "markdown",
   "id": "5e1f16ec",
   "metadata": {},
   "source": [
    "### Define a list of the Years to Extract from the API"
   ]
  },
  {
   "cell_type": "markdown",
   "id": "493f8933",
   "metadata": {},
   "source": [
    "Create Required Lists for the Outer Loop"
   ]
  },
  {
   "cell_type": "code",
   "execution_count": 13,
   "id": "39b653bb",
   "metadata": {},
   "outputs": [],
   "source": [
    "YEARS_TO_GET = [2000,2001]"
   ]
  },
  {
   "cell_type": "markdown",
   "id": "8fcfd8a2",
   "metadata": {},
   "source": [
    "### Define an errors list"
   ]
  },
  {
   "cell_type": "markdown",
   "id": "cf4eb84f",
   "metadata": {},
   "source": [
    "Create an empty errors list before the loops so that we can append and save the ids and error messages for any movie that causes an error. "
   ]
  },
  {
   "cell_type": "code",
   "execution_count": 14,
   "id": "6be34bd6",
   "metadata": {},
   "outputs": [],
   "source": [
    "errors = [ ]"
   ]
  },
  {
   "cell_type": "code",
   "execution_count": null,
   "id": "97075c40",
   "metadata": {},
   "outputs": [],
   "source": []
  }
 ],
 "metadata": {
  "kernelspec": {
   "display_name": "Python (dojo-env)",
   "language": "python",
   "name": "dojo-env"
  },
  "language_info": {
   "codemirror_mode": {
    "name": "ipython",
    "version": 3
   },
   "file_extension": ".py",
   "mimetype": "text/x-python",
   "name": "python",
   "nbconvert_exporter": "python",
   "pygments_lexer": "ipython3",
   "version": "3.9.15"
  },
  "toc": {
   "base_numbering": 1,
   "nav_menu": {},
   "number_sections": false,
   "sideBar": true,
   "skip_h1_title": false,
   "title_cell": "Table of Contents",
   "title_sidebar": "Contents",
   "toc_cell": false,
   "toc_position": {
    "height": "calc(100% - 180px)",
    "left": "10px",
    "top": "150px",
    "width": "302.398px"
   },
   "toc_section_display": true,
   "toc_window_display": true
  }
 },
 "nbformat": 4,
 "nbformat_minor": 5
}
