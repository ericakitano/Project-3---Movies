{
 "cells": [
  {
   "cell_type": "markdown",
   "id": "238b1437",
   "metadata": {},
   "source": [
    "# Import Library"
   ]
  },
  {
   "cell_type": "code",
   "execution_count": 1,
   "id": "a70d9d33",
   "metadata": {},
   "outputs": [],
   "source": [
    "# Standard Imports\n",
    "import numpy as np\n",
    "import pandas as pd\n",
    "\n",
    "# Additional Imports\n",
    "import os, json, math, time\n",
    "import tmdbsimple as tmdb\n",
    "from tqdm.notebook import tqdm_notebook"
   ]
  },
  {
   "cell_type": "markdown",
   "id": "3e5503ba",
   "metadata": {},
   "source": [
    "# Load Credentials and Create Movie Object"
   ]
  },
  {
   "cell_type": "code",
   "execution_count": 2,
   "id": "93d3e122",
   "metadata": {},
   "outputs": [
    {
     "data": {
      "text/plain": [
       "dict_keys(['API-key'])"
      ]
     },
     "execution_count": 2,
     "metadata": {},
     "output_type": "execute_result"
    }
   ],
   "source": [
    "import json\n",
    "with open('/Users/ericakitano/.secret/tmdb_api.json', 'r') as f:\n",
    "    login = json.load(f)\n",
    "## Display the keys of the loaded dict\n",
    "login.keys()"
   ]
  },
  {
   "cell_type": "code",
   "execution_count": 3,
   "id": "43e0d653",
   "metadata": {},
   "outputs": [],
   "source": [
    "# Log-in to TMDB using my API-key\n",
    "tmdb.API_KEY =  login['API-key']"
   ]
  },
  {
   "cell_type": "code",
   "execution_count": 4,
   "id": "c51144cc",
   "metadata": {},
   "outputs": [],
   "source": [
    "## make a movie object using the .Movies function from tmdb\n",
    "movie = tmdb.Movies(603)"
   ]
  },
  {
   "cell_type": "markdown",
   "id": "094e94e5",
   "metadata": {},
   "source": [
    "# Obtain Certification Data from `releases()`"
   ]
  },
  {
   "cell_type": "markdown",
   "id": "47c5a027",
   "metadata": {},
   "source": [
    "## Define `get_movie_with_rating` function"
   ]
  },
  {
   "cell_type": "code",
   "execution_count": 7,
   "id": "80f1dfd4",
   "metadata": {},
   "outputs": [],
   "source": [
    "def get_movie_with_rating(movie_id):\n",
    "    \n",
    "    # Get the movie object for the current id\n",
    "    movie = tmdb.Movies(movie_id)\n",
    "    \n",
    "    # save the .info .releases dictionaries\n",
    "    info=movie.info()\n",
    "    \n",
    "    releases = movie.releases()\n",
    "    \n",
    "    #Loop through countries in releases\n",
    "    for c in releases['countries']:\n",
    "        #if the country is US\n",
    "        if c['iso_3166_1'] == 'US':\n",
    "            # save a \"certification\" key in \"info\" with the certification\n",
    "            info['certification'] = c['certification']\n",
    "    return info\n"
   ]
  },
  {
   "cell_type": "markdown",
   "id": "2e289cc5",
   "metadata": {},
   "source": [
    "## Test `get_movie_with_rating` function"
   ]
  },
  {
   "cell_type": "markdown",
   "id": "f4cacc3d",
   "metadata": {},
   "source": [
    "### Test#1: movie_id: tt0848228 (\"The Avengers\")"
   ]
  },
  {
   "cell_type": "code",
   "execution_count": 8,
   "id": "549c564e",
   "metadata": {},
   "outputs": [
    {
     "data": {
      "text/plain": [
       "{'adult': False,\n",
       " 'backdrop_path': '/9BBTo63ANSmhC4e6r62OJFuK2GL.jpg',\n",
       " 'belongs_to_collection': {'id': 86311,\n",
       "  'name': 'The Avengers Collection',\n",
       "  'poster_path': '/yFSIUVTCvgYrpalUktulvk3Gi5Y.jpg',\n",
       "  'backdrop_path': '/zuW6fOiusv4X9nnW3paHGfXcSll.jpg'},\n",
       " 'budget': 220000000,\n",
       " 'genres': [{'id': 878, 'name': 'Science Fiction'},\n",
       "  {'id': 28, 'name': 'Action'},\n",
       "  {'id': 12, 'name': 'Adventure'}],\n",
       " 'homepage': 'https://www.marvel.com/movies/the-avengers',\n",
       " 'id': 24428,\n",
       " 'imdb_id': 'tt0848228',\n",
       " 'original_language': 'en',\n",
       " 'original_title': 'The Avengers',\n",
       " 'overview': 'When an unexpected enemy emerges and threatens global safety and security, Nick Fury, director of the international peacekeeping agency known as S.H.I.E.L.D., finds himself in need of a team to pull the world back from the brink of disaster. Spanning the globe, a daring recruitment effort begins!',\n",
       " 'popularity': 220.336,\n",
       " 'poster_path': '/RYMX2wcKCBAr24UyPD7xwmjaTn.jpg',\n",
       " 'production_companies': [{'id': 420,\n",
       "   'logo_path': '/hUzeosd33nzE5MCNsZxCGEKTXaQ.png',\n",
       "   'name': 'Marvel Studios',\n",
       "   'origin_country': 'US'}],\n",
       " 'production_countries': [{'iso_3166_1': 'US',\n",
       "   'name': 'United States of America'}],\n",
       " 'release_date': '2012-04-25',\n",
       " 'revenue': 1518815515,\n",
       " 'runtime': 143,\n",
       " 'spoken_languages': [{'english_name': 'English',\n",
       "   'iso_639_1': 'en',\n",
       "   'name': 'English'},\n",
       "  {'english_name': 'Hindi', 'iso_639_1': 'hi', 'name': 'हिन्दी'},\n",
       "  {'english_name': 'Russian', 'iso_639_1': 'ru', 'name': 'Pусский'}],\n",
       " 'status': 'Released',\n",
       " 'tagline': 'Some assembly required.',\n",
       " 'title': 'The Avengers',\n",
       " 'video': False,\n",
       " 'vote_average': 7.709,\n",
       " 'vote_count': 28790,\n",
       " 'certification': 'PG-13'}"
      ]
     },
     "execution_count": 8,
     "metadata": {},
     "output_type": "execute_result"
    }
   ],
   "source": [
    "# Test get_movie_with_rating function with movie_id: tt0848228 (\"The Avengers\")\n",
    "test = get_movie_with_rating(\"tt0848228\")\n",
    "test"
   ]
  },
  {
   "cell_type": "markdown",
   "id": "76291b3c",
   "metadata": {},
   "source": [
    "Verified that `info` now contains `certification` key. "
   ]
  },
  {
   "cell_type": "markdown",
   "id": "4033aff0",
   "metadata": {},
   "source": [
    "### Test#2 : movie_id: tt0332280 (\"The Notebook\")"
   ]
  },
  {
   "cell_type": "code",
   "execution_count": 9,
   "id": "db5791d8",
   "metadata": {},
   "outputs": [
    {
     "data": {
      "text/plain": [
       "{'adult': False,\n",
       " 'backdrop_path': '/qom1SZSENdmHFNZBXbtJAU0WTlC.jpg',\n",
       " 'belongs_to_collection': None,\n",
       " 'budget': 29000000,\n",
       " 'genres': [{'id': 10749, 'name': 'Romance'}, {'id': 18, 'name': 'Drama'}],\n",
       " 'homepage': 'http://www.newline.com/properties/notebookthe.html',\n",
       " 'id': 11036,\n",
       " 'imdb_id': 'tt0332280',\n",
       " 'original_language': 'en',\n",
       " 'original_title': 'The Notebook',\n",
       " 'overview': \"An epic love story centered around an older man who reads aloud to a woman with Alzheimer's. From a faded notebook, the old man's words bring to life the story about a couple who is separated by World War II, and is then passionately reunited, seven years later, after they have taken different paths.\",\n",
       " 'popularity': 61.45,\n",
       " 'poster_path': '/rNzQyW4f8B8cQeg7Dgj3n6eT5k9.jpg',\n",
       " 'production_companies': [{'id': 12,\n",
       "   'logo_path': '/5ThIuO93vsk47oexKTSdfKEr7EC.png',\n",
       "   'name': 'New Line Cinema',\n",
       "   'origin_country': 'US'},\n",
       "  {'id': 1565, 'logo_path': None, 'name': 'Avery Pix', 'origin_country': 'US'},\n",
       "  {'id': 2605,\n",
       "   'logo_path': None,\n",
       "   'name': 'Gran Via Productions',\n",
       "   'origin_country': 'US'}],\n",
       " 'production_countries': [{'iso_3166_1': 'US',\n",
       "   'name': 'United States of America'}],\n",
       " 'release_date': '2004-06-25',\n",
       " 'revenue': 115603229,\n",
       " 'runtime': 123,\n",
       " 'spoken_languages': [{'english_name': 'English',\n",
       "   'iso_639_1': 'en',\n",
       "   'name': 'English'}],\n",
       " 'status': 'Released',\n",
       " 'tagline': 'Behind every great love is a great story.',\n",
       " 'title': 'The Notebook',\n",
       " 'video': False,\n",
       " 'vote_average': 7.88,\n",
       " 'vote_count': 10399,\n",
       " 'certification': 'PG-13'}"
      ]
     },
     "execution_count": 9,
     "metadata": {},
     "output_type": "execute_result"
    }
   ],
   "source": [
    "# Test get_movie_with_rating function with movie_id: tt0332280 (\"The Notebook\")\n",
    "test2 = get_movie_with_rating(\"tt0332280\")\n",
    "test2"
   ]
  },
  {
   "cell_type": "markdown",
   "id": "f0297af0",
   "metadata": {},
   "source": [
    "Verified that the `get_movie_with_rating` function is working."
   ]
  },
  {
   "cell_type": "markdown",
   "id": "e72edd3a",
   "metadata": {},
   "source": [
    "# Obtain Financial Data"
   ]
  },
  {
   "cell_type": "markdown",
   "id": "62e8c684",
   "metadata": {},
   "source": [
    "### Designate a folder to save data obtained from API calls"
   ]
  },
  {
   "cell_type": "code",
   "execution_count": 10,
   "id": "410bf3d1",
   "metadata": {},
   "outputs": [
    {
     "data": {
      "text/plain": [
       "['title_basics.csv.gz', 'title_akas.csv.gz', 'title_ratings.csv.gz']"
      ]
     },
     "execution_count": 10,
     "metadata": {},
     "output_type": "execute_result"
    }
   ],
   "source": [
    "FOLDER = \"Data/\"\n",
    "os.makedirs(FOLDER, exist_ok=True)\n",
    "os.listdir(FOLDER)"
   ]
  },
  {
   "cell_type": "markdown",
   "id": "12984dd5",
   "metadata": {},
   "source": [
    "### Define `write_json` function"
   ]
  },
  {
   "cell_type": "markdown",
   "id": "62f440a3",
   "metadata": {},
   "source": [
    "This function appends a list of records to a json file."
   ]
  },
  {
   "cell_type": "code",
   "execution_count": 11,
   "id": "caf2070c",
   "metadata": {},
   "outputs": [],
   "source": [
    "def write_json(new_data, filename): \n",
    "    \"\"\"Appends a list of records (new_data) to a json file (filename). \n",
    "    Adapted from: https://www.geeksforgeeks.org/append-to-json-file-using-python/\"\"\"  \n",
    "    \n",
    "    with open(filename,'r+') as file:\n",
    "        # First we load existing data into a dict.\n",
    "        file_data = json.load(file)\n",
    "        ## Choose extend or append\n",
    "        if (type(new_data) == list) & (type(file_data) == list):\n",
    "            file_data.extend(new_data)\n",
    "        else:\n",
    "             file_data.append(new_data)\n",
    "        # Sets file's current position at offset.\n",
    "        file.seek(0)\n",
    "        # convert back to json.\n",
    "        json.dump(file_data, file)"
   ]
  },
  {
   "cell_type": "markdown",
   "id": "44fe2270",
   "metadata": {},
   "source": [
    "### Load in the Title Basics data"
   ]
  },
  {
   "cell_type": "code",
   "execution_count": 12,
   "id": "af869907",
   "metadata": {},
   "outputs": [],
   "source": [
    "# Load in the dataframe from project part 1 as basics:\n",
    "basics = pd.read_csv(\"Data/title_basics.csv.gz\")"
   ]
  },
  {
   "cell_type": "markdown",
   "id": "d0f996db",
   "metadata": {},
   "source": [
    "### Define a list of the Years to Extract from the API"
   ]
  },
  {
   "cell_type": "markdown",
   "id": "145dbccc",
   "metadata": {},
   "source": [
    "Create Required Lists for the Outer Loop"
   ]
  },
  {
   "cell_type": "code",
   "execution_count": 13,
   "id": "9f27a928",
   "metadata": {},
   "outputs": [],
   "source": [
    "YEARS_TO_GET = [2000,2001]"
   ]
  },
  {
   "cell_type": "markdown",
   "id": "270f60ab",
   "metadata": {},
   "source": [
    "### Define an errors list"
   ]
  },
  {
   "cell_type": "markdown",
   "id": "04336672",
   "metadata": {},
   "source": [
    "Create an empty errors list before the loops so that we can append and save the ids and error messages for any movie that causes an error. "
   ]
  },
  {
   "cell_type": "code",
   "execution_count": 14,
   "id": "1c685865",
   "metadata": {},
   "outputs": [],
   "source": [
    "errors = [ ]"
   ]
  },
  {
   "cell_type": "markdown",
   "id": "7e1bf839",
   "metadata": {},
   "source": [
    "### Nested For Loops to obtain data and store"
   ]
  },
  {
   "cell_type": "code",
   "execution_count": 17,
   "id": "f1369f97",
   "metadata": {},
   "outputs": [
    {
     "data": {
      "application/vnd.jupyter.widget-view+json": {
       "model_id": "4e0d0214dbb24c36b0486fb7274a7fa7",
       "version_major": 2,
       "version_minor": 0
      },
      "text/plain": [
       "YEARS:   0%|          | 0/2 [00:00<?, ?it/s]"
      ]
     },
     "metadata": {},
     "output_type": "display_data"
    },
    {
     "data": {
      "application/vnd.jupyter.widget-view+json": {
       "model_id": "96a5d28503c74d07a64ae1c6417fff86",
       "version_major": 2,
       "version_minor": 0
      },
      "text/plain": [
       "Movies from 2000:   0%|          | 0/207 [00:00<?, ?it/s]"
      ]
     },
     "metadata": {},
     "output_type": "display_data"
    },
    {
     "data": {
      "application/vnd.jupyter.widget-view+json": {
       "model_id": "e812f28620464aee89c367b68d719bc2",
       "version_major": 2,
       "version_minor": 0
      },
      "text/plain": [
       "Movies from 2001:   0%|          | 0/539 [00:00<?, ?it/s]"
      ]
     },
     "metadata": {},
     "output_type": "display_data"
    }
   ],
   "source": [
    "# Start of OUTER loop\n",
    "\n",
    "## Set up Progress Bar which will iterate through each year that is defined in the YEARS_TO_GET variable.\n",
    "for YEAR in tqdm_notebook(YEARS_TO_GET, desc='YEARS', position=0):\n",
    "    \n",
    "    #Defining the JSON file to store results for year\n",
    "    JSON_FILE = f'{FOLDER}tmdb_api_results_{YEAR}.json'\n",
    "    \n",
    "    # Check if file exists\n",
    "    file_exists = os.path.isfile(JSON_FILE)\n",
    "    \n",
    "    # If it does not exist: create it\n",
    "    if file_exists == False:\n",
    "        # save an empty dict with just \"imdb_id\" to the new json file.\n",
    "        with open(JSON_FILE,'w') as f:\n",
    "            json.dump([{'imdb_id':0}],f)\n",
    "            \n",
    "    #Saving new year as the current df\n",
    "    df = basics.loc[ basics['startYear']==YEAR].copy()\n",
    "    # saving movie ids to list\n",
    "    movie_ids = df['tconst'].copy()\n",
    "            \n",
    "    # Load existing data from json into a dataframe called \"previous_df\"\n",
    "    previous_df = pd.read_json(JSON_FILE)\n",
    "            \n",
    "    # filter out any ids that are already in the JSON_FILE\n",
    "    movie_ids_to_get = movie_ids[~movie_ids.isin(previous_df['imdb_id'])]\n",
    "            \n",
    "    ## Start INNER Loop\n",
    "    \n",
    "    #Get index and movie id from list\n",
    "    for movie_id in tqdm_notebook(movie_ids_to_get,\n",
    "                                  desc=f'Movies from {YEAR}',\n",
    "                                  position=1,\n",
    "                                  leave=True):\n",
    "        try:\n",
    "            # Retrieve then data for the movie id\n",
    "            temp = get_movie_with_rating(movie_id)  \n",
    "            # Append/extend results to existing file using a pre-made function\n",
    "            write_json(temp,JSON_FILE)\n",
    "            # Short 20 ms sleep to prevent overwhelming server\n",
    "            time.sleep(0.02)\n",
    "            \n",
    "        except Exception as e:\n",
    "            errors.append([movie_id, e])\n",
    "            \n",
    "        # Save the year's results as csv.gz file\n",
    "        final_year_df = pd.read_json(JSON_FILE)\n",
    "        final_year_df.to_csv(f\"{FOLDER}final_tmdb_data_{YEAR}.csv.gz\", compression=\"gzip\", index=False)"
   ]
  },
  {
   "cell_type": "code",
   "execution_count": 18,
   "id": "d259bacc",
   "metadata": {},
   "outputs": [
    {
     "name": "stdout",
     "output_type": "stream",
     "text": [
      "- Total errors: 721\n"
     ]
    }
   ],
   "source": [
    "# Print a message reporting back the number of movie ids that caused an error.\n",
    "print(f\"- Total errors: {len(errors)}\")"
   ]
  },
  {
   "cell_type": "markdown",
   "id": "f7d3c836",
   "metadata": {},
   "source": [
    "# Check the retrieved data"
   ]
  },
  {
   "cell_type": "code",
   "execution_count": 19,
   "id": "beb1a978",
   "metadata": {},
   "outputs": [
    {
     "data": {
      "text/html": [
       "<div>\n",
       "<style scoped>\n",
       "    .dataframe tbody tr th:only-of-type {\n",
       "        vertical-align: middle;\n",
       "    }\n",
       "\n",
       "    .dataframe tbody tr th {\n",
       "        vertical-align: top;\n",
       "    }\n",
       "\n",
       "    .dataframe thead th {\n",
       "        text-align: right;\n",
       "    }\n",
       "</style>\n",
       "<table border=\"1\" class=\"dataframe\">\n",
       "  <thead>\n",
       "    <tr style=\"text-align: right;\">\n",
       "      <th></th>\n",
       "      <th>imdb_id</th>\n",
       "      <th>adult</th>\n",
       "      <th>backdrop_path</th>\n",
       "      <th>belongs_to_collection</th>\n",
       "      <th>budget</th>\n",
       "      <th>genres</th>\n",
       "      <th>homepage</th>\n",
       "      <th>id</th>\n",
       "      <th>original_language</th>\n",
       "      <th>original_title</th>\n",
       "      <th>...</th>\n",
       "      <th>revenue</th>\n",
       "      <th>runtime</th>\n",
       "      <th>spoken_languages</th>\n",
       "      <th>status</th>\n",
       "      <th>tagline</th>\n",
       "      <th>title</th>\n",
       "      <th>video</th>\n",
       "      <th>vote_average</th>\n",
       "      <th>vote_count</th>\n",
       "      <th>certification</th>\n",
       "    </tr>\n",
       "  </thead>\n",
       "  <tbody>\n",
       "    <tr>\n",
       "      <th>0</th>\n",
       "      <td>0</td>\n",
       "      <td>NaN</td>\n",
       "      <td>NaN</td>\n",
       "      <td>NaN</td>\n",
       "      <td>NaN</td>\n",
       "      <td>NaN</td>\n",
       "      <td>NaN</td>\n",
       "      <td>NaN</td>\n",
       "      <td>NaN</td>\n",
       "      <td>NaN</td>\n",
       "      <td>...</td>\n",
       "      <td>NaN</td>\n",
       "      <td>NaN</td>\n",
       "      <td>NaN</td>\n",
       "      <td>NaN</td>\n",
       "      <td>NaN</td>\n",
       "      <td>NaN</td>\n",
       "      <td>NaN</td>\n",
       "      <td>NaN</td>\n",
       "      <td>NaN</td>\n",
       "      <td>NaN</td>\n",
       "    </tr>\n",
       "    <tr>\n",
       "      <th>1</th>\n",
       "      <td>tt0113026</td>\n",
       "      <td>0.0</td>\n",
       "      <td>/vMFs7nw6P0bIV1jDsQpxAieAVnH.jpg</td>\n",
       "      <td>NaN</td>\n",
       "      <td>10000000.0</td>\n",
       "      <td>[{'id': 35, 'name': 'Comedy'}, {'id': 10402, '...</td>\n",
       "      <td>NaN</td>\n",
       "      <td>62127.0</td>\n",
       "      <td>en</td>\n",
       "      <td>The Fantasticks</td>\n",
       "      <td>...</td>\n",
       "      <td>0.0</td>\n",
       "      <td>86.0</td>\n",
       "      <td>[{'english_name': 'English', 'iso_639_1': 'en'...</td>\n",
       "      <td>Released</td>\n",
       "      <td>Try to remember the first time magic happened</td>\n",
       "      <td>The Fantasticks</td>\n",
       "      <td>0.0</td>\n",
       "      <td>5.5</td>\n",
       "      <td>22.0</td>\n",
       "      <td>NaN</td>\n",
       "    </tr>\n",
       "    <tr>\n",
       "      <th>2</th>\n",
       "      <td>tt0113092</td>\n",
       "      <td>0.0</td>\n",
       "      <td>NaN</td>\n",
       "      <td>NaN</td>\n",
       "      <td>0.0</td>\n",
       "      <td>[{'id': 878, 'name': 'Science Fiction'}]</td>\n",
       "      <td>NaN</td>\n",
       "      <td>110977.0</td>\n",
       "      <td>en</td>\n",
       "      <td>For the Cause</td>\n",
       "      <td>...</td>\n",
       "      <td>0.0</td>\n",
       "      <td>100.0</td>\n",
       "      <td>[{'english_name': 'English', 'iso_639_1': 'en'...</td>\n",
       "      <td>Released</td>\n",
       "      <td>The ultimate showdown on a forbidden planet.</td>\n",
       "      <td>For the Cause</td>\n",
       "      <td>0.0</td>\n",
       "      <td>5.1</td>\n",
       "      <td>8.0</td>\n",
       "      <td>NaN</td>\n",
       "    </tr>\n",
       "    <tr>\n",
       "      <th>3</th>\n",
       "      <td>tt0116391</td>\n",
       "      <td>0.0</td>\n",
       "      <td>NaN</td>\n",
       "      <td>NaN</td>\n",
       "      <td>0.0</td>\n",
       "      <td>[{'id': 18, 'name': 'Drama'}, {'id': 28, 'name...</td>\n",
       "      <td>NaN</td>\n",
       "      <td>442869.0</td>\n",
       "      <td>hi</td>\n",
       "      <td>Gang</td>\n",
       "      <td>...</td>\n",
       "      <td>0.0</td>\n",
       "      <td>152.0</td>\n",
       "      <td>[{'english_name': 'Hindi', 'iso_639_1': 'hi', ...</td>\n",
       "      <td>Released</td>\n",
       "      <td>NaN</td>\n",
       "      <td>Gang</td>\n",
       "      <td>0.0</td>\n",
       "      <td>4.0</td>\n",
       "      <td>1.0</td>\n",
       "      <td>NaN</td>\n",
       "    </tr>\n",
       "    <tr>\n",
       "      <th>4</th>\n",
       "      <td>tt0118694</td>\n",
       "      <td>0.0</td>\n",
       "      <td>/n4GJFGzsc7NinI1VeGDXIcQjtU2.jpg</td>\n",
       "      <td>{'id': 1131062, 'name': 'Wong Kar-Wai’s Love T...</td>\n",
       "      <td>150000.0</td>\n",
       "      <td>[{'id': 18, 'name': 'Drama'}, {'id': 10749, 'n...</td>\n",
       "      <td>NaN</td>\n",
       "      <td>843.0</td>\n",
       "      <td>cn</td>\n",
       "      <td>花樣年華</td>\n",
       "      <td>...</td>\n",
       "      <td>14204632.0</td>\n",
       "      <td>99.0</td>\n",
       "      <td>[{'english_name': 'Cantonese', 'iso_639_1': 'c...</td>\n",
       "      <td>Released</td>\n",
       "      <td>Feel the heat, keep the feeling burning, let t...</td>\n",
       "      <td>In the Mood for Love</td>\n",
       "      <td>0.0</td>\n",
       "      <td>8.1</td>\n",
       "      <td>2244.0</td>\n",
       "      <td>PG</td>\n",
       "    </tr>\n",
       "  </tbody>\n",
       "</table>\n",
       "<p>5 rows × 26 columns</p>\n",
       "</div>"
      ],
      "text/plain": [
       "     imdb_id  adult                     backdrop_path  \\\n",
       "0          0    NaN                               NaN   \n",
       "1  tt0113026    0.0  /vMFs7nw6P0bIV1jDsQpxAieAVnH.jpg   \n",
       "2  tt0113092    0.0                               NaN   \n",
       "3  tt0116391    0.0                               NaN   \n",
       "4  tt0118694    0.0  /n4GJFGzsc7NinI1VeGDXIcQjtU2.jpg   \n",
       "\n",
       "                               belongs_to_collection      budget  \\\n",
       "0                                                NaN         NaN   \n",
       "1                                                NaN  10000000.0   \n",
       "2                                                NaN         0.0   \n",
       "3                                                NaN         0.0   \n",
       "4  {'id': 1131062, 'name': 'Wong Kar-Wai’s Love T...    150000.0   \n",
       "\n",
       "                                              genres homepage        id  \\\n",
       "0                                                NaN      NaN       NaN   \n",
       "1  [{'id': 35, 'name': 'Comedy'}, {'id': 10402, '...      NaN   62127.0   \n",
       "2           [{'id': 878, 'name': 'Science Fiction'}]      NaN  110977.0   \n",
       "3  [{'id': 18, 'name': 'Drama'}, {'id': 28, 'name...      NaN  442869.0   \n",
       "4  [{'id': 18, 'name': 'Drama'}, {'id': 10749, 'n...      NaN     843.0   \n",
       "\n",
       "  original_language   original_title  ...     revenue  runtime  \\\n",
       "0               NaN              NaN  ...         NaN      NaN   \n",
       "1                en  The Fantasticks  ...         0.0     86.0   \n",
       "2                en    For the Cause  ...         0.0    100.0   \n",
       "3                hi             Gang  ...         0.0    152.0   \n",
       "4                cn             花樣年華  ...  14204632.0     99.0   \n",
       "\n",
       "                                    spoken_languages    status  \\\n",
       "0                                                NaN       NaN   \n",
       "1  [{'english_name': 'English', 'iso_639_1': 'en'...  Released   \n",
       "2  [{'english_name': 'English', 'iso_639_1': 'en'...  Released   \n",
       "3  [{'english_name': 'Hindi', 'iso_639_1': 'hi', ...  Released   \n",
       "4  [{'english_name': 'Cantonese', 'iso_639_1': 'c...  Released   \n",
       "\n",
       "                                             tagline                 title  \\\n",
       "0                                                NaN                   NaN   \n",
       "1      Try to remember the first time magic happened       The Fantasticks   \n",
       "2       The ultimate showdown on a forbidden planet.         For the Cause   \n",
       "3                                                NaN                  Gang   \n",
       "4  Feel the heat, keep the feeling burning, let t...  In the Mood for Love   \n",
       "\n",
       "   video  vote_average vote_count certification  \n",
       "0    NaN           NaN        NaN           NaN  \n",
       "1    0.0           5.5       22.0           NaN  \n",
       "2    0.0           5.1        8.0           NaN  \n",
       "3    0.0           4.0        1.0           NaN  \n",
       "4    0.0           8.1     2244.0            PG  \n",
       "\n",
       "[5 rows x 26 columns]"
      ]
     },
     "execution_count": 19,
     "metadata": {},
     "output_type": "execute_result"
    }
   ],
   "source": [
    "final_tmdb_data_2000 = pd.read_csv('Data/final_tmdb_data_2000.csv.gz')\n",
    "final_tmdb_data_2000.head()"
   ]
  },
  {
   "cell_type": "code",
   "execution_count": 20,
   "id": "62989110",
   "metadata": {},
   "outputs": [
    {
     "data": {
      "text/html": [
       "<div>\n",
       "<style scoped>\n",
       "    .dataframe tbody tr th:only-of-type {\n",
       "        vertical-align: middle;\n",
       "    }\n",
       "\n",
       "    .dataframe tbody tr th {\n",
       "        vertical-align: top;\n",
       "    }\n",
       "\n",
       "    .dataframe thead th {\n",
       "        text-align: right;\n",
       "    }\n",
       "</style>\n",
       "<table border=\"1\" class=\"dataframe\">\n",
       "  <thead>\n",
       "    <tr style=\"text-align: right;\">\n",
       "      <th></th>\n",
       "      <th>imdb_id</th>\n",
       "      <th>adult</th>\n",
       "      <th>backdrop_path</th>\n",
       "      <th>belongs_to_collection</th>\n",
       "      <th>budget</th>\n",
       "      <th>genres</th>\n",
       "      <th>homepage</th>\n",
       "      <th>id</th>\n",
       "      <th>original_language</th>\n",
       "      <th>original_title</th>\n",
       "      <th>...</th>\n",
       "      <th>revenue</th>\n",
       "      <th>runtime</th>\n",
       "      <th>spoken_languages</th>\n",
       "      <th>status</th>\n",
       "      <th>tagline</th>\n",
       "      <th>title</th>\n",
       "      <th>video</th>\n",
       "      <th>vote_average</th>\n",
       "      <th>vote_count</th>\n",
       "      <th>certification</th>\n",
       "    </tr>\n",
       "  </thead>\n",
       "  <tbody>\n",
       "    <tr>\n",
       "      <th>0</th>\n",
       "      <td>0</td>\n",
       "      <td>NaN</td>\n",
       "      <td>NaN</td>\n",
       "      <td>NaN</td>\n",
       "      <td>NaN</td>\n",
       "      <td>NaN</td>\n",
       "      <td>NaN</td>\n",
       "      <td>NaN</td>\n",
       "      <td>NaN</td>\n",
       "      <td>NaN</td>\n",
       "      <td>...</td>\n",
       "      <td>NaN</td>\n",
       "      <td>NaN</td>\n",
       "      <td>NaN</td>\n",
       "      <td>NaN</td>\n",
       "      <td>NaN</td>\n",
       "      <td>NaN</td>\n",
       "      <td>NaN</td>\n",
       "      <td>NaN</td>\n",
       "      <td>NaN</td>\n",
       "      <td>NaN</td>\n",
       "    </tr>\n",
       "    <tr>\n",
       "      <th>1</th>\n",
       "      <td>tt0035423</td>\n",
       "      <td>0.0</td>\n",
       "      <td>/hfeiSfWYujh6MKhtGTXyK3DD4nN.jpg</td>\n",
       "      <td>NaN</td>\n",
       "      <td>48000000.0</td>\n",
       "      <td>[{'id': 10749, 'name': 'Romance'}, {'id': 14, ...</td>\n",
       "      <td>NaN</td>\n",
       "      <td>11232.0</td>\n",
       "      <td>en</td>\n",
       "      <td>Kate &amp; Leopold</td>\n",
       "      <td>...</td>\n",
       "      <td>76019048.0</td>\n",
       "      <td>118.0</td>\n",
       "      <td>[{'english_name': 'English', 'iso_639_1': 'en'...</td>\n",
       "      <td>Released</td>\n",
       "      <td>If they lived in the same century, they'd be p...</td>\n",
       "      <td>Kate &amp; Leopold</td>\n",
       "      <td>0.0</td>\n",
       "      <td>6.3</td>\n",
       "      <td>1198.0</td>\n",
       "      <td>PG-13</td>\n",
       "    </tr>\n",
       "    <tr>\n",
       "      <th>2</th>\n",
       "      <td>tt0114447</td>\n",
       "      <td>0.0</td>\n",
       "      <td>NaN</td>\n",
       "      <td>NaN</td>\n",
       "      <td>0.0</td>\n",
       "      <td>[{'id': 53, 'name': 'Thriller'}, {'id': 28, 'n...</td>\n",
       "      <td>NaN</td>\n",
       "      <td>151007.0</td>\n",
       "      <td>en</td>\n",
       "      <td>The Silent Force</td>\n",
       "      <td>...</td>\n",
       "      <td>0.0</td>\n",
       "      <td>90.0</td>\n",
       "      <td>[{'english_name': 'English', 'iso_639_1': 'en'...</td>\n",
       "      <td>Released</td>\n",
       "      <td>They left him for dead... They should have fin...</td>\n",
       "      <td>The Silent Force</td>\n",
       "      <td>0.0</td>\n",
       "      <td>5.0</td>\n",
       "      <td>3.0</td>\n",
       "      <td>NaN</td>\n",
       "    </tr>\n",
       "    <tr>\n",
       "      <th>3</th>\n",
       "      <td>tt0116916</td>\n",
       "      <td>0.0</td>\n",
       "      <td>/rFpHBidSlhjflmnLu7BZilyKeQR.jpg</td>\n",
       "      <td>NaN</td>\n",
       "      <td>0.0</td>\n",
       "      <td>[{'id': 28, 'name': 'Action'}, {'id': 12, 'nam...</td>\n",
       "      <td>NaN</td>\n",
       "      <td>73549.0</td>\n",
       "      <td>en</td>\n",
       "      <td>The Dark Mist</td>\n",
       "      <td>...</td>\n",
       "      <td>0.0</td>\n",
       "      <td>101.0</td>\n",
       "      <td>[{'english_name': 'English', 'iso_639_1': 'en'...</td>\n",
       "      <td>Released</td>\n",
       "      <td>NaN</td>\n",
       "      <td>The Dark Mist</td>\n",
       "      <td>0.0</td>\n",
       "      <td>3.5</td>\n",
       "      <td>2.0</td>\n",
       "      <td>PG</td>\n",
       "    </tr>\n",
       "    <tr>\n",
       "      <th>4</th>\n",
       "      <td>tt0118589</td>\n",
       "      <td>0.0</td>\n",
       "      <td>/9NZAirJahVilTiDNCHLFcdkwkiy.jpg</td>\n",
       "      <td>NaN</td>\n",
       "      <td>22000000.0</td>\n",
       "      <td>[{'id': 18, 'name': 'Drama'}, {'id': 10402, 'n...</td>\n",
       "      <td>NaN</td>\n",
       "      <td>10696.0</td>\n",
       "      <td>en</td>\n",
       "      <td>Glitter</td>\n",
       "      <td>...</td>\n",
       "      <td>5271666.0</td>\n",
       "      <td>104.0</td>\n",
       "      <td>[{'english_name': 'English', 'iso_639_1': 'en'...</td>\n",
       "      <td>Released</td>\n",
       "      <td>In music she found her dream, her love, herself.</td>\n",
       "      <td>Glitter</td>\n",
       "      <td>0.0</td>\n",
       "      <td>4.5</td>\n",
       "      <td>126.0</td>\n",
       "      <td>PG-13</td>\n",
       "    </tr>\n",
       "  </tbody>\n",
       "</table>\n",
       "<p>5 rows × 26 columns</p>\n",
       "</div>"
      ],
      "text/plain": [
       "     imdb_id  adult                     backdrop_path belongs_to_collection  \\\n",
       "0          0    NaN                               NaN                   NaN   \n",
       "1  tt0035423    0.0  /hfeiSfWYujh6MKhtGTXyK3DD4nN.jpg                   NaN   \n",
       "2  tt0114447    0.0                               NaN                   NaN   \n",
       "3  tt0116916    0.0  /rFpHBidSlhjflmnLu7BZilyKeQR.jpg                   NaN   \n",
       "4  tt0118589    0.0  /9NZAirJahVilTiDNCHLFcdkwkiy.jpg                   NaN   \n",
       "\n",
       "       budget                                             genres homepage  \\\n",
       "0         NaN                                                NaN      NaN   \n",
       "1  48000000.0  [{'id': 10749, 'name': 'Romance'}, {'id': 14, ...      NaN   \n",
       "2         0.0  [{'id': 53, 'name': 'Thriller'}, {'id': 28, 'n...      NaN   \n",
       "3         0.0  [{'id': 28, 'name': 'Action'}, {'id': 12, 'nam...      NaN   \n",
       "4  22000000.0  [{'id': 18, 'name': 'Drama'}, {'id': 10402, 'n...      NaN   \n",
       "\n",
       "         id original_language    original_title  ...     revenue  runtime  \\\n",
       "0       NaN               NaN               NaN  ...         NaN      NaN   \n",
       "1   11232.0                en    Kate & Leopold  ...  76019048.0    118.0   \n",
       "2  151007.0                en  The Silent Force  ...         0.0     90.0   \n",
       "3   73549.0                en     The Dark Mist  ...         0.0    101.0   \n",
       "4   10696.0                en           Glitter  ...   5271666.0    104.0   \n",
       "\n",
       "                                    spoken_languages    status  \\\n",
       "0                                                NaN       NaN   \n",
       "1  [{'english_name': 'English', 'iso_639_1': 'en'...  Released   \n",
       "2  [{'english_name': 'English', 'iso_639_1': 'en'...  Released   \n",
       "3  [{'english_name': 'English', 'iso_639_1': 'en'...  Released   \n",
       "4  [{'english_name': 'English', 'iso_639_1': 'en'...  Released   \n",
       "\n",
       "                                             tagline             title  video  \\\n",
       "0                                                NaN               NaN    NaN   \n",
       "1  If they lived in the same century, they'd be p...    Kate & Leopold    0.0   \n",
       "2  They left him for dead... They should have fin...  The Silent Force    0.0   \n",
       "3                                                NaN     The Dark Mist    0.0   \n",
       "4   In music she found her dream, her love, herself.           Glitter    0.0   \n",
       "\n",
       "   vote_average vote_count certification  \n",
       "0           NaN        NaN           NaN  \n",
       "1           6.3     1198.0         PG-13  \n",
       "2           5.0        3.0           NaN  \n",
       "3           3.5        2.0            PG  \n",
       "4           4.5      126.0         PG-13  \n",
       "\n",
       "[5 rows x 26 columns]"
      ]
     },
     "execution_count": 20,
     "metadata": {},
     "output_type": "execute_result"
    }
   ],
   "source": [
    "final_tmdb_data_2001 = pd.read_csv('Data/final_tmdb_data_2001.csv.gz')\n",
    "final_tmdb_data_2001.head()"
   ]
  }
 ],
 "metadata": {
  "kernelspec": {
   "display_name": "Python (dojo-env)",
   "language": "python",
   "name": "dojo-env"
  },
  "language_info": {
   "codemirror_mode": {
    "name": "ipython",
    "version": 3
   },
   "file_extension": ".py",
   "mimetype": "text/x-python",
   "name": "python",
   "nbconvert_exporter": "python",
   "pygments_lexer": "ipython3",
   "version": "3.9.15"
  },
  "toc": {
   "base_numbering": 1,
   "nav_menu": {},
   "number_sections": false,
   "sideBar": true,
   "skip_h1_title": false,
   "title_cell": "Table of Contents",
   "title_sidebar": "Contents",
   "toc_cell": false,
   "toc_position": {
    "height": "calc(100% - 180px)",
    "left": "10px",
    "top": "150px",
    "width": "302.398px"
   },
   "toc_section_display": true,
   "toc_window_display": true
  }
 },
 "nbformat": 4,
 "nbformat_minor": 5
}
