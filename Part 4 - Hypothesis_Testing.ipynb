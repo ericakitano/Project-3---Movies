{
 "cells": [
  {
   "cell_type": "markdown",
   "id": "876e546f",
   "metadata": {},
   "source": [
    "# 1. Import Library"
   ]
  },
  {
   "cell_type": "code",
   "execution_count": 1,
   "id": "dd2f7c8b",
   "metadata": {},
   "outputs": [],
   "source": [
    "import pandas as pd\n",
    "import numpy as np\n",
    "import matplotlib.pyplot as plt\n",
    "import seaborn as sns\n",
    "import scipy.stats as stats"
   ]
  },
  {
   "cell_type": "markdown",
   "id": "355bf9b0",
   "metadata": {},
   "source": [
    "# 2. Load Data"
   ]
  },
  {
   "cell_type": "code",
   "execution_count": 2,
   "id": "a187788f",
   "metadata": {},
   "outputs": [
    {
     "data": {
      "text/html": [
       "<div>\n",
       "<style scoped>\n",
       "    .dataframe tbody tr th:only-of-type {\n",
       "        vertical-align: middle;\n",
       "    }\n",
       "\n",
       "    .dataframe tbody tr th {\n",
       "        vertical-align: top;\n",
       "    }\n",
       "\n",
       "    .dataframe thead th {\n",
       "        text-align: right;\n",
       "    }\n",
       "</style>\n",
       "<table border=\"1\" class=\"dataframe\">\n",
       "  <thead>\n",
       "    <tr style=\"text-align: right;\">\n",
       "      <th></th>\n",
       "      <th>adult</th>\n",
       "      <th>backdrop_path</th>\n",
       "      <th>belongs_to_collection</th>\n",
       "      <th>budget</th>\n",
       "      <th>genres</th>\n",
       "      <th>homepage</th>\n",
       "      <th>id</th>\n",
       "      <th>original_language</th>\n",
       "      <th>original_title</th>\n",
       "      <th>overview</th>\n",
       "      <th>...</th>\n",
       "      <th>revenue</th>\n",
       "      <th>runtime</th>\n",
       "      <th>spoken_languages</th>\n",
       "      <th>status</th>\n",
       "      <th>tagline</th>\n",
       "      <th>title</th>\n",
       "      <th>video</th>\n",
       "      <th>vote_average</th>\n",
       "      <th>vote_count</th>\n",
       "      <th>certification</th>\n",
       "    </tr>\n",
       "  </thead>\n",
       "  <tbody>\n",
       "    <tr>\n",
       "      <th>0</th>\n",
       "      <td>NaN</td>\n",
       "      <td>NaN</td>\n",
       "      <td>NaN</td>\n",
       "      <td>NaN</td>\n",
       "      <td>NaN</td>\n",
       "      <td>NaN</td>\n",
       "      <td>NaN</td>\n",
       "      <td>NaN</td>\n",
       "      <td>NaN</td>\n",
       "      <td>NaN</td>\n",
       "      <td>...</td>\n",
       "      <td>NaN</td>\n",
       "      <td>NaN</td>\n",
       "      <td>NaN</td>\n",
       "      <td>NaN</td>\n",
       "      <td>NaN</td>\n",
       "      <td>NaN</td>\n",
       "      <td>NaN</td>\n",
       "      <td>NaN</td>\n",
       "      <td>NaN</td>\n",
       "      <td>NaN</td>\n",
       "    </tr>\n",
       "    <tr>\n",
       "      <th>1</th>\n",
       "      <td>0.0</td>\n",
       "      <td>/vMFs7nw6P0bIV1jDsQpxAieAVnH.jpg</td>\n",
       "      <td>NaN</td>\n",
       "      <td>10000000.0</td>\n",
       "      <td>[{'id': 35, 'name': 'Comedy'}, {'id': 10402, '...</td>\n",
       "      <td>NaN</td>\n",
       "      <td>62127.0</td>\n",
       "      <td>en</td>\n",
       "      <td>The Fantasticks</td>\n",
       "      <td>Two rural teens sing and dance their way throu...</td>\n",
       "      <td>...</td>\n",
       "      <td>0.0</td>\n",
       "      <td>86.0</td>\n",
       "      <td>[{'english_name': 'English', 'iso_639_1': 'en'...</td>\n",
       "      <td>Released</td>\n",
       "      <td>Try to remember the first time magic happened</td>\n",
       "      <td>The Fantasticks</td>\n",
       "      <td>0.0</td>\n",
       "      <td>5.5</td>\n",
       "      <td>22.0</td>\n",
       "      <td>NaN</td>\n",
       "    </tr>\n",
       "  </tbody>\n",
       "</table>\n",
       "<p>2 rows × 25 columns</p>\n",
       "</div>"
      ],
      "text/plain": [
       "   adult                     backdrop_path belongs_to_collection      budget  \\\n",
       "0    NaN                               NaN                   NaN         NaN   \n",
       "1    0.0  /vMFs7nw6P0bIV1jDsQpxAieAVnH.jpg                   NaN  10000000.0   \n",
       "\n",
       "                                              genres homepage       id  \\\n",
       "0                                                NaN      NaN      NaN   \n",
       "1  [{'id': 35, 'name': 'Comedy'}, {'id': 10402, '...      NaN  62127.0   \n",
       "\n",
       "  original_language   original_title  \\\n",
       "0               NaN              NaN   \n",
       "1                en  The Fantasticks   \n",
       "\n",
       "                                            overview  ...  revenue runtime  \\\n",
       "0                                                NaN  ...      NaN     NaN   \n",
       "1  Two rural teens sing and dance their way throu...  ...      0.0    86.0   \n",
       "\n",
       "                                    spoken_languages    status  \\\n",
       "0                                                NaN       NaN   \n",
       "1  [{'english_name': 'English', 'iso_639_1': 'en'...  Released   \n",
       "\n",
       "                                         tagline            title  video  \\\n",
       "0                                            NaN              NaN    NaN   \n",
       "1  Try to remember the first time magic happened  The Fantasticks    0.0   \n",
       "\n",
       "  vote_average vote_count certification  \n",
       "0          NaN        NaN           NaN  \n",
       "1          5.5       22.0           NaN  \n",
       "\n",
       "[2 rows x 25 columns]"
      ]
     },
     "execution_count": 2,
     "metadata": {},
     "output_type": "execute_result"
    }
   ],
   "source": [
    "df = pd.read_csv('Data/part4_tmdb_results_all.csv.gz', lineterminator='\\n')\n",
    "df.head(2)"
   ]
  },
  {
   "cell_type": "code",
   "execution_count": 3,
   "id": "536ff427",
   "metadata": {},
   "outputs": [
    {
     "name": "stdout",
     "output_type": "stream",
     "text": [
      "<class 'pandas.core.frame.DataFrame'>\n",
      "RangeIndex: 63148 entries, 0 to 63147\n",
      "Data columns (total 25 columns):\n",
      " #   Column                 Non-Null Count  Dtype  \n",
      "---  ------                 --------------  -----  \n",
      " 0   adult                  63126 non-null  float64\n",
      " 1   backdrop_path          40883 non-null  object \n",
      " 2   belongs_to_collection  4257 non-null   object \n",
      " 3   budget                 63126 non-null  float64\n",
      " 4   genres                 63126 non-null  object \n",
      " 5   homepage               15142 non-null  object \n",
      " 6   id                     63126 non-null  float64\n",
      " 7   original_language      63126 non-null  object \n",
      " 8   original_title         63126 non-null  object \n",
      " 9   overview               61824 non-null  object \n",
      " 10  popularity             63126 non-null  float64\n",
      " 11  poster_path            58195 non-null  object \n",
      " 12  production_companies   63126 non-null  object \n",
      " 13  production_countries   63126 non-null  object \n",
      " 14  release_date           62044 non-null  object \n",
      " 15  revenue                63126 non-null  float64\n",
      " 16  runtime                63126 non-null  float64\n",
      " 17  spoken_languages       63126 non-null  object \n",
      " 18  status                 63126 non-null  object \n",
      " 19  tagline                24146 non-null  object \n",
      " 20  title                  63126 non-null  object \n",
      " 21  video                  63126 non-null  float64\n",
      " 22  vote_average           63126 non-null  float64\n",
      " 23  vote_count             63126 non-null  float64\n",
      " 24  certification          15242 non-null  object \n",
      "dtypes: float64(9), object(16)\n",
      "memory usage: 12.0+ MB\n"
     ]
    }
   ],
   "source": [
    "df.info()"
   ]
  },
  {
   "cell_type": "markdown",
   "id": "73b93db0",
   "metadata": {},
   "source": [
    "# 3. Clean Data"
   ]
  },
  {
   "cell_type": "markdown",
   "id": "0a0e2c0d",
   "metadata": {},
   "source": [
    "## 3.1 Check & remove duplicated rows"
   ]
  },
  {
   "cell_type": "code",
   "execution_count": 4,
   "id": "d359c6b8",
   "metadata": {},
   "outputs": [
    {
     "data": {
      "text/plain": [
       "21"
      ]
     },
     "execution_count": 4,
     "metadata": {},
     "output_type": "execute_result"
    }
   ],
   "source": [
    "#check duplicates\n",
    "df.duplicated().sum()"
   ]
  },
  {
   "cell_type": "code",
   "execution_count": 5,
   "id": "297c42d8",
   "metadata": {},
   "outputs": [],
   "source": [
    "#remove duplicates\n",
    "df = df.drop_duplicates()"
   ]
  },
  {
   "cell_type": "code",
   "execution_count": 6,
   "id": "59be91aa",
   "metadata": {},
   "outputs": [
    {
     "data": {
      "text/plain": [
       "0"
      ]
     },
     "execution_count": 6,
     "metadata": {},
     "output_type": "execute_result"
    }
   ],
   "source": [
    "#check that the duplicates have been dropped\n",
    "df.duplicated().sum()"
   ]
  },
  {
   "cell_type": "markdown",
   "id": "ccea27df",
   "metadata": {},
   "source": [
    "## 3.2 Check for missing values"
   ]
  },
  {
   "cell_type": "code",
   "execution_count": 7,
   "id": "61963772",
   "metadata": {},
   "outputs": [
    {
     "data": {
      "text/plain": [
       "adult                        1\n",
       "backdrop_path            22244\n",
       "belongs_to_collection    58870\n",
       "budget                       1\n",
       "genres                       1\n",
       "homepage                 47985\n",
       "id                           1\n",
       "original_language            1\n",
       "original_title               1\n",
       "overview                  1303\n",
       "popularity                   1\n",
       "poster_path               4932\n",
       "production_companies         1\n",
       "production_countries         1\n",
       "release_date              1083\n",
       "revenue                      1\n",
       "runtime                      1\n",
       "spoken_languages             1\n",
       "status                       1\n",
       "tagline                  38981\n",
       "title                        1\n",
       "video                        1\n",
       "vote_average                 1\n",
       "vote_count                   1\n",
       "certification            47885\n",
       "dtype: int64"
      ]
     },
     "execution_count": 7,
     "metadata": {},
     "output_type": "execute_result"
    }
   ],
   "source": [
    "#check missing values in each column\n",
    "df.isna().sum()"
   ]
  },
  {
   "cell_type": "markdown",
   "id": "3ac411f3",
   "metadata": {},
   "source": [
    "**Observation**: There are many missing values in `backdrop_path`, `belongs_to_collection`, `homepage`, `tagline`, and `certification` columns.\n",
    "\n",
    "There are some missing values in `overview`, `poster_path`, and `release_date` columns."
   ]
  },
  {
   "cell_type": "markdown",
   "id": "1a0c5908",
   "metadata": {},
   "source": [
    "## 3.3 Check for unnecessary columns"
   ]
  },
  {
   "cell_type": "code",
   "execution_count": 8,
   "id": "28749b7f",
   "metadata": {},
   "outputs": [
    {
     "data": {
      "text/html": [
       "<div>\n",
       "<style scoped>\n",
       "    .dataframe tbody tr th:only-of-type {\n",
       "        vertical-align: middle;\n",
       "    }\n",
       "\n",
       "    .dataframe tbody tr th {\n",
       "        vertical-align: top;\n",
       "    }\n",
       "\n",
       "    .dataframe thead th {\n",
       "        text-align: right;\n",
       "    }\n",
       "</style>\n",
       "<table border=\"1\" class=\"dataframe\">\n",
       "  <thead>\n",
       "    <tr style=\"text-align: right;\">\n",
       "      <th></th>\n",
       "      <th>adult</th>\n",
       "      <th>backdrop_path</th>\n",
       "      <th>belongs_to_collection</th>\n",
       "      <th>budget</th>\n",
       "      <th>genres</th>\n",
       "      <th>homepage</th>\n",
       "      <th>id</th>\n",
       "      <th>original_language</th>\n",
       "      <th>original_title</th>\n",
       "      <th>overview</th>\n",
       "      <th>...</th>\n",
       "      <th>revenue</th>\n",
       "      <th>runtime</th>\n",
       "      <th>spoken_languages</th>\n",
       "      <th>status</th>\n",
       "      <th>tagline</th>\n",
       "      <th>title</th>\n",
       "      <th>video</th>\n",
       "      <th>vote_average</th>\n",
       "      <th>vote_count</th>\n",
       "      <th>certification</th>\n",
       "    </tr>\n",
       "  </thead>\n",
       "  <tbody>\n",
       "    <tr>\n",
       "      <th>0</th>\n",
       "      <td>NaN</td>\n",
       "      <td>NaN</td>\n",
       "      <td>NaN</td>\n",
       "      <td>NaN</td>\n",
       "      <td>NaN</td>\n",
       "      <td>NaN</td>\n",
       "      <td>NaN</td>\n",
       "      <td>NaN</td>\n",
       "      <td>NaN</td>\n",
       "      <td>NaN</td>\n",
       "      <td>...</td>\n",
       "      <td>NaN</td>\n",
       "      <td>NaN</td>\n",
       "      <td>NaN</td>\n",
       "      <td>NaN</td>\n",
       "      <td>NaN</td>\n",
       "      <td>NaN</td>\n",
       "      <td>NaN</td>\n",
       "      <td>NaN</td>\n",
       "      <td>NaN</td>\n",
       "      <td>NaN</td>\n",
       "    </tr>\n",
       "    <tr>\n",
       "      <th>1</th>\n",
       "      <td>0.0</td>\n",
       "      <td>/vMFs7nw6P0bIV1jDsQpxAieAVnH.jpg</td>\n",
       "      <td>NaN</td>\n",
       "      <td>10000000.0</td>\n",
       "      <td>[{'id': 35, 'name': 'Comedy'}, {'id': 10402, '...</td>\n",
       "      <td>NaN</td>\n",
       "      <td>62127.0</td>\n",
       "      <td>en</td>\n",
       "      <td>The Fantasticks</td>\n",
       "      <td>Two rural teens sing and dance their way throu...</td>\n",
       "      <td>...</td>\n",
       "      <td>0.0</td>\n",
       "      <td>86.0</td>\n",
       "      <td>[{'english_name': 'English', 'iso_639_1': 'en'...</td>\n",
       "      <td>Released</td>\n",
       "      <td>Try to remember the first time magic happened</td>\n",
       "      <td>The Fantasticks</td>\n",
       "      <td>0.0</td>\n",
       "      <td>5.5</td>\n",
       "      <td>22.0</td>\n",
       "      <td>NaN</td>\n",
       "    </tr>\n",
       "    <tr>\n",
       "      <th>2</th>\n",
       "      <td>0.0</td>\n",
       "      <td>NaN</td>\n",
       "      <td>NaN</td>\n",
       "      <td>0.0</td>\n",
       "      <td>[{'id': 878, 'name': 'Science Fiction'}]</td>\n",
       "      <td>NaN</td>\n",
       "      <td>110977.0</td>\n",
       "      <td>en</td>\n",
       "      <td>For the Cause</td>\n",
       "      <td>Earth is in a state of constant war and two co...</td>\n",
       "      <td>...</td>\n",
       "      <td>0.0</td>\n",
       "      <td>100.0</td>\n",
       "      <td>[{'english_name': 'English', 'iso_639_1': 'en'...</td>\n",
       "      <td>Released</td>\n",
       "      <td>The ultimate showdown on a forbidden planet.</td>\n",
       "      <td>For the Cause</td>\n",
       "      <td>0.0</td>\n",
       "      <td>5.1</td>\n",
       "      <td>8.0</td>\n",
       "      <td>NaN</td>\n",
       "    </tr>\n",
       "    <tr>\n",
       "      <th>3</th>\n",
       "      <td>0.0</td>\n",
       "      <td>NaN</td>\n",
       "      <td>NaN</td>\n",
       "      <td>0.0</td>\n",
       "      <td>[{'id': 18, 'name': 'Drama'}, {'id': 28, 'name...</td>\n",
       "      <td>NaN</td>\n",
       "      <td>442869.0</td>\n",
       "      <td>hi</td>\n",
       "      <td>Gang</td>\n",
       "      <td>After falling prey to underworld, four friends...</td>\n",
       "      <td>...</td>\n",
       "      <td>0.0</td>\n",
       "      <td>152.0</td>\n",
       "      <td>[{'english_name': 'Hindi', 'iso_639_1': 'hi', ...</td>\n",
       "      <td>Released</td>\n",
       "      <td>NaN</td>\n",
       "      <td>Gang</td>\n",
       "      <td>0.0</td>\n",
       "      <td>4.0</td>\n",
       "      <td>1.0</td>\n",
       "      <td>NaN</td>\n",
       "    </tr>\n",
       "    <tr>\n",
       "      <th>4</th>\n",
       "      <td>0.0</td>\n",
       "      <td>/n4GJFGzsc7NinI1VeGDXIcQjtU2.jpg</td>\n",
       "      <td>{'id': 1131062, 'name': 'Wong Kar-Wai’s Love T...</td>\n",
       "      <td>150000.0</td>\n",
       "      <td>[{'id': 18, 'name': 'Drama'}, {'id': 10749, 'n...</td>\n",
       "      <td>NaN</td>\n",
       "      <td>843.0</td>\n",
       "      <td>cn</td>\n",
       "      <td>花樣年華</td>\n",
       "      <td>Two neighbors become intimate after discoverin...</td>\n",
       "      <td>...</td>\n",
       "      <td>14204632.0</td>\n",
       "      <td>99.0</td>\n",
       "      <td>[{'english_name': 'Cantonese', 'iso_639_1': 'c...</td>\n",
       "      <td>Released</td>\n",
       "      <td>Feel the heat, keep the feeling burning, let t...</td>\n",
       "      <td>In the Mood for Love</td>\n",
       "      <td>0.0</td>\n",
       "      <td>8.1</td>\n",
       "      <td>2244.0</td>\n",
       "      <td>PG</td>\n",
       "    </tr>\n",
       "  </tbody>\n",
       "</table>\n",
       "<p>5 rows × 25 columns</p>\n",
       "</div>"
      ],
      "text/plain": [
       "   adult                     backdrop_path  \\\n",
       "0    NaN                               NaN   \n",
       "1    0.0  /vMFs7nw6P0bIV1jDsQpxAieAVnH.jpg   \n",
       "2    0.0                               NaN   \n",
       "3    0.0                               NaN   \n",
       "4    0.0  /n4GJFGzsc7NinI1VeGDXIcQjtU2.jpg   \n",
       "\n",
       "                               belongs_to_collection      budget  \\\n",
       "0                                                NaN         NaN   \n",
       "1                                                NaN  10000000.0   \n",
       "2                                                NaN         0.0   \n",
       "3                                                NaN         0.0   \n",
       "4  {'id': 1131062, 'name': 'Wong Kar-Wai’s Love T...    150000.0   \n",
       "\n",
       "                                              genres homepage        id  \\\n",
       "0                                                NaN      NaN       NaN   \n",
       "1  [{'id': 35, 'name': 'Comedy'}, {'id': 10402, '...      NaN   62127.0   \n",
       "2           [{'id': 878, 'name': 'Science Fiction'}]      NaN  110977.0   \n",
       "3  [{'id': 18, 'name': 'Drama'}, {'id': 28, 'name...      NaN  442869.0   \n",
       "4  [{'id': 18, 'name': 'Drama'}, {'id': 10749, 'n...      NaN     843.0   \n",
       "\n",
       "  original_language   original_title  \\\n",
       "0               NaN              NaN   \n",
       "1                en  The Fantasticks   \n",
       "2                en    For the Cause   \n",
       "3                hi             Gang   \n",
       "4                cn             花樣年華   \n",
       "\n",
       "                                            overview  ...     revenue runtime  \\\n",
       "0                                                NaN  ...         NaN     NaN   \n",
       "1  Two rural teens sing and dance their way throu...  ...         0.0    86.0   \n",
       "2  Earth is in a state of constant war and two co...  ...         0.0   100.0   \n",
       "3  After falling prey to underworld, four friends...  ...         0.0   152.0   \n",
       "4  Two neighbors become intimate after discoverin...  ...  14204632.0    99.0   \n",
       "\n",
       "                                    spoken_languages    status  \\\n",
       "0                                                NaN       NaN   \n",
       "1  [{'english_name': 'English', 'iso_639_1': 'en'...  Released   \n",
       "2  [{'english_name': 'English', 'iso_639_1': 'en'...  Released   \n",
       "3  [{'english_name': 'Hindi', 'iso_639_1': 'hi', ...  Released   \n",
       "4  [{'english_name': 'Cantonese', 'iso_639_1': 'c...  Released   \n",
       "\n",
       "                                             tagline                 title  \\\n",
       "0                                                NaN                   NaN   \n",
       "1      Try to remember the first time magic happened       The Fantasticks   \n",
       "2       The ultimate showdown on a forbidden planet.         For the Cause   \n",
       "3                                                NaN                  Gang   \n",
       "4  Feel the heat, keep the feeling burning, let t...  In the Mood for Love   \n",
       "\n",
       "   video vote_average vote_count certification  \n",
       "0    NaN          NaN        NaN           NaN  \n",
       "1    0.0          5.5       22.0           NaN  \n",
       "2    0.0          5.1        8.0           NaN  \n",
       "3    0.0          4.0        1.0           NaN  \n",
       "4    0.0          8.1     2244.0            PG  \n",
       "\n",
       "[5 rows x 25 columns]"
      ]
     },
     "execution_count": 8,
     "metadata": {},
     "output_type": "execute_result"
    }
   ],
   "source": [
    "df.head()"
   ]
  },
  {
   "cell_type": "code",
   "execution_count": 9,
   "id": "5c27bed3",
   "metadata": {},
   "outputs": [
    {
     "data": {
      "text/plain": [
       "adult                    0.000016\n",
       "backdrop_path            0.352369\n",
       "belongs_to_collection    0.932565\n",
       "budget                   0.000016\n",
       "genres                   0.000016\n",
       "homepage                 0.760134\n",
       "id                       0.000016\n",
       "original_language        0.000016\n",
       "original_title           0.000016\n",
       "overview                 0.020641\n",
       "popularity               0.000016\n",
       "poster_path              0.078128\n",
       "production_companies     0.000016\n",
       "production_countries     0.000016\n",
       "release_date             0.017156\n",
       "revenue                  0.000016\n",
       "runtime                  0.000016\n",
       "spoken_languages         0.000016\n",
       "status                   0.000016\n",
       "tagline                  0.617501\n",
       "title                    0.000016\n",
       "video                    0.000016\n",
       "vote_average             0.000016\n",
       "vote_count               0.000016\n",
       "certification            0.758550\n",
       "dtype: float64"
      ]
     },
     "execution_count": 9,
     "metadata": {},
     "output_type": "execute_result"
    }
   ],
   "source": [
    "#check what % of the data are missing for each column\n",
    "df.isna().sum() / df.shape[0]"
   ]
  },
  {
   "cell_type": "code",
   "execution_count": 10,
   "id": "b2f9e9b7",
   "metadata": {},
   "outputs": [
    {
     "data": {
      "text/plain": [
       "adult                        2\n",
       "backdrop_path            40879\n",
       "belongs_to_collection     2210\n",
       "budget                    1660\n",
       "genres                    3944\n",
       "homepage                 14983\n",
       "id                       63126\n",
       "original_language          125\n",
       "original_title           60339\n",
       "overview                 61793\n",
       "popularity               14308\n",
       "poster_path              58192\n",
       "production_companies     34910\n",
       "production_countries      3430\n",
       "release_date              7829\n",
       "revenue                   7598\n",
       "runtime                    240\n",
       "spoken_languages          2672\n",
       "status                       3\n",
       "tagline                  23819\n",
       "title                    57861\n",
       "video                        2\n",
       "vote_average              3518\n",
       "vote_count                3059\n",
       "certification               12\n",
       "dtype: int64"
      ]
     },
     "execution_count": 10,
     "metadata": {},
     "output_type": "execute_result"
    }
   ],
   "source": [
    "#check the number of unique values in each column\n",
    "df.nunique()"
   ]
  },
  {
   "cell_type": "code",
   "execution_count": 11,
   "id": "613bb4cc",
   "metadata": {},
   "outputs": [],
   "source": [
    "#Display data under this column to determine whether to keep this column or not\n",
    "#df['belongs_to_collection'].value_counts()"
   ]
  },
  {
   "cell_type": "code",
   "execution_count": 12,
   "id": "89de1bf6",
   "metadata": {},
   "outputs": [],
   "source": [
    "#Display data under this column to determine whether to keep this column or not\n",
    "#df['homepage'].value_counts()"
   ]
  },
  {
   "cell_type": "code",
   "execution_count": 13,
   "id": "15005581",
   "metadata": {},
   "outputs": [],
   "source": [
    "#Display data under this column to determine whether to keep this column or not\n",
    "#df['tagline'].value_counts()"
   ]
  },
  {
   "cell_type": "markdown",
   "id": "d4a09048",
   "metadata": {},
   "source": [
    "**Columns to be dropped due to too many missing data:**\n",
    "- `backdrop_path` \n",
    "   - Reason: More than 35% of the data is missing, and this data does not look useful for hypothesis testing.\n",
    "- `homepage`\n",
    "   - Reason: More than 76% of the data is missing, and I will not use this data for hypothesis testing.\n",
    "   \n",
    "**Columns to be dropped due to too many unique values:**\n",
    "- `poster_path`\n",
    "   - Reason: I will not use this data for hypothesis testing.\n",
    "        \n",
    "**Columns with many missing data and unique values, but keeping as they may be useful:**\n",
    "- `tagline`\n",
    "   - Reason: More than 61.7% of the data is missing, but it may be utilized for comparing some target between two groups: (a) movies with tagline and (b) movies without tagline. Alternatively, it could be used when checking the revenue of movies that has a specific word in the tagline vs. movies that do not have the specific word in the tagline.\n",
    "        \n",
    "- `belongs_to_collection`\n",
    "   - Reason: It is missing 93% of the data, but the feature looks useful.\n",
    "\n",
    "- `certification`\n",
    "   - Reason: It is missing more than 75% of the data, but we **need** to keep this column for our Hypothesis Testing requested by the Stakeholder.\n",
    "\n",
    "Other columns with many unique values that are not mentioned above may also be useful, therefore, I will keep them in the dataframe for now.\n"
   ]
  },
  {
   "cell_type": "code",
   "execution_count": 14,
   "id": "ab5bd799",
   "metadata": {},
   "outputs": [],
   "source": [
    "df = df.drop(columns = ['backdrop_path', 'homepage', 'poster_path'])"
   ]
  },
  {
   "cell_type": "code",
   "execution_count": 15,
   "id": "c3f2622e",
   "metadata": {},
   "outputs": [
    {
     "name": "stdout",
     "output_type": "stream",
     "text": [
      "<class 'pandas.core.frame.DataFrame'>\n",
      "Int64Index: 63127 entries, 0 to 63147\n",
      "Data columns (total 22 columns):\n",
      " #   Column                 Non-Null Count  Dtype  \n",
      "---  ------                 --------------  -----  \n",
      " 0   adult                  63126 non-null  float64\n",
      " 1   belongs_to_collection  4257 non-null   object \n",
      " 2   budget                 63126 non-null  float64\n",
      " 3   genres                 63126 non-null  object \n",
      " 4   id                     63126 non-null  float64\n",
      " 5   original_language      63126 non-null  object \n",
      " 6   original_title         63126 non-null  object \n",
      " 7   overview               61824 non-null  object \n",
      " 8   popularity             63126 non-null  float64\n",
      " 9   production_companies   63126 non-null  object \n",
      " 10  production_countries   63126 non-null  object \n",
      " 11  release_date           62044 non-null  object \n",
      " 12  revenue                63126 non-null  float64\n",
      " 13  runtime                63126 non-null  float64\n",
      " 14  spoken_languages       63126 non-null  object \n",
      " 15  status                 63126 non-null  object \n",
      " 16  tagline                24146 non-null  object \n",
      " 17  title                  63126 non-null  object \n",
      " 18  video                  63126 non-null  float64\n",
      " 19  vote_average           63126 non-null  float64\n",
      " 20  vote_count             63126 non-null  float64\n",
      " 21  certification          15242 non-null  object \n",
      "dtypes: float64(9), object(13)\n",
      "memory usage: 11.1+ MB\n"
     ]
    }
   ],
   "source": [
    "#confirm the columns have been dropped\n",
    "df.info()"
   ]
  },
  {
   "cell_type": "markdown",
   "id": "f948bed0",
   "metadata": {},
   "source": [
    "## 3.4 Check for inconsistent values"
   ]
  },
  {
   "cell_type": "code",
   "execution_count": 16,
   "id": "97e3d43f",
   "metadata": {},
   "outputs": [
    {
     "data": {
      "text/html": [
       "<div>\n",
       "<style scoped>\n",
       "    .dataframe tbody tr th:only-of-type {\n",
       "        vertical-align: middle;\n",
       "    }\n",
       "\n",
       "    .dataframe tbody tr th {\n",
       "        vertical-align: top;\n",
       "    }\n",
       "\n",
       "    .dataframe thead th {\n",
       "        text-align: right;\n",
       "    }\n",
       "</style>\n",
       "<table border=\"1\" class=\"dataframe\">\n",
       "  <thead>\n",
       "    <tr style=\"text-align: right;\">\n",
       "      <th></th>\n",
       "      <th>belongs_to_collection</th>\n",
       "      <th>genres</th>\n",
       "      <th>original_language</th>\n",
       "      <th>original_title</th>\n",
       "      <th>overview</th>\n",
       "      <th>production_companies</th>\n",
       "      <th>production_countries</th>\n",
       "      <th>release_date</th>\n",
       "      <th>spoken_languages</th>\n",
       "      <th>status</th>\n",
       "      <th>tagline</th>\n",
       "      <th>title</th>\n",
       "      <th>certification</th>\n",
       "    </tr>\n",
       "  </thead>\n",
       "  <tbody>\n",
       "    <tr>\n",
       "      <th>count</th>\n",
       "      <td>4257</td>\n",
       "      <td>63126</td>\n",
       "      <td>63126</td>\n",
       "      <td>63126</td>\n",
       "      <td>61824</td>\n",
       "      <td>63126</td>\n",
       "      <td>63126</td>\n",
       "      <td>62044</td>\n",
       "      <td>63126</td>\n",
       "      <td>63126</td>\n",
       "      <td>24146</td>\n",
       "      <td>63126</td>\n",
       "      <td>15242</td>\n",
       "    </tr>\n",
       "    <tr>\n",
       "      <th>unique</th>\n",
       "      <td>2210</td>\n",
       "      <td>3944</td>\n",
       "      <td>125</td>\n",
       "      <td>60339</td>\n",
       "      <td>61793</td>\n",
       "      <td>34910</td>\n",
       "      <td>3430</td>\n",
       "      <td>7829</td>\n",
       "      <td>2672</td>\n",
       "      <td>3</td>\n",
       "      <td>23819</td>\n",
       "      <td>57861</td>\n",
       "      <td>12</td>\n",
       "    </tr>\n",
       "    <tr>\n",
       "      <th>top</th>\n",
       "      <td>{'id': 39199, 'name': 'Detective Conan Collect...</td>\n",
       "      <td>[{'id': 18, 'name': 'Drama'}]</td>\n",
       "      <td>en</td>\n",
       "      <td>A Christmas Carol</td>\n",
       "      <td>The story follows a boy named Quon and others ...</td>\n",
       "      <td>[]</td>\n",
       "      <td>[{'iso_3166_1': 'US', 'name': 'United States o...</td>\n",
       "      <td>2009-01-01</td>\n",
       "      <td>[{'english_name': 'English', 'iso_639_1': 'en'...</td>\n",
       "      <td>Released</td>\n",
       "      <td>Based on a true story</td>\n",
       "      <td>Home</td>\n",
       "      <td>R</td>\n",
       "    </tr>\n",
       "    <tr>\n",
       "      <th>freq</th>\n",
       "      <td>18</td>\n",
       "      <td>10827</td>\n",
       "      <td>37376</td>\n",
       "      <td>9</td>\n",
       "      <td>5</td>\n",
       "      <td>20911</td>\n",
       "      <td>16983</td>\n",
       "      <td>258</td>\n",
       "      <td>23998</td>\n",
       "      <td>63112</td>\n",
       "      <td>9</td>\n",
       "      <td>13</td>\n",
       "      <td>6252</td>\n",
       "    </tr>\n",
       "  </tbody>\n",
       "</table>\n",
       "</div>"
      ],
      "text/plain": [
       "                                    belongs_to_collection  \\\n",
       "count                                                4257   \n",
       "unique                                               2210   \n",
       "top     {'id': 39199, 'name': 'Detective Conan Collect...   \n",
       "freq                                                   18   \n",
       "\n",
       "                               genres original_language     original_title  \\\n",
       "count                           63126             63126              63126   \n",
       "unique                           3944               125              60339   \n",
       "top     [{'id': 18, 'name': 'Drama'}]                en  A Christmas Carol   \n",
       "freq                            10827             37376                  9   \n",
       "\n",
       "                                                 overview  \\\n",
       "count                                               61824   \n",
       "unique                                              61793   \n",
       "top     The story follows a boy named Quon and others ...   \n",
       "freq                                                    5   \n",
       "\n",
       "       production_companies  \\\n",
       "count                 63126   \n",
       "unique                34910   \n",
       "top                      []   \n",
       "freq                  20911   \n",
       "\n",
       "                                     production_countries release_date  \\\n",
       "count                                               63126        62044   \n",
       "unique                                               3430         7829   \n",
       "top     [{'iso_3166_1': 'US', 'name': 'United States o...   2009-01-01   \n",
       "freq                                                16983          258   \n",
       "\n",
       "                                         spoken_languages    status  \\\n",
       "count                                               63126     63126   \n",
       "unique                                               2672         3   \n",
       "top     [{'english_name': 'English', 'iso_639_1': 'en'...  Released   \n",
       "freq                                                23998     63112   \n",
       "\n",
       "                      tagline  title certification  \n",
       "count                   24146  63126         15242  \n",
       "unique                  23819  57861            12  \n",
       "top     Based on a true story   Home             R  \n",
       "freq                        9     13          6252  "
      ]
     },
     "execution_count": 16,
     "metadata": {},
     "output_type": "execute_result"
    }
   ],
   "source": [
    "df.describe(include=object)"
   ]
  },
  {
   "cell_type": "markdown",
   "id": "e2421cd6",
   "metadata": {},
   "source": [
    "Many of these columns have many unique values, therefore, I will focus on only checking the columns with few unique values at this point, and will clean the other columns when there is a use-case.\n",
    "\n",
    "Columns with few unique values:\n",
    "    \n",
    "    - 'status' (number of unique values: 3)\n",
    "    - 'certification' (number of unique values: 12)"
   ]
  },
  {
   "cell_type": "code",
   "execution_count": 17,
   "id": "c5e54b5e",
   "metadata": {},
   "outputs": [
    {
     "data": {
      "text/plain": [
       "Released           63112\n",
       "Post Production       11\n",
       "In Production          3\n",
       "Name: status, dtype: int64"
      ]
     },
     "execution_count": 17,
     "metadata": {},
     "output_type": "execute_result"
    }
   ],
   "source": [
    "df['status'].value_counts()"
   ]
  },
  {
   "cell_type": "markdown",
   "id": "7b08279d",
   "metadata": {},
   "source": [
    "This column does not have any inconsistent values. I would need to check with a Subject Matter Expert if I want to find out whether there is a difference in the above 3 categories."
   ]
  },
  {
   "cell_type": "code",
   "execution_count": 18,
   "id": "31b33ff5",
   "metadata": {},
   "outputs": [
    {
     "data": {
      "text/plain": [
       "R                                  6252\n",
       "NR                                 3596\n",
       "PG-13                              3288\n",
       "PG                                 1472\n",
       "G                                   457\n",
       "NC-17                               167\n",
       "Unrated                               5\n",
       "UR                                    1\n",
       "Not Rated                             1\n",
       "ScreamFest Horror Film Festival       1\n",
       "PG-13                                 1\n",
       "10                                    1\n",
       "Name: certification, dtype: int64"
      ]
     },
     "execution_count": 18,
     "metadata": {},
     "output_type": "execute_result"
    }
   ],
   "source": [
    "df['certification'].value_counts()"
   ]
  },
  {
   "cell_type": "markdown",
   "id": "6566bb15",
   "metadata": {},
   "source": [
    "**Observation: This column contains many inconsistent values, therefore I will clean them.**"
   ]
  },
  {
   "cell_type": "markdown",
   "id": "0e55b212",
   "metadata": {},
   "source": [
    "### 3.4.1 Cleaning inconsistent values in **`certification`** "
   ]
  },
  {
   "cell_type": "markdown",
   "id": "e30da88a",
   "metadata": {},
   "source": [
    "According to several sources (example: [www.filmratings.com](https://www.filmratings.com/)), the MPAA rating consists of 5 values + 1 (\"Unrated/Not Rated\") categories:\n",
    "- G\n",
    "- PG\n",
    "- PG-13\n",
    "- R\n",
    "- NC-17\n",
    "- Unrated / Not Rated / NR / UR\n",
    "    \n",
    "    "
   ]
  },
  {
   "cell_type": "markdown",
   "id": "db8f6312",
   "metadata": {},
   "source": [
    "Therefore, I will take the following actions to clean up the 'certification' column:\n",
    "\n",
    "|current value | count | replace with|\n",
    "| - | - | - |\n",
    "| R | 6252 | R |                              \n",
    "| NR   | 3596 | Unrated |                             \n",
    "| PG-13 | 3288 | PG-13 |                           \n",
    "| PG    | 1472| PG |                          \n",
    "| G     | 457 | G |                         \n",
    "| NC-17 | 167| NC-17 |                         \n",
    "| Unrated | 5 | Unrated  |                            \n",
    "| UR   | 1 | Unrated |         \n",
    "|Not Rated | 1 | Unrated |                            \n",
    "| ScreamFest Horror Film Festival  |   1 | Drop |\n",
    "| PG-13 | 1 | PG-13 |                                \n",
    "| 10  | 1 | Drop |                               "
   ]
  },
  {
   "cell_type": "code",
   "execution_count": 19,
   "id": "6242e2fd",
   "metadata": {},
   "outputs": [],
   "source": [
    "#Replace\n",
    "df['certification'].replace({'NR':'Unrated', \n",
    "                             'PG-13 ': 'PG-13', \n",
    "                             'UR' : 'Unrated', \n",
    "                             'Not Rated' : 'Unrated'\n",
    "                             }, inplace=True)"
   ]
  },
  {
   "cell_type": "code",
   "execution_count": 20,
   "id": "d5224ce8",
   "metadata": {},
   "outputs": [
    {
     "data": {
      "text/html": [
       "<div>\n",
       "<style scoped>\n",
       "    .dataframe tbody tr th:only-of-type {\n",
       "        vertical-align: middle;\n",
       "    }\n",
       "\n",
       "    .dataframe tbody tr th {\n",
       "        vertical-align: top;\n",
       "    }\n",
       "\n",
       "    .dataframe thead th {\n",
       "        text-align: right;\n",
       "    }\n",
       "</style>\n",
       "<table border=\"1\" class=\"dataframe\">\n",
       "  <thead>\n",
       "    <tr style=\"text-align: right;\">\n",
       "      <th></th>\n",
       "      <th>adult</th>\n",
       "      <th>belongs_to_collection</th>\n",
       "      <th>budget</th>\n",
       "      <th>genres</th>\n",
       "      <th>id</th>\n",
       "      <th>original_language</th>\n",
       "      <th>original_title</th>\n",
       "      <th>overview</th>\n",
       "      <th>popularity</th>\n",
       "      <th>production_companies</th>\n",
       "      <th>...</th>\n",
       "      <th>revenue</th>\n",
       "      <th>runtime</th>\n",
       "      <th>spoken_languages</th>\n",
       "      <th>status</th>\n",
       "      <th>tagline</th>\n",
       "      <th>title</th>\n",
       "      <th>video</th>\n",
       "      <th>vote_average</th>\n",
       "      <th>vote_count</th>\n",
       "      <th>certification</th>\n",
       "    </tr>\n",
       "  </thead>\n",
       "  <tbody>\n",
       "    <tr>\n",
       "      <th>8996</th>\n",
       "      <td>0.0</td>\n",
       "      <td>NaN</td>\n",
       "      <td>0.0</td>\n",
       "      <td>[{'id': 27, 'name': 'Horror'}, {'id': 35, 'nam...</td>\n",
       "      <td>310725.0</td>\n",
       "      <td>en</td>\n",
       "      <td>Hoodoo for Voodoo</td>\n",
       "      <td>After winning an all-expenses-paid Mardis Gras...</td>\n",
       "      <td>1.4</td>\n",
       "      <td>[{'id': 81428, 'logo_path': None, 'name': 'Aby...</td>\n",
       "      <td>...</td>\n",
       "      <td>0.0</td>\n",
       "      <td>79.0</td>\n",
       "      <td>[{'english_name': 'English', 'iso_639_1': 'en'...</td>\n",
       "      <td>Released</td>\n",
       "      <td>Let the dead times roll!</td>\n",
       "      <td>Hoodoo for Voodoo</td>\n",
       "      <td>0.0</td>\n",
       "      <td>1.5</td>\n",
       "      <td>2.0</td>\n",
       "      <td>ScreamFest Horror Film Festival</td>\n",
       "    </tr>\n",
       "  </tbody>\n",
       "</table>\n",
       "<p>1 rows × 22 columns</p>\n",
       "</div>"
      ],
      "text/plain": [
       "      adult belongs_to_collection  budget  \\\n",
       "8996    0.0                   NaN     0.0   \n",
       "\n",
       "                                                 genres        id  \\\n",
       "8996  [{'id': 27, 'name': 'Horror'}, {'id': 35, 'nam...  310725.0   \n",
       "\n",
       "     original_language     original_title  \\\n",
       "8996                en  Hoodoo for Voodoo   \n",
       "\n",
       "                                               overview  popularity  \\\n",
       "8996  After winning an all-expenses-paid Mardis Gras...         1.4   \n",
       "\n",
       "                                   production_companies  ... revenue runtime  \\\n",
       "8996  [{'id': 81428, 'logo_path': None, 'name': 'Aby...  ...     0.0    79.0   \n",
       "\n",
       "                                       spoken_languages    status  \\\n",
       "8996  [{'english_name': 'English', 'iso_639_1': 'en'...  Released   \n",
       "\n",
       "                       tagline              title video vote_average  \\\n",
       "8996  Let the dead times roll!  Hoodoo for Voodoo   0.0          1.5   \n",
       "\n",
       "      vote_count                    certification  \n",
       "8996         2.0  ScreamFest Horror Film Festival  \n",
       "\n",
       "[1 rows x 22 columns]"
      ]
     },
     "execution_count": 20,
     "metadata": {},
     "output_type": "execute_result"
    }
   ],
   "source": [
    "#Filter\n",
    "\n",
    "filter_1 = df['certification'] == 'ScreamFest Horror Film Festival'\n",
    "df[filter_1]"
   ]
  },
  {
   "cell_type": "code",
   "execution_count": 21,
   "id": "c5199175",
   "metadata": {},
   "outputs": [
    {
     "data": {
      "text/html": [
       "<div>\n",
       "<style scoped>\n",
       "    .dataframe tbody tr th:only-of-type {\n",
       "        vertical-align: middle;\n",
       "    }\n",
       "\n",
       "    .dataframe tbody tr th {\n",
       "        vertical-align: top;\n",
       "    }\n",
       "\n",
       "    .dataframe thead th {\n",
       "        text-align: right;\n",
       "    }\n",
       "</style>\n",
       "<table border=\"1\" class=\"dataframe\">\n",
       "  <thead>\n",
       "    <tr style=\"text-align: right;\">\n",
       "      <th></th>\n",
       "      <th>adult</th>\n",
       "      <th>belongs_to_collection</th>\n",
       "      <th>budget</th>\n",
       "      <th>genres</th>\n",
       "      <th>id</th>\n",
       "      <th>original_language</th>\n",
       "      <th>original_title</th>\n",
       "      <th>overview</th>\n",
       "      <th>popularity</th>\n",
       "      <th>production_companies</th>\n",
       "      <th>...</th>\n",
       "      <th>revenue</th>\n",
       "      <th>runtime</th>\n",
       "      <th>spoken_languages</th>\n",
       "      <th>status</th>\n",
       "      <th>tagline</th>\n",
       "      <th>title</th>\n",
       "      <th>video</th>\n",
       "      <th>vote_average</th>\n",
       "      <th>vote_count</th>\n",
       "      <th>certification</th>\n",
       "    </tr>\n",
       "  </thead>\n",
       "  <tbody>\n",
       "    <tr>\n",
       "      <th>32094</th>\n",
       "      <td>0.0</td>\n",
       "      <td>NaN</td>\n",
       "      <td>0.0</td>\n",
       "      <td>[{'id': 27, 'name': 'Horror'}, {'id': 53, 'nam...</td>\n",
       "      <td>402515.0</td>\n",
       "      <td>en</td>\n",
       "      <td>American Beast</td>\n",
       "      <td>After his mother's death, James Erikson discov...</td>\n",
       "      <td>3.226</td>\n",
       "      <td>[{'id': 44632, 'logo_path': '/neCKH4sJCBhZ1B4Q...</td>\n",
       "      <td>...</td>\n",
       "      <td>0.0</td>\n",
       "      <td>89.0</td>\n",
       "      <td>[{'english_name': 'English', 'iso_639_1': 'en'...</td>\n",
       "      <td>Released</td>\n",
       "      <td>NaN</td>\n",
       "      <td>American Beast</td>\n",
       "      <td>0.0</td>\n",
       "      <td>6.6</td>\n",
       "      <td>31.0</td>\n",
       "      <td>10</td>\n",
       "    </tr>\n",
       "  </tbody>\n",
       "</table>\n",
       "<p>1 rows × 22 columns</p>\n",
       "</div>"
      ],
      "text/plain": [
       "       adult belongs_to_collection  budget  \\\n",
       "32094    0.0                   NaN     0.0   \n",
       "\n",
       "                                                  genres        id  \\\n",
       "32094  [{'id': 27, 'name': 'Horror'}, {'id': 53, 'nam...  402515.0   \n",
       "\n",
       "      original_language  original_title  \\\n",
       "32094                en  American Beast   \n",
       "\n",
       "                                                overview  popularity  \\\n",
       "32094  After his mother's death, James Erikson discov...       3.226   \n",
       "\n",
       "                                    production_companies  ... revenue runtime  \\\n",
       "32094  [{'id': 44632, 'logo_path': '/neCKH4sJCBhZ1B4Q...  ...     0.0    89.0   \n",
       "\n",
       "                                        spoken_languages    status tagline  \\\n",
       "32094  [{'english_name': 'English', 'iso_639_1': 'en'...  Released     NaN   \n",
       "\n",
       "                title video vote_average  vote_count  certification  \n",
       "32094  American Beast   0.0          6.6        31.0             10  \n",
       "\n",
       "[1 rows x 22 columns]"
      ]
     },
     "execution_count": 21,
     "metadata": {},
     "output_type": "execute_result"
    }
   ],
   "source": [
    "#Filter\n",
    "filter_2 = df['certification'] == '10'\n",
    "df[filter_2]"
   ]
  },
  {
   "cell_type": "code",
   "execution_count": 22,
   "id": "1574eeae",
   "metadata": {},
   "outputs": [],
   "source": [
    "#condition is satisfy filter_1 OR filter_2\n",
    "combined_filter = (filter_1) | (filter_2)"
   ]
  },
  {
   "cell_type": "code",
   "execution_count": 23,
   "id": "9d4cf0e6",
   "metadata": {},
   "outputs": [
    {
     "data": {
      "text/html": [
       "<div>\n",
       "<style scoped>\n",
       "    .dataframe tbody tr th:only-of-type {\n",
       "        vertical-align: middle;\n",
       "    }\n",
       "\n",
       "    .dataframe tbody tr th {\n",
       "        vertical-align: top;\n",
       "    }\n",
       "\n",
       "    .dataframe thead th {\n",
       "        text-align: right;\n",
       "    }\n",
       "</style>\n",
       "<table border=\"1\" class=\"dataframe\">\n",
       "  <thead>\n",
       "    <tr style=\"text-align: right;\">\n",
       "      <th></th>\n",
       "      <th>adult</th>\n",
       "      <th>belongs_to_collection</th>\n",
       "      <th>budget</th>\n",
       "      <th>genres</th>\n",
       "      <th>id</th>\n",
       "      <th>original_language</th>\n",
       "      <th>original_title</th>\n",
       "      <th>overview</th>\n",
       "      <th>popularity</th>\n",
       "      <th>production_companies</th>\n",
       "      <th>...</th>\n",
       "      <th>revenue</th>\n",
       "      <th>runtime</th>\n",
       "      <th>spoken_languages</th>\n",
       "      <th>status</th>\n",
       "      <th>tagline</th>\n",
       "      <th>title</th>\n",
       "      <th>video</th>\n",
       "      <th>vote_average</th>\n",
       "      <th>vote_count</th>\n",
       "      <th>certification</th>\n",
       "    </tr>\n",
       "  </thead>\n",
       "  <tbody>\n",
       "    <tr>\n",
       "      <th>8996</th>\n",
       "      <td>0.0</td>\n",
       "      <td>NaN</td>\n",
       "      <td>0.0</td>\n",
       "      <td>[{'id': 27, 'name': 'Horror'}, {'id': 35, 'nam...</td>\n",
       "      <td>310725.0</td>\n",
       "      <td>en</td>\n",
       "      <td>Hoodoo for Voodoo</td>\n",
       "      <td>After winning an all-expenses-paid Mardis Gras...</td>\n",
       "      <td>1.400</td>\n",
       "      <td>[{'id': 81428, 'logo_path': None, 'name': 'Aby...</td>\n",
       "      <td>...</td>\n",
       "      <td>0.0</td>\n",
       "      <td>79.0</td>\n",
       "      <td>[{'english_name': 'English', 'iso_639_1': 'en'...</td>\n",
       "      <td>Released</td>\n",
       "      <td>Let the dead times roll!</td>\n",
       "      <td>Hoodoo for Voodoo</td>\n",
       "      <td>0.0</td>\n",
       "      <td>1.5</td>\n",
       "      <td>2.0</td>\n",
       "      <td>ScreamFest Horror Film Festival</td>\n",
       "    </tr>\n",
       "    <tr>\n",
       "      <th>32094</th>\n",
       "      <td>0.0</td>\n",
       "      <td>NaN</td>\n",
       "      <td>0.0</td>\n",
       "      <td>[{'id': 27, 'name': 'Horror'}, {'id': 53, 'nam...</td>\n",
       "      <td>402515.0</td>\n",
       "      <td>en</td>\n",
       "      <td>American Beast</td>\n",
       "      <td>After his mother's death, James Erikson discov...</td>\n",
       "      <td>3.226</td>\n",
       "      <td>[{'id': 44632, 'logo_path': '/neCKH4sJCBhZ1B4Q...</td>\n",
       "      <td>...</td>\n",
       "      <td>0.0</td>\n",
       "      <td>89.0</td>\n",
       "      <td>[{'english_name': 'English', 'iso_639_1': 'en'...</td>\n",
       "      <td>Released</td>\n",
       "      <td>NaN</td>\n",
       "      <td>American Beast</td>\n",
       "      <td>0.0</td>\n",
       "      <td>6.6</td>\n",
       "      <td>31.0</td>\n",
       "      <td>10</td>\n",
       "    </tr>\n",
       "  </tbody>\n",
       "</table>\n",
       "<p>2 rows × 22 columns</p>\n",
       "</div>"
      ],
      "text/plain": [
       "       adult belongs_to_collection  budget  \\\n",
       "8996     0.0                   NaN     0.0   \n",
       "32094    0.0                   NaN     0.0   \n",
       "\n",
       "                                                  genres        id  \\\n",
       "8996   [{'id': 27, 'name': 'Horror'}, {'id': 35, 'nam...  310725.0   \n",
       "32094  [{'id': 27, 'name': 'Horror'}, {'id': 53, 'nam...  402515.0   \n",
       "\n",
       "      original_language     original_title  \\\n",
       "8996                 en  Hoodoo for Voodoo   \n",
       "32094                en     American Beast   \n",
       "\n",
       "                                                overview  popularity  \\\n",
       "8996   After winning an all-expenses-paid Mardis Gras...       1.400   \n",
       "32094  After his mother's death, James Erikson discov...       3.226   \n",
       "\n",
       "                                    production_companies  ... revenue runtime  \\\n",
       "8996   [{'id': 81428, 'logo_path': None, 'name': 'Aby...  ...     0.0    79.0   \n",
       "32094  [{'id': 44632, 'logo_path': '/neCKH4sJCBhZ1B4Q...  ...     0.0    89.0   \n",
       "\n",
       "                                        spoken_languages    status  \\\n",
       "8996   [{'english_name': 'English', 'iso_639_1': 'en'...  Released   \n",
       "32094  [{'english_name': 'English', 'iso_639_1': 'en'...  Released   \n",
       "\n",
       "                        tagline              title video vote_average  \\\n",
       "8996   Let the dead times roll!  Hoodoo for Voodoo   0.0          1.5   \n",
       "32094                       NaN     American Beast   0.0          6.6   \n",
       "\n",
       "       vote_count                    certification  \n",
       "8996          2.0  ScreamFest Horror Film Festival  \n",
       "32094        31.0                               10  \n",
       "\n",
       "[2 rows x 22 columns]"
      ]
     },
     "execution_count": 23,
     "metadata": {},
     "output_type": "execute_result"
    }
   ],
   "source": [
    "#display filtered rows\n",
    "df[combined_filter]"
   ]
  },
  {
   "cell_type": "code",
   "execution_count": 24,
   "id": "5c89c801",
   "metadata": {},
   "outputs": [],
   "source": [
    "#drop filtered rows\n",
    "df = df[~combined_filter]"
   ]
  },
  {
   "cell_type": "code",
   "execution_count": 25,
   "id": "1fea0ed7",
   "metadata": {},
   "outputs": [
    {
     "data": {
      "text/plain": [
       "R          6252\n",
       "Unrated    3603\n",
       "PG-13      3289\n",
       "PG         1472\n",
       "G           457\n",
       "NC-17       167\n",
       "Name: certification, dtype: int64"
      ]
     },
     "execution_count": 25,
     "metadata": {},
     "output_type": "execute_result"
    }
   ],
   "source": [
    "df['certification'].value_counts()"
   ]
  },
  {
   "cell_type": "markdown",
   "id": "75a330ac",
   "metadata": {},
   "source": [
    "## 3.5 Check for odd values"
   ]
  },
  {
   "cell_type": "code",
   "execution_count": 26,
   "id": "a8bc0c79",
   "metadata": {},
   "outputs": [
    {
     "data": {
      "text/html": [
       "<div>\n",
       "<style scoped>\n",
       "    .dataframe tbody tr th:only-of-type {\n",
       "        vertical-align: middle;\n",
       "    }\n",
       "\n",
       "    .dataframe tbody tr th {\n",
       "        vertical-align: top;\n",
       "    }\n",
       "\n",
       "    .dataframe thead th {\n",
       "        text-align: right;\n",
       "    }\n",
       "</style>\n",
       "<table border=\"1\" class=\"dataframe\">\n",
       "  <thead>\n",
       "    <tr style=\"text-align: right;\">\n",
       "      <th></th>\n",
       "      <th>adult</th>\n",
       "      <th>budget</th>\n",
       "      <th>id</th>\n",
       "      <th>popularity</th>\n",
       "      <th>revenue</th>\n",
       "      <th>runtime</th>\n",
       "      <th>video</th>\n",
       "      <th>vote_average</th>\n",
       "      <th>vote_count</th>\n",
       "    </tr>\n",
       "  </thead>\n",
       "  <tbody>\n",
       "    <tr>\n",
       "      <th>count</th>\n",
       "      <td>63124.000000</td>\n",
       "      <td>6.312400e+04</td>\n",
       "      <td>6.312400e+04</td>\n",
       "      <td>63124.000000</td>\n",
       "      <td>6.312400e+04</td>\n",
       "      <td>63124.000000</td>\n",
       "      <td>63124.000000</td>\n",
       "      <td>63124.000000</td>\n",
       "      <td>63124.000000</td>\n",
       "    </tr>\n",
       "    <tr>\n",
       "      <th>mean</th>\n",
       "      <td>0.001838</td>\n",
       "      <td>3.038191e+06</td>\n",
       "      <td>3.814483e+05</td>\n",
       "      <td>4.893317</td>\n",
       "      <td>8.028349e+06</td>\n",
       "      <td>91.840489</td>\n",
       "      <td>0.007826</td>\n",
       "      <td>4.600025</td>\n",
       "      <td>219.842073</td>\n",
       "    </tr>\n",
       "    <tr>\n",
       "      <th>std</th>\n",
       "      <td>0.042829</td>\n",
       "      <td>1.584748e+07</td>\n",
       "      <td>2.708746e+05</td>\n",
       "      <td>16.391970</td>\n",
       "      <td>6.008496e+07</td>\n",
       "      <td>31.022150</td>\n",
       "      <td>0.088118</td>\n",
       "      <td>2.623544</td>\n",
       "      <td>1170.382903</td>\n",
       "    </tr>\n",
       "    <tr>\n",
       "      <th>min</th>\n",
       "      <td>0.000000</td>\n",
       "      <td>0.000000e+00</td>\n",
       "      <td>1.200000e+01</td>\n",
       "      <td>0.000000</td>\n",
       "      <td>0.000000e+00</td>\n",
       "      <td>0.000000</td>\n",
       "      <td>0.000000</td>\n",
       "      <td>0.000000</td>\n",
       "      <td>0.000000</td>\n",
       "    </tr>\n",
       "    <tr>\n",
       "      <th>25%</th>\n",
       "      <td>0.000000</td>\n",
       "      <td>0.000000e+00</td>\n",
       "      <td>1.273785e+05</td>\n",
       "      <td>0.677000</td>\n",
       "      <td>0.000000e+00</td>\n",
       "      <td>84.000000</td>\n",
       "      <td>0.000000</td>\n",
       "      <td>3.200000</td>\n",
       "      <td>1.000000</td>\n",
       "    </tr>\n",
       "    <tr>\n",
       "      <th>50%</th>\n",
       "      <td>0.000000</td>\n",
       "      <td>0.000000e+00</td>\n",
       "      <td>3.672080e+05</td>\n",
       "      <td>1.655000</td>\n",
       "      <td>0.000000e+00</td>\n",
       "      <td>93.000000</td>\n",
       "      <td>0.000000</td>\n",
       "      <td>5.455000</td>\n",
       "      <td>6.000000</td>\n",
       "    </tr>\n",
       "    <tr>\n",
       "      <th>75%</th>\n",
       "      <td>0.000000</td>\n",
       "      <td>0.000000e+00</td>\n",
       "      <td>5.752385e+05</td>\n",
       "      <td>4.689000</td>\n",
       "      <td>0.000000e+00</td>\n",
       "      <td>105.000000</td>\n",
       "      <td>0.000000</td>\n",
       "      <td>6.400000</td>\n",
       "      <td>35.000000</td>\n",
       "    </tr>\n",
       "    <tr>\n",
       "      <th>max</th>\n",
       "      <td>1.000000</td>\n",
       "      <td>3.790000e+08</td>\n",
       "      <td>1.152334e+06</td>\n",
       "      <td>1947.386000</td>\n",
       "      <td>2.923706e+09</td>\n",
       "      <td>1440.000000</td>\n",
       "      <td>1.000000</td>\n",
       "      <td>10.000000</td>\n",
       "      <td>33995.000000</td>\n",
       "    </tr>\n",
       "  </tbody>\n",
       "</table>\n",
       "</div>"
      ],
      "text/plain": [
       "              adult        budget            id    popularity       revenue  \\\n",
       "count  63124.000000  6.312400e+04  6.312400e+04  63124.000000  6.312400e+04   \n",
       "mean       0.001838  3.038191e+06  3.814483e+05      4.893317  8.028349e+06   \n",
       "std        0.042829  1.584748e+07  2.708746e+05     16.391970  6.008496e+07   \n",
       "min        0.000000  0.000000e+00  1.200000e+01      0.000000  0.000000e+00   \n",
       "25%        0.000000  0.000000e+00  1.273785e+05      0.677000  0.000000e+00   \n",
       "50%        0.000000  0.000000e+00  3.672080e+05      1.655000  0.000000e+00   \n",
       "75%        0.000000  0.000000e+00  5.752385e+05      4.689000  0.000000e+00   \n",
       "max        1.000000  3.790000e+08  1.152334e+06   1947.386000  2.923706e+09   \n",
       "\n",
       "            runtime         video  vote_average    vote_count  \n",
       "count  63124.000000  63124.000000  63124.000000  63124.000000  \n",
       "mean      91.840489      0.007826      4.600025    219.842073  \n",
       "std       31.022150      0.088118      2.623544   1170.382903  \n",
       "min        0.000000      0.000000      0.000000      0.000000  \n",
       "25%       84.000000      0.000000      3.200000      1.000000  \n",
       "50%       93.000000      0.000000      5.455000      6.000000  \n",
       "75%      105.000000      0.000000      6.400000     35.000000  \n",
       "max     1440.000000      1.000000     10.000000  33995.000000  "
      ]
     },
     "execution_count": 26,
     "metadata": {},
     "output_type": "execute_result"
    }
   ],
   "source": [
    "df.describe()"
   ]
  },
  {
   "cell_type": "markdown",
   "id": "c4542eb1",
   "metadata": {},
   "source": [
    "**Observation**: There are no obvious odd values based on the above check."
   ]
  },
  {
   "cell_type": "markdown",
   "id": "cefe35c7",
   "metadata": {},
   "source": [
    "# **Hypothesis Testing**"
   ]
  },
  {
   "cell_type": "markdown",
   "id": "632907a6",
   "metadata": {},
   "source": [
    "# **Q1. Does the MPAA rating of a movie (G/PG/PG-13/R) affect how much revenue the movie generates?**\n",
    "\n"
   ]
  },
  {
   "cell_type": "markdown",
   "id": "7ef07ea3",
   "metadata": {},
   "source": [
    "## 0. Data Preparation"
   ]
  },
  {
   "cell_type": "code",
   "execution_count": 27,
   "id": "baebe20e",
   "metadata": {},
   "outputs": [
    {
     "data": {
      "text/plain": [
       "R          6252\n",
       "Unrated    3603\n",
       "PG-13      3289\n",
       "PG         1472\n",
       "G           457\n",
       "NC-17       167\n",
       "Name: certification, dtype: int64"
      ]
     },
     "execution_count": 27,
     "metadata": {},
     "output_type": "execute_result"
    }
   ],
   "source": [
    "df['certification'].value_counts()"
   ]
  },
  {
   "cell_type": "markdown",
   "id": "581db1a6",
   "metadata": {},
   "source": [
    "There are no inconsistent values because I have cleaned this already in #3.4.1."
   ]
  },
  {
   "cell_type": "code",
   "execution_count": 28,
   "id": "c6b08c15",
   "metadata": {},
   "outputs": [
    {
     "data": {
      "text/plain": [
       "47885"
      ]
     },
     "execution_count": 28,
     "metadata": {},
     "output_type": "execute_result"
    }
   ],
   "source": [
    "df['certification'].isna().sum()"
   ]
  },
  {
   "cell_type": "markdown",
   "id": "2a3fd5dd",
   "metadata": {},
   "source": [
    "There are 47885 missing values in this column. I will drop these rows when performing the Hypothesis Testing."
   ]
  },
  {
   "cell_type": "code",
   "execution_count": 29,
   "id": "da79941b",
   "metadata": {},
   "outputs": [
    {
     "data": {
      "text/plain": [
       "1"
      ]
     },
     "execution_count": 29,
     "metadata": {},
     "output_type": "execute_result"
    }
   ],
   "source": [
    "df['revenue'].isna().sum()"
   ]
  },
  {
   "cell_type": "markdown",
   "id": "f6b00dd3",
   "metadata": {},
   "source": [
    "There is 1 missing value in this column. I will drop this row when performing the Hypothesis Testing."
   ]
  },
  {
   "cell_type": "code",
   "execution_count": 30,
   "id": "c8043784",
   "metadata": {},
   "outputs": [],
   "source": [
    "Q1_df=df.copy()"
   ]
  },
  {
   "cell_type": "code",
   "execution_count": 31,
   "id": "3bbf26b6",
   "metadata": {},
   "outputs": [],
   "source": [
    "Q1_df=Q1_df[['certification', 'revenue']]"
   ]
  },
  {
   "cell_type": "code",
   "execution_count": 32,
   "id": "ea1f0c38",
   "metadata": {},
   "outputs": [
    {
     "name": "stdout",
     "output_type": "stream",
     "text": [
      "<class 'pandas.core.frame.DataFrame'>\n",
      "Int64Index: 63125 entries, 0 to 63147\n",
      "Data columns (total 2 columns):\n",
      " #   Column         Non-Null Count  Dtype  \n",
      "---  ------         --------------  -----  \n",
      " 0   certification  15240 non-null  object \n",
      " 1   revenue        63124 non-null  float64\n",
      "dtypes: float64(1), object(1)\n",
      "memory usage: 1.4+ MB\n"
     ]
    }
   ],
   "source": [
    "Q1_df.info()"
   ]
  },
  {
   "cell_type": "code",
   "execution_count": 33,
   "id": "604dbf8c",
   "metadata": {},
   "outputs": [],
   "source": [
    "#drop rows with missing values\n",
    "Q1_df = Q1_df.dropna()"
   ]
  },
  {
   "cell_type": "code",
   "execution_count": 34,
   "id": "aa81de99",
   "metadata": {},
   "outputs": [
    {
     "name": "stdout",
     "output_type": "stream",
     "text": [
      "<class 'pandas.core.frame.DataFrame'>\n",
      "Int64Index: 15240 entries, 4 to 63147\n",
      "Data columns (total 2 columns):\n",
      " #   Column         Non-Null Count  Dtype  \n",
      "---  ------         --------------  -----  \n",
      " 0   certification  15240 non-null  object \n",
      " 1   revenue        15240 non-null  float64\n",
      "dtypes: float64(1), object(1)\n",
      "memory usage: 357.2+ KB\n"
     ]
    }
   ],
   "source": [
    "Q1_df.info()"
   ]
  },
  {
   "cell_type": "markdown",
   "id": "626ba59d",
   "metadata": {},
   "source": [
    "##  **Also remove NC-17 and Unrated from the dataset and only include the values mentioned in the Learn Platform**"
   ]
  },
  {
   "cell_type": "code",
   "execution_count": 35,
   "id": "4c7125f7",
   "metadata": {},
   "outputs": [],
   "source": [
    "cert_filter_a = Q1_df['certification'] == 'NC-17'\n",
    "\n",
    "cert_filter_b = Q1_df['certification'] == 'Unrated'\n",
    "\n",
    "cert_filter_combined = cert_filter_a | cert_filter_b"
   ]
  },
  {
   "cell_type": "code",
   "execution_count": 36,
   "id": "0be446cf",
   "metadata": {},
   "outputs": [],
   "source": [
    "Q1_df_cleaned = Q1_df[~cert_filter_combined]"
   ]
  },
  {
   "cell_type": "code",
   "execution_count": 37,
   "id": "55a1d62e",
   "metadata": {},
   "outputs": [
    {
     "data": {
      "text/plain": [
       "R        6252\n",
       "PG-13    3289\n",
       "PG       1472\n",
       "G         457\n",
       "Name: certification, dtype: int64"
      ]
     },
     "execution_count": 37,
     "metadata": {},
     "output_type": "execute_result"
    }
   ],
   "source": [
    "Q1_df_cleaned['certification'].value_counts()"
   ]
  },
  {
   "cell_type": "code",
   "execution_count": 38,
   "id": "169c9313",
   "metadata": {},
   "outputs": [
    {
     "name": "stdout",
     "output_type": "stream",
     "text": [
      "<class 'pandas.core.frame.DataFrame'>\n",
      "Int64Index: 11470 entries, 4 to 63147\n",
      "Data columns (total 2 columns):\n",
      " #   Column         Non-Null Count  Dtype  \n",
      "---  ------         --------------  -----  \n",
      " 0   certification  11470 non-null  object \n",
      " 1   revenue        11470 non-null  float64\n",
      "dtypes: float64(1), object(1)\n",
      "memory usage: 268.8+ KB\n"
     ]
    }
   ],
   "source": [
    "Q1_df_cleaned.info()"
   ]
  },
  {
   "cell_type": "markdown",
   "id": "b2396010",
   "metadata": {},
   "source": [
    "**Data Cleaning & Preparation is complete for Q1.**"
   ]
  },
  {
   "cell_type": "markdown",
   "id": "37bdb8b9",
   "metadata": {},
   "source": [
    "## 1.  Null Hypothesis and Alternative Hypothesis"
   ]
  },
  {
   "cell_type": "markdown",
   "id": "d17b8b39",
   "metadata": {},
   "source": [
    "**Null Hypothesis**: The MPAA rating of a movie does not affect how much revenue the movie generates.\n",
    "    \n",
    "**Alternative Hypothesis**: The MPAA rating of a movie affects how much revenue the movie generates."
   ]
  },
  {
   "cell_type": "markdown",
   "id": "9e85ca8a",
   "metadata": {},
   "source": [
    "## 2. Selecting the Hypothesis Test"
   ]
  },
  {
   "cell_type": "code",
   "execution_count": 39,
   "id": "12ab413e",
   "metadata": {},
   "outputs": [
    {
     "data": {
      "text/plain": [
       "R        6252\n",
       "PG-13    3289\n",
       "PG       1472\n",
       "G         457\n",
       "Name: certification, dtype: int64"
      ]
     },
     "execution_count": 39,
     "metadata": {},
     "output_type": "execute_result"
    }
   ],
   "source": [
    "Q1_df_cleaned['certification'].value_counts()"
   ]
  },
  {
   "cell_type": "markdown",
   "id": "b4d41d55",
   "metadata": {},
   "source": [
    "* Target: 'revenue' - **Numerical**\n",
    "* Number of groups: **4 groups**"
   ]
  },
  {
   "cell_type": "markdown",
   "id": "28f38c0e",
   "metadata": {},
   "source": [
    "**Test Type**: One-Way ANOVA and/or Tukey (if assumptions are met.)"
   ]
  },
  {
   "cell_type": "markdown",
   "id": "aad58546",
   "metadata": {},
   "source": [
    "## 3. Test the assumptions"
   ]
  },
  {
   "cell_type": "markdown",
   "id": "243cf192",
   "metadata": {},
   "source": [
    "One Way ANOVA test assumptions:\n",
    "\n",
    "- No significant outliers\n",
    "- Normality\n",
    "- Equal variance"
   ]
  },
  {
   "cell_type": "code",
   "execution_count": 40,
   "id": "da94a96c",
   "metadata": {},
   "outputs": [
    {
     "name": "stdout",
     "output_type": "stream",
     "text": [
      "For MPAA Rating Certification: R (n=6252): Mean=16113805.42\n",
      "For MPAA Rating Certification: PG-13 (n=3289): Mean=71680653.10\n",
      "For MPAA Rating Certification: PG (n=1472): Mean=68864955.12\n",
      "For MPAA Rating Certification: G (n=457): Mean=32259302.51\n"
     ]
    }
   ],
   "source": [
    "R = Q1_df_cleaned.loc[df['certification']=='R',\"revenue\"]\n",
    "PG_thirteen = Q1_df_cleaned.loc[df['certification']=='PG-13',\"revenue\"]\n",
    "PG = Q1_df_cleaned.loc[df['certification']=='PG',\"revenue\"]\n",
    "G = Q1_df_cleaned.loc[df['certification']=='G',\"revenue\"]\n",
    "## Print the average charges for each group\n",
    "print(f\"For MPAA Rating Certification: R (n={len(R)}): Mean={np.mean(R):.2f}\")\n",
    "print(f\"For MPAA Rating Certification: PG-13 (n={len(PG_thirteen)}): Mean={np.mean(PG_thirteen):.2f}\")\n",
    "print(f\"For MPAA Rating Certification: PG (n={len(PG)}): Mean={np.mean(PG):.2f}\")\n",
    "print(f\"For MPAA Rating Certification: G (n={len(G)}): Mean={np.mean(G):.2f}\")"
   ]
  },
  {
   "cell_type": "markdown",
   "id": "6ce4ad1d",
   "metadata": {},
   "source": [
    "### 3.1 Check Outliers"
   ]
  },
  {
   "cell_type": "markdown",
   "id": "ac2db73b",
   "metadata": {},
   "source": [
    "#### **Certification: `R`**"
   ]
  },
  {
   "cell_type": "code",
   "execution_count": 41,
   "id": "d8b94041",
   "metadata": {},
   "outputs": [
    {
     "data": {
      "text/plain": [
       "6252"
      ]
     },
     "execution_count": 41,
     "metadata": {},
     "output_type": "execute_result"
    }
   ],
   "source": [
    "#check initial count before removing outliers\n",
    "len(R)"
   ]
  },
  {
   "cell_type": "code",
   "execution_count": 42,
   "id": "afcede0a",
   "metadata": {},
   "outputs": [
    {
     "data": {
      "text/plain": [
       "121"
      ]
     },
     "execution_count": 42,
     "metadata": {},
     "output_type": "execute_result"
    }
   ],
   "source": [
    "#check for outliers\n",
    "zscores_f = stats.zscore(R)\n",
    "outliers_f = abs(zscores_f)>3\n",
    "np.sum(outliers_f)"
   ]
  },
  {
   "cell_type": "markdown",
   "id": "55f6b86a",
   "metadata": {},
   "source": [
    "There are 121 outliers in the R group, so I will remove the outliers."
   ]
  },
  {
   "cell_type": "code",
   "execution_count": 43,
   "id": "aec5a3bc",
   "metadata": {},
   "outputs": [],
   "source": [
    "# remove outliers \n",
    "R = R[(np.abs(stats.zscore(R)) < 3)]"
   ]
  },
  {
   "cell_type": "code",
   "execution_count": 44,
   "id": "f4bda43c",
   "metadata": {},
   "outputs": [
    {
     "data": {
      "text/plain": [
       "6131"
      ]
     },
     "execution_count": 44,
     "metadata": {},
     "output_type": "execute_result"
    }
   ],
   "source": [
    "#check final count after removing outliers\n",
    "len(R)"
   ]
  },
  {
   "cell_type": "markdown",
   "id": "b6e83d74",
   "metadata": {},
   "source": [
    "#### **Certification: `PG-13`**"
   ]
  },
  {
   "cell_type": "code",
   "execution_count": 45,
   "id": "1804ecb9",
   "metadata": {},
   "outputs": [
    {
     "data": {
      "text/plain": [
       "3289"
      ]
     },
     "execution_count": 45,
     "metadata": {},
     "output_type": "execute_result"
    }
   ],
   "source": [
    "#check initial count before removing outliers\n",
    "len(PG_thirteen)"
   ]
  },
  {
   "cell_type": "code",
   "execution_count": 46,
   "id": "9e8f5dfd",
   "metadata": {},
   "outputs": [
    {
     "data": {
      "text/plain": [
       "87"
      ]
     },
     "execution_count": 46,
     "metadata": {},
     "output_type": "execute_result"
    }
   ],
   "source": [
    "#check for outliers\n",
    "zscores_f = stats.zscore(PG_thirteen)\n",
    "outliers_f = abs(zscores_f)>3\n",
    "np.sum(outliers_f)"
   ]
  },
  {
   "cell_type": "markdown",
   "id": "ccf402f3",
   "metadata": {},
   "source": [
    "There are 87 outliers in the PG-13 group, so I will remove the outliers."
   ]
  },
  {
   "cell_type": "code",
   "execution_count": 47,
   "id": "6ae41547",
   "metadata": {},
   "outputs": [],
   "source": [
    "# remove outliers \n",
    "PG_thirteen = PG_thirteen[(np.abs(stats.zscore(PG_thirteen)) < 3)]"
   ]
  },
  {
   "cell_type": "code",
   "execution_count": 48,
   "id": "f1f7bc1b",
   "metadata": {},
   "outputs": [
    {
     "data": {
      "text/plain": [
       "3202"
      ]
     },
     "execution_count": 48,
     "metadata": {},
     "output_type": "execute_result"
    }
   ],
   "source": [
    "#check final count after removing outliers\n",
    "len(PG_thirteen)"
   ]
  },
  {
   "cell_type": "markdown",
   "id": "845e0286",
   "metadata": {},
   "source": [
    "#### **Certification: `PG`**"
   ]
  },
  {
   "cell_type": "code",
   "execution_count": 49,
   "id": "0d3d6bc0",
   "metadata": {},
   "outputs": [
    {
     "data": {
      "text/plain": [
       "1472"
      ]
     },
     "execution_count": 49,
     "metadata": {},
     "output_type": "execute_result"
    }
   ],
   "source": [
    "#check initial count before removing outliers\n",
    "len(PG)"
   ]
  },
  {
   "cell_type": "code",
   "execution_count": 50,
   "id": "8290a91d",
   "metadata": {},
   "outputs": [
    {
     "data": {
      "text/plain": [
       "41"
      ]
     },
     "execution_count": 50,
     "metadata": {},
     "output_type": "execute_result"
    }
   ],
   "source": [
    "#check for outliers\n",
    "zscores_f = stats.zscore(PG)\n",
    "outliers_f = abs(zscores_f)>3\n",
    "np.sum(outliers_f)"
   ]
  },
  {
   "cell_type": "markdown",
   "id": "6dfe60ae",
   "metadata": {},
   "source": [
    "There are 41 outliers in the PG group, so I will remove the outliers."
   ]
  },
  {
   "cell_type": "code",
   "execution_count": 51,
   "id": "93f2b187",
   "metadata": {},
   "outputs": [],
   "source": [
    "# remove outliers \n",
    "PG = PG[(np.abs(stats.zscore(PG)) < 3)]"
   ]
  },
  {
   "cell_type": "code",
   "execution_count": 52,
   "id": "90feca6b",
   "metadata": {},
   "outputs": [
    {
     "data": {
      "text/plain": [
       "1431"
      ]
     },
     "execution_count": 52,
     "metadata": {},
     "output_type": "execute_result"
    }
   ],
   "source": [
    "#check final count after removing outliers\n",
    "len(PG)"
   ]
  },
  {
   "cell_type": "markdown",
   "id": "d4bd093f",
   "metadata": {},
   "source": [
    "#### **Certification: `G`**"
   ]
  },
  {
   "cell_type": "code",
   "execution_count": 53,
   "id": "9a547e20",
   "metadata": {},
   "outputs": [
    {
     "data": {
      "text/plain": [
       "457"
      ]
     },
     "execution_count": 53,
     "metadata": {},
     "output_type": "execute_result"
    }
   ],
   "source": [
    "#check initial count before removing outliers\n",
    "len(G)"
   ]
  },
  {
   "cell_type": "code",
   "execution_count": 54,
   "id": "6c359e45",
   "metadata": {},
   "outputs": [
    {
     "data": {
      "text/plain": [
       "10"
      ]
     },
     "execution_count": 54,
     "metadata": {},
     "output_type": "execute_result"
    }
   ],
   "source": [
    "#check for outliers\n",
    "zscores_f = stats.zscore(G)\n",
    "outliers_f = abs(zscores_f)>3\n",
    "np.sum(outliers_f)"
   ]
  },
  {
   "cell_type": "markdown",
   "id": "0677e6cd",
   "metadata": {},
   "source": [
    "There are 10 outliers in the G group, so I will remove the outliers."
   ]
  },
  {
   "cell_type": "code",
   "execution_count": 55,
   "id": "97104b16",
   "metadata": {},
   "outputs": [],
   "source": [
    "# remove outliers \n",
    "G = G[(np.abs(stats.zscore(G)) < 3)]"
   ]
  },
  {
   "cell_type": "code",
   "execution_count": 56,
   "id": "4a637010",
   "metadata": {},
   "outputs": [
    {
     "data": {
      "text/plain": [
       "447"
      ]
     },
     "execution_count": 56,
     "metadata": {},
     "output_type": "execute_result"
    }
   ],
   "source": [
    "#check final count after removing outliers\n",
    "len(G)"
   ]
  },
  {
   "cell_type": "markdown",
   "id": "5972dd57",
   "metadata": {},
   "source": [
    "### 3.2 Test for Normality"
   ]
  },
  {
   "cell_type": "code",
   "execution_count": 57,
   "id": "206b2c70",
   "metadata": {},
   "outputs": [
    {
     "data": {
      "text/plain": [
       "dict_keys(['PG', 'R', 'G', 'PG-13'])"
      ]
     },
     "execution_count": 57,
     "metadata": {},
     "output_type": "execute_result"
    }
   ],
   "source": [
    "## Create groups dictionary. \n",
    "groups = {}\n",
    "## Loop through all unique categories\n",
    "for i in Q1_df_cleaned['certification'].unique():\n",
    "    ## Get series for group and rename\n",
    "    data = Q1_df_cleaned.loc[Q1_df_cleaned['certification']==i,'revenue'].copy()\n",
    "    \n",
    "    # save into the dictionary\n",
    "    groups[i] = data\n",
    "groups.keys()"
   ]
  },
  {
   "cell_type": "code",
   "execution_count": 58,
   "id": "9d09f80a",
   "metadata": {},
   "outputs": [
    {
     "data": {
      "text/html": [
       "<div>\n",
       "<style scoped>\n",
       "    .dataframe tbody tr th:only-of-type {\n",
       "        vertical-align: middle;\n",
       "    }\n",
       "\n",
       "    .dataframe tbody tr th {\n",
       "        vertical-align: top;\n",
       "    }\n",
       "\n",
       "    .dataframe thead th {\n",
       "        text-align: right;\n",
       "    }\n",
       "</style>\n",
       "<table border=\"1\" class=\"dataframe\">\n",
       "  <thead>\n",
       "    <tr style=\"text-align: right;\">\n",
       "      <th></th>\n",
       "      <th>n</th>\n",
       "      <th>p</th>\n",
       "      <th>test stat</th>\n",
       "    </tr>\n",
       "  </thead>\n",
       "  <tbody>\n",
       "    <tr>\n",
       "      <th>PG</th>\n",
       "      <td>1472.0</td>\n",
       "      <td>6.733746e-275</td>\n",
       "      <td>1262.607538</td>\n",
       "    </tr>\n",
       "    <tr>\n",
       "      <th>R</th>\n",
       "      <td>6252.0</td>\n",
       "      <td>0.000000e+00</td>\n",
       "      <td>7963.911586</td>\n",
       "    </tr>\n",
       "    <tr>\n",
       "      <th>G</th>\n",
       "      <td>457.0</td>\n",
       "      <td>1.119525e-119</td>\n",
       "      <td>547.789444</td>\n",
       "    </tr>\n",
       "    <tr>\n",
       "      <th>PG-13</th>\n",
       "      <td>3289.0</td>\n",
       "      <td>0.000000e+00</td>\n",
       "      <td>3660.257859</td>\n",
       "    </tr>\n",
       "  </tbody>\n",
       "</table>\n",
       "</div>"
      ],
      "text/plain": [
       "            n              p    test stat\n",
       "PG     1472.0  6.733746e-275  1262.607538\n",
       "R      6252.0   0.000000e+00  7963.911586\n",
       "G       457.0  1.119525e-119   547.789444\n",
       "PG-13  3289.0   0.000000e+00  3660.257859"
      ]
     },
     "execution_count": 58,
     "metadata": {},
     "output_type": "execute_result"
    }
   ],
   "source": [
    "## Run normal test on each group and confirming there are >15 in each group\n",
    "norm_results = {}\n",
    "for i, data in groups.items():\n",
    "    stat, p = stats.normaltest(data)\n",
    "    ## save the p val, test statistic, and the size of the group\n",
    "    norm_results[i] = {'n': len(data),\n",
    "                             'p':p,\n",
    "                             'test stat':stat,}\n",
    "## convert to a dataframe\n",
    "norm_results_df = pd.DataFrame(norm_results).T\n",
    "norm_results_df"
   ]
  },
  {
   "cell_type": "code",
   "execution_count": 59,
   "id": "8e96295c",
   "metadata": {},
   "outputs": [
    {
     "data": {
      "text/html": [
       "<div>\n",
       "<style scoped>\n",
       "    .dataframe tbody tr th:only-of-type {\n",
       "        vertical-align: middle;\n",
       "    }\n",
       "\n",
       "    .dataframe tbody tr th {\n",
       "        vertical-align: top;\n",
       "    }\n",
       "\n",
       "    .dataframe thead th {\n",
       "        text-align: right;\n",
       "    }\n",
       "</style>\n",
       "<table border=\"1\" class=\"dataframe\">\n",
       "  <thead>\n",
       "    <tr style=\"text-align: right;\">\n",
       "      <th></th>\n",
       "      <th>n</th>\n",
       "      <th>p</th>\n",
       "      <th>test stat</th>\n",
       "      <th>sig</th>\n",
       "    </tr>\n",
       "  </thead>\n",
       "  <tbody>\n",
       "    <tr>\n",
       "      <th>PG</th>\n",
       "      <td>1472.0</td>\n",
       "      <td>6.733746e-275</td>\n",
       "      <td>1262.607538</td>\n",
       "      <td>True</td>\n",
       "    </tr>\n",
       "    <tr>\n",
       "      <th>R</th>\n",
       "      <td>6252.0</td>\n",
       "      <td>0.000000e+00</td>\n",
       "      <td>7963.911586</td>\n",
       "      <td>True</td>\n",
       "    </tr>\n",
       "    <tr>\n",
       "      <th>G</th>\n",
       "      <td>457.0</td>\n",
       "      <td>1.119525e-119</td>\n",
       "      <td>547.789444</td>\n",
       "      <td>True</td>\n",
       "    </tr>\n",
       "    <tr>\n",
       "      <th>PG-13</th>\n",
       "      <td>3289.0</td>\n",
       "      <td>0.000000e+00</td>\n",
       "      <td>3660.257859</td>\n",
       "      <td>True</td>\n",
       "    </tr>\n",
       "  </tbody>\n",
       "</table>\n",
       "</div>"
      ],
      "text/plain": [
       "            n              p    test stat   sig\n",
       "PG     1472.0  6.733746e-275  1262.607538  True\n",
       "R      6252.0   0.000000e+00  7963.911586  True\n",
       "G       457.0  1.119525e-119   547.789444  True\n",
       "PG-13  3289.0   0.000000e+00  3660.257859  True"
      ]
     },
     "execution_count": 59,
     "metadata": {},
     "output_type": "execute_result"
    }
   ],
   "source": [
    "### check significance\n",
    "norm_results_df['sig'] = norm_results_df['p'] < .05 \n",
    "norm_results_df"
   ]
  },
  {
   "cell_type": "markdown",
   "id": "fb95d392",
   "metadata": {},
   "source": [
    "These groups do not have normal distribution, but the sample size is greater than 15, so we can proceed."
   ]
  },
  {
   "cell_type": "markdown",
   "id": "9a95ea93",
   "metadata": {},
   "source": [
    "### 3.3 Equal Variance"
   ]
  },
  {
   "cell_type": "code",
   "execution_count": 60,
   "id": "536d6754",
   "metadata": {},
   "outputs": [
    {
     "data": {
      "text/plain": [
       "LeveneResult(statistic=161.08636449824178, pvalue=2.8106090077819206e-102)"
      ]
     },
     "execution_count": 60,
     "metadata": {},
     "output_type": "execute_result"
    }
   ],
   "source": [
    "# with the * operator \n",
    "stats.levene(*groups.values())"
   ]
  },
  {
   "cell_type": "markdown",
   "id": "b295b4e4",
   "metadata": {},
   "source": [
    "**Interpretation**: p-value is < 0.05, therefore, we do **not** have equal variance.\n",
    "\n",
    "Therefore, we must select the **non-parametric equivalent** of the ONE-WAY ANOVA test, which is the **Kruskal-Wallis** test."
   ]
  },
  {
   "cell_type": "markdown",
   "id": "54b5c6ac",
   "metadata": {},
   "source": [
    "# 4.  Execute the selected non-parametric equivalent test (Kruskal-Wallis test)"
   ]
  },
  {
   "cell_type": "code",
   "execution_count": 61,
   "id": "aca692bd",
   "metadata": {},
   "outputs": [
    {
     "data": {
      "text/plain": [
       "KruskalResult(statistic=455.84512897952084, pvalue=1.765168911470786e-98)"
      ]
     },
     "execution_count": 61,
     "metadata": {},
     "output_type": "execute_result"
    }
   ],
   "source": [
    "# perform the hypothesis test\n",
    "result = stats.kruskal( *groups.values())\n",
    "result"
   ]
  },
  {
   "cell_type": "markdown",
   "id": "5c2ec3d1",
   "metadata": {},
   "source": [
    "# 5. Interpret the p-value with reference to the null hypothesis"
   ]
  },
  {
   "cell_type": "markdown",
   "id": "1035b71c",
   "metadata": {},
   "source": [
    "p-value is < 0.05, therefore, the test result showed significance.\n",
    "\n",
    "We reject the null hypothesis and support that there is a significant difference in the average revenue between the 4 groups."
   ]
  },
  {
   "cell_type": "markdown",
   "id": "e7ec63bb",
   "metadata": {},
   "source": [
    "# 6. Post-hoc multiple comparison tests (Tukey's test)"
   ]
  },
  {
   "cell_type": "code",
   "execution_count": 62,
   "id": "849fdff5",
   "metadata": {},
   "outputs": [],
   "source": [
    "from statsmodels.stats.multicomp import pairwise_tukeyhsd\n",
    "\n",
    "values = Q1_df_cleaned['revenue']\n",
    "labels = Q1_df_cleaned['certification']"
   ]
  },
  {
   "cell_type": "code",
   "execution_count": 63,
   "id": "01687f89",
   "metadata": {},
   "outputs": [
    {
     "data": {
      "text/html": [
       "<table class=\"simpletable\">\n",
       "<caption>Multiple Comparison of Means - Tukey HSD, FWER=0.05</caption>\n",
       "<tr>\n",
       "  <th>group1</th> <th>group2</th>    <th>meandiff</th>     <th>p-adj</th>      <th>lower</th>          <th>upper</th>     <th>reject</th>\n",
       "</tr>\n",
       "<tr>\n",
       "     <td>G</td>     <td>PG</td>    <td>36605652.6119</td>   <td>0.0</td>   <td>18761852.8345</td>  <td>54449452.3893</td>  <td>True</td> \n",
       "</tr>\n",
       "<tr>\n",
       "     <td>G</td>    <td>PG-13</td>  <td>39421350.5905</td>   <td>0.0</td>   <td>22786186.7581</td>  <td>56056514.423</td>   <td>True</td> \n",
       "</tr>\n",
       "<tr>\n",
       "     <td>G</td>      <td>R</td>    <td>-16145497.09</td>   <td>0.05</td>  <td>-32292597.4243</td>    <td>1603.2442</td>    <td>False</td>\n",
       "</tr>\n",
       "<tr>\n",
       "    <td>PG</td>    <td>PG-13</td>  <td>2815697.9786</td>  <td>0.9001</td>  <td>-7633825.3927</td>   <td>13265221.35</td>   <td>False</td>\n",
       "</tr>\n",
       "<tr>\n",
       "    <td>PG</td>      <td>R</td>   <td>-52751149.7019</td>   <td>0.0</td>  <td>-62404786.9524</td> <td>-43097512.4515</td>  <td>True</td> \n",
       "</tr>\n",
       "<tr>\n",
       "   <td>PG-13</td>    <td>R</td>   <td>-55566847.6806</td>   <td>0.0</td>  <td>-62744604.8092</td>  <td>-48389090.552</td>  <td>True</td> \n",
       "</tr>\n",
       "</table>"
      ],
      "text/plain": [
       "<class 'statsmodels.iolib.table.SimpleTable'>"
      ]
     },
     "execution_count": 63,
     "metadata": {},
     "output_type": "execute_result"
    }
   ],
   "source": [
    "## perform tukey's multiple comparison test and display the summary\n",
    "tukeys_results = pairwise_tukeyhsd(values,labels)\n",
    "tukeys_results.summary()"
   ]
  },
  {
   "cell_type": "markdown",
   "id": "17aa0a62",
   "metadata": {},
   "source": [
    "There is no significant difference between the following groups:\n",
    "- G and R\n",
    "- PG and PG-13\n",
    "\n",
    "There is a significant difference between the following groups:\n",
    "- G and PG\n",
    "- G and PG-13\n",
    "- PG and R\n",
    "- PG-13 and R"
   ]
  },
  {
   "cell_type": "markdown",
   "id": "aa8cbf10",
   "metadata": {},
   "source": [
    "# 7. Visualization"
   ]
  },
  {
   "cell_type": "code",
   "execution_count": 64,
   "id": "8a38f373",
   "metadata": {},
   "outputs": [
    {
     "data": {
      "text/plain": [
       "Text(0.5, 1.0, 'Comparison of average revenue per certification group')"
      ]
     },
     "execution_count": 64,
     "metadata": {},
     "output_type": "execute_result"
    },
    {
     "data": {
      "image/png": "[encoded data removed]",
      "text/plain": [
       "<Figure size 640x480 with 1 Axes>"
      ]
     },
     "metadata": {},
     "output_type": "display_data"
    }
   ],
   "source": [
    "ax = sns.barplot(data=Q1_df_cleaned, x='certification', y='revenue' )\n",
    "ax.set_title('Comparison of average revenue per certification group')"
   ]
  },
  {
   "cell_type": "markdown",
   "id": "b3115b91",
   "metadata": {},
   "source": [
    "# 8. Answering Stakeholder's Question: \n"
   ]
  },
  {
   "cell_type": "markdown",
   "id": "12f00862",
   "metadata": {},
   "source": [
    "**Question**: Does the MPAA rating of a movie (G/PG/PG-13/R) affect how much revenue the movie generates?\n",
    "\n",
    "**Conclusion**: Yes, we support that there is a significant difference in the average revenue between the 4 groups."
   ]
  },
  {
   "cell_type": "markdown",
   "id": "9fc1176f",
   "metadata": {},
   "source": [
    "# **Q2. Do movies that are over 2.5 hours long earn more revenue than movies that are less than 2.5 hours long?**"
   ]
  },
  {
   "cell_type": "markdown",
   "id": "228f9f8e",
   "metadata": {},
   "source": [
    "## 0. Data Preparation"
   ]
  },
  {
   "cell_type": "code",
   "execution_count": 65,
   "id": "341cacfd",
   "metadata": {},
   "outputs": [],
   "source": [
    "#prepare df\n",
    "Q2_df = df.copy()"
   ]
  },
  {
   "cell_type": "code",
   "execution_count": 66,
   "id": "24bf91ca",
   "metadata": {},
   "outputs": [],
   "source": [
    "#extract only the necessary columns\n",
    "Q2_df = Q2_df[['runtime', 'revenue']]"
   ]
  },
  {
   "cell_type": "code",
   "execution_count": 67,
   "id": "ce87d768",
   "metadata": {},
   "outputs": [
    {
     "name": "stdout",
     "output_type": "stream",
     "text": [
      "<class 'pandas.core.frame.DataFrame'>\n",
      "Int64Index: 63125 entries, 0 to 63147\n",
      "Data columns (total 2 columns):\n",
      " #   Column   Non-Null Count  Dtype  \n",
      "---  ------   --------------  -----  \n",
      " 0   runtime  63124 non-null  float64\n",
      " 1   revenue  63124 non-null  float64\n",
      "dtypes: float64(2)\n",
      "memory usage: 3.5 MB\n"
     ]
    }
   ],
   "source": [
    "Q2_df.info()"
   ]
  },
  {
   "cell_type": "code",
   "execution_count": 68,
   "id": "6da0bdf2",
   "metadata": {},
   "outputs": [],
   "source": [
    "#drop the row with missing values\n",
    "Q2_df = Q2_df.dropna()"
   ]
  },
  {
   "cell_type": "code",
   "execution_count": 69,
   "id": "44d6ec8a",
   "metadata": {},
   "outputs": [
    {
     "name": "stdout",
     "output_type": "stream",
     "text": [
      "<class 'pandas.core.frame.DataFrame'>\n",
      "Int64Index: 63124 entries, 1 to 63147\n",
      "Data columns (total 2 columns):\n",
      " #   Column   Non-Null Count  Dtype  \n",
      "---  ------   --------------  -----  \n",
      " 0   runtime  63124 non-null  float64\n",
      " 1   revenue  63124 non-null  float64\n",
      "dtypes: float64(2)\n",
      "memory usage: 1.4 MB\n"
     ]
    }
   ],
   "source": [
    "Q2_df.info()"
   ]
  },
  {
   "cell_type": "code",
   "execution_count": 70,
   "id": "86197ac2",
   "metadata": {},
   "outputs": [
    {
     "data": {
      "text/plain": [
       "90.0     4145\n",
       "0.0      3602\n",
       "95.0     1967\n",
       "100.0    1947\n",
       "85.0     1770\n",
       "         ... \n",
       "250.0       1\n",
       "248.0       1\n",
       "37.0        1\n",
       "252.0       1\n",
       "208.0       1\n",
       "Name: runtime, Length: 240, dtype: int64"
      ]
     },
     "execution_count": 70,
     "metadata": {},
     "output_type": "execute_result"
    }
   ],
   "source": [
    "#inspect the units of runtime column\n",
    "Q2_df['runtime'].value_counts()"
   ]
  },
  {
   "cell_type": "markdown",
   "id": "44bedca1",
   "metadata": {},
   "source": [
    "It appears to be in minutes."
   ]
  },
  {
   "cell_type": "code",
   "execution_count": 71,
   "id": "212e4b22",
   "metadata": {},
   "outputs": [],
   "source": [
    "#create a new column that indicates whether the movie is over 2.5 hrs\n",
    "Q2_df['over_150min'] = Q2_df['runtime'] > 150"
   ]
  },
  {
   "cell_type": "code",
   "execution_count": 72,
   "id": "e4bdacd8",
   "metadata": {},
   "outputs": [
    {
     "data": {
      "text/html": [
       "<div>\n",
       "<style scoped>\n",
       "    .dataframe tbody tr th:only-of-type {\n",
       "        vertical-align: middle;\n",
       "    }\n",
       "\n",
       "    .dataframe tbody tr th {\n",
       "        vertical-align: top;\n",
       "    }\n",
       "\n",
       "    .dataframe thead th {\n",
       "        text-align: right;\n",
       "    }\n",
       "</style>\n",
       "<table border=\"1\" class=\"dataframe\">\n",
       "  <thead>\n",
       "    <tr style=\"text-align: right;\">\n",
       "      <th></th>\n",
       "      <th>runtime</th>\n",
       "      <th>revenue</th>\n",
       "      <th>over_150min</th>\n",
       "    </tr>\n",
       "  </thead>\n",
       "  <tbody>\n",
       "    <tr>\n",
       "      <th>1</th>\n",
       "      <td>86.0</td>\n",
       "      <td>0.0</td>\n",
       "      <td>False</td>\n",
       "    </tr>\n",
       "    <tr>\n",
       "      <th>2</th>\n",
       "      <td>100.0</td>\n",
       "      <td>0.0</td>\n",
       "      <td>False</td>\n",
       "    </tr>\n",
       "    <tr>\n",
       "      <th>3</th>\n",
       "      <td>152.0</td>\n",
       "      <td>0.0</td>\n",
       "      <td>True</td>\n",
       "    </tr>\n",
       "    <tr>\n",
       "      <th>4</th>\n",
       "      <td>99.0</td>\n",
       "      <td>14204632.0</td>\n",
       "      <td>False</td>\n",
       "    </tr>\n",
       "    <tr>\n",
       "      <th>5</th>\n",
       "      <td>99.0</td>\n",
       "      <td>0.0</td>\n",
       "      <td>False</td>\n",
       "    </tr>\n",
       "  </tbody>\n",
       "</table>\n",
       "</div>"
      ],
      "text/plain": [
       "   runtime     revenue  over_150min\n",
       "1     86.0         0.0        False\n",
       "2    100.0         0.0        False\n",
       "3    152.0         0.0         True\n",
       "4     99.0  14204632.0        False\n",
       "5     99.0         0.0        False"
      ]
     },
     "execution_count": 72,
     "metadata": {},
     "output_type": "execute_result"
    }
   ],
   "source": [
    "Q2_df.head()"
   ]
  },
  {
   "cell_type": "markdown",
   "id": "c47e13a4",
   "metadata": {},
   "source": [
    "**Data Cleaning & Preparation is complete for Q2**."
   ]
  },
  {
   "cell_type": "markdown",
   "id": "a7451b2c",
   "metadata": {},
   "source": [
    "## 1. Null Hypothesis and Alternate Hypothesis"
   ]
  },
  {
   "cell_type": "markdown",
   "id": "f1e87772",
   "metadata": {},
   "source": [
    "**Null Hypothesis**: There is no difference in the revenue whether the movie is longer than 2.5 hrs or not.\n",
    "\n",
    "**Alternative Hypothesis**: There is a significant difference in the revenue depending on whether the movie is longer than 2.5 hrs or not."
   ]
  },
  {
   "cell_type": "markdown",
   "id": "70a616e3",
   "metadata": {},
   "source": [
    "## 2. Select the Appropriate Hypothesis Test"
   ]
  },
  {
   "cell_type": "markdown",
   "id": "f6102b23",
   "metadata": {},
   "source": [
    "**Test Type**: 2-sample Independent T-Test\n",
    "\n",
    "**Justification**:\n",
    "- Target 'revenue' is **numerical**.\n",
    "- Comparing 2 groups of movies: **>150min** and **<150min**"
   ]
  },
  {
   "cell_type": "markdown",
   "id": "18039d09",
   "metadata": {},
   "source": [
    "## 3. Test the assumptions"
   ]
  },
  {
   "cell_type": "markdown",
   "id": "5bc98ede",
   "metadata": {},
   "source": [
    "Independent T-Test Assumptions:\n",
    "\n",
    "- No significant outliers\n",
    "- Normality\n",
    "- Equal Variance"
   ]
  },
  {
   "cell_type": "code",
   "execution_count": 73,
   "id": "9ad514a1",
   "metadata": {},
   "outputs": [
    {
     "name": "stdout",
     "output_type": "stream",
     "text": [
      "For Movies over 2.5 hrs (n=1125): Mean=38489021.52\n",
      "For Movies shorter than 2.5 hrs (n=61999): Mean=7475626.04\n"
     ]
    }
   ],
   "source": [
    "over_150 = Q2_df.loc[Q2_df['over_150min']== True,\"revenue\"]\n",
    "under_150 = Q2_df.loc[Q2_df['over_150min']== False,\"revenue\"]\n",
    "## Print the average revenue for each group\n",
    "print(f\"For Movies over 2.5 hrs (n={len(over_150)}): Mean={np.mean(over_150):.2f}\")\n",
    "print(f\"For Movies shorter than 2.5 hrs (n={len(under_150)}): Mean={np.mean(under_150):.2f}\")"
   ]
  },
  {
   "cell_type": "markdown",
   "id": "197e4a5d",
   "metadata": {},
   "source": [
    "### 3.1 Check Outliers"
   ]
  },
  {
   "cell_type": "markdown",
   "id": "7cddcbb7",
   "metadata": {},
   "source": [
    "**over_150**"
   ]
  },
  {
   "cell_type": "code",
   "execution_count": 74,
   "id": "4e358d86",
   "metadata": {},
   "outputs": [
    {
     "data": {
      "text/plain": [
       "1125"
      ]
     },
     "execution_count": 74,
     "metadata": {},
     "output_type": "execute_result"
    }
   ],
   "source": [
    "#check initial count before removing outliers\n",
    "len(over_150)"
   ]
  },
  {
   "cell_type": "code",
   "execution_count": 75,
   "id": "38a23770",
   "metadata": {},
   "outputs": [
    {
     "data": {
      "text/plain": [
       "24"
      ]
     },
     "execution_count": 75,
     "metadata": {},
     "output_type": "execute_result"
    }
   ],
   "source": [
    "#check for outliers\n",
    "zscores_f = stats.zscore(over_150)\n",
    "outliers_f = abs(zscores_f)>3\n",
    "np.sum(outliers_f)"
   ]
  },
  {
   "cell_type": "markdown",
   "id": "93579548",
   "metadata": {},
   "source": [
    "There are 24 outliers in this group, so I will remove the outliers."
   ]
  },
  {
   "cell_type": "code",
   "execution_count": 76,
   "id": "026c5d8d",
   "metadata": {},
   "outputs": [],
   "source": [
    "# remove outliers \n",
    "over_150 = over_150[(np.abs(stats.zscore(over_150)) < 3)]"
   ]
  },
  {
   "cell_type": "code",
   "execution_count": 77,
   "id": "93b7c0ef",
   "metadata": {},
   "outputs": [
    {
     "data": {
      "text/plain": [
       "1101"
      ]
     },
     "execution_count": 77,
     "metadata": {},
     "output_type": "execute_result"
    }
   ],
   "source": [
    "#check final count after removing outliers\n",
    "len(over_150)"
   ]
  },
  {
   "cell_type": "markdown",
   "id": "da22e5a2",
   "metadata": {},
   "source": [
    "**under_150**"
   ]
  },
  {
   "cell_type": "code",
   "execution_count": 78,
   "id": "87015b88",
   "metadata": {},
   "outputs": [
    {
     "data": {
      "text/plain": [
       "61999"
      ]
     },
     "execution_count": 78,
     "metadata": {},
     "output_type": "execute_result"
    }
   ],
   "source": [
    "#check initial count before removing outliers\n",
    "len(under_150)"
   ]
  },
  {
   "cell_type": "code",
   "execution_count": 79,
   "id": "4d393bbc",
   "metadata": {},
   "outputs": [
    {
     "data": {
      "text/plain": [
       "720"
      ]
     },
     "execution_count": 79,
     "metadata": {},
     "output_type": "execute_result"
    }
   ],
   "source": [
    "#check for outliers\n",
    "zscores_f = stats.zscore(under_150)\n",
    "outliers_f = abs(zscores_f)>3\n",
    "np.sum(outliers_f)"
   ]
  },
  {
   "cell_type": "markdown",
   "id": "7feb3143",
   "metadata": {},
   "source": [
    "There are 720 outliers in this group, so I will remove the outliers."
   ]
  },
  {
   "cell_type": "code",
   "execution_count": 80,
   "id": "b89cac3f",
   "metadata": {},
   "outputs": [],
   "source": [
    "# remove outliers \n",
    "under_150 = under_150[(np.abs(stats.zscore(under_150)) < 3)]"
   ]
  },
  {
   "cell_type": "code",
   "execution_count": 81,
   "id": "cc20acce",
   "metadata": {},
   "outputs": [
    {
     "data": {
      "text/plain": [
       "61279"
      ]
     },
     "execution_count": 81,
     "metadata": {},
     "output_type": "execute_result"
    }
   ],
   "source": [
    "#check final count after removing outliers\n",
    "len(under_150)"
   ]
  },
  {
   "cell_type": "markdown",
   "id": "af573f2a",
   "metadata": {},
   "source": [
    "### 3.2 Test for Normality"
   ]
  },
  {
   "cell_type": "code",
   "execution_count": 82,
   "id": "a017f358",
   "metadata": {},
   "outputs": [
    {
     "data": {
      "text/plain": [
       "NormaltestResult(statistic=1228.8198901364794, pvalue=1.4626864236612346e-267)"
      ]
     },
     "execution_count": 82,
     "metadata": {},
     "output_type": "execute_result"
    }
   ],
   "source": [
    "# normal test: over_150\n",
    "result_over_150 = stats.normaltest(over_150)\n",
    "result_over_150"
   ]
  },
  {
   "cell_type": "code",
   "execution_count": 83,
   "id": "f762f7cb",
   "metadata": {},
   "outputs": [
    {
     "data": {
      "text/plain": [
       "NormaltestResult(statistic=77124.58744538008, pvalue=0.0)"
      ]
     },
     "execution_count": 83,
     "metadata": {},
     "output_type": "execute_result"
    }
   ],
   "source": [
    "# normal test: under_150\n",
    "result_under_150 = stats.normaltest(under_150)\n",
    "result_under_150"
   ]
  },
  {
   "cell_type": "markdown",
   "id": "ce328cd9",
   "metadata": {},
   "source": [
    "**Interpretation**: For both groups, the p-value is less than 0.05, which means that the data is **NOT** normally distributed for both groups, however, since the sample size for each group is more than 15, we can proceed."
   ]
  },
  {
   "cell_type": "markdown",
   "id": "5081651a",
   "metadata": {},
   "source": [
    "### 3.3 Test for Equal Variance"
   ]
  },
  {
   "cell_type": "code",
   "execution_count": 84,
   "id": "a2f9ae9e",
   "metadata": {},
   "outputs": [
    {
     "data": {
      "text/plain": [
       "LeveneResult(statistic=587.976307843879, pvalue=2.7486369724560385e-129)"
      ]
     },
     "execution_count": 84,
     "metadata": {},
     "output_type": "execute_result"
    }
   ],
   "source": [
    "result = stats.levene(over_150, under_150)\n",
    "result"
   ]
  },
  {
   "cell_type": "markdown",
   "id": "c8e13f74",
   "metadata": {},
   "source": [
    "**Interpretation**: Since p-value is less than 0.05, we do **not** have equal variance.\n",
    "\n",
    "We will need to include `\"equal_var = False\"` when we perform our t-test."
   ]
  },
  {
   "cell_type": "markdown",
   "id": "b97e319e",
   "metadata": {},
   "source": [
    "## 4. Execute the selected test"
   ]
  },
  {
   "cell_type": "code",
   "execution_count": 85,
   "id": "738e8a88",
   "metadata": {},
   "outputs": [
    {
     "data": {
      "text/plain": [
       "Ttest_indResult(statistic=6.591227223748625, pvalue=6.748016250240863e-11)"
      ]
     },
     "execution_count": 85,
     "metadata": {},
     "output_type": "execute_result"
    }
   ],
   "source": [
    "# Independent t-test with equal_var set to False\n",
    "result = stats.ttest_ind(over_150, under_150, equal_var = False)\n",
    "result"
   ]
  },
  {
   "cell_type": "markdown",
   "id": "b45ce65a",
   "metadata": {},
   "source": [
    "# 5. Interpret the p-value with reference to null hypothesis\n",
    "\n",
    "The p-value < alpha (0.05), therefore, we reject the null hypothesis and support that there is a significant difference in the revenue depending on whether the movie is longer than 2.5 hrs or not."
   ]
  },
  {
   "cell_type": "markdown",
   "id": "6fd48f1c",
   "metadata": {},
   "source": [
    "# 6. Visualization"
   ]
  },
  {
   "cell_type": "code",
   "execution_count": 86,
   "id": "de096a36",
   "metadata": {},
   "outputs": [
    {
     "data": {
      "text/plain": [
       "Text(0.5, 1.0, 'Revenue by Movie Length')"
      ]
     },
     "execution_count": 86,
     "metadata": {},
     "output_type": "execute_result"
    },
    {
     "data": {
      "image/png": "[encoded data removed]",
      "text/plain": [
       "<Figure size 640x480 with 1 Axes>"
      ]
     },
     "metadata": {},
     "output_type": "display_data"
    }
   ],
   "source": [
    "ax = sns.barplot(data=Q2_df, x='over_150min', y='revenue')\n",
    "ax.set_title('Revenue by Movie Length')"
   ]
  },
  {
   "cell_type": "markdown",
   "id": "c7e22112",
   "metadata": {},
   "source": [
    "# 7. Answering Question"
   ]
  },
  {
   "cell_type": "markdown",
   "id": "6d2214a0",
   "metadata": {},
   "source": [
    "**Question**: Do movies that are over 2.5 hours long earn more revenue than movies that are less than 2.5 hours long?\n",
    "\n",
    "**Conclusion**: Yes, movies that are over 2.5 hours long earn more revenue than movies that are less than 2.5 hours long."
   ]
  },
  {
   "cell_type": "markdown",
   "id": "fe390d2b",
   "metadata": {},
   "source": [
    "# **Q3. Do movies released in 2020 earn less revenue than movies released in 2019 ?**"
   ]
  },
  {
   "cell_type": "markdown",
   "id": "921eb56c",
   "metadata": {},
   "source": [
    "## 0. Data Preparation"
   ]
  },
  {
   "cell_type": "code",
   "execution_count": 87,
   "id": "1722f2db",
   "metadata": {},
   "outputs": [],
   "source": [
    "Q3_df = df.copy()"
   ]
  },
  {
   "cell_type": "code",
   "execution_count": 88,
   "id": "75b365d6",
   "metadata": {},
   "outputs": [
    {
     "name": "stdout",
     "output_type": "stream",
     "text": [
      "<class 'pandas.core.frame.DataFrame'>\n",
      "Int64Index: 63125 entries, 0 to 63147\n",
      "Data columns (total 22 columns):\n",
      " #   Column                 Non-Null Count  Dtype  \n",
      "---  ------                 --------------  -----  \n",
      " 0   adult                  63124 non-null  float64\n",
      " 1   belongs_to_collection  4257 non-null   object \n",
      " 2   budget                 63124 non-null  float64\n",
      " 3   genres                 63124 non-null  object \n",
      " 4   id                     63124 non-null  float64\n",
      " 5   original_language      63124 non-null  object \n",
      " 6   original_title         63124 non-null  object \n",
      " 7   overview               61822 non-null  object \n",
      " 8   popularity             63124 non-null  float64\n",
      " 9   production_companies   63124 non-null  object \n",
      " 10  production_countries   63124 non-null  object \n",
      " 11  release_date           62042 non-null  object \n",
      " 12  revenue                63124 non-null  float64\n",
      " 13  runtime                63124 non-null  float64\n",
      " 14  spoken_languages       63124 non-null  object \n",
      " 15  status                 63124 non-null  object \n",
      " 16  tagline                24145 non-null  object \n",
      " 17  title                  63124 non-null  object \n",
      " 18  video                  63124 non-null  float64\n",
      " 19  vote_average           63124 non-null  float64\n",
      " 20  vote_count             63124 non-null  float64\n",
      " 21  certification          15240 non-null  object \n",
      "dtypes: float64(9), object(13)\n",
      "memory usage: 13.1+ MB\n"
     ]
    }
   ],
   "source": [
    "Q3_df.info()"
   ]
  },
  {
   "cell_type": "code",
   "execution_count": 89,
   "id": "62827c1d",
   "metadata": {},
   "outputs": [],
   "source": [
    "#extract only necessary columns\n",
    "Q3_df = Q3_df[['revenue','release_date']]"
   ]
  },
  {
   "cell_type": "code",
   "execution_count": 90,
   "id": "a1eac9ab",
   "metadata": {},
   "outputs": [
    {
     "name": "stdout",
     "output_type": "stream",
     "text": [
      "<class 'pandas.core.frame.DataFrame'>\n",
      "Int64Index: 63125 entries, 0 to 63147\n",
      "Data columns (total 2 columns):\n",
      " #   Column        Non-Null Count  Dtype  \n",
      "---  ------        --------------  -----  \n",
      " 0   revenue       63124 non-null  float64\n",
      " 1   release_date  62042 non-null  object \n",
      "dtypes: float64(1), object(1)\n",
      "memory usage: 3.5+ MB\n"
     ]
    }
   ],
   "source": [
    "Q3_df.info()"
   ]
  },
  {
   "cell_type": "code",
   "execution_count": 91,
   "id": "33c22f5d",
   "metadata": {},
   "outputs": [],
   "source": [
    "#delete rows with missing data\n",
    "Q3_df = Q3_df.dropna()"
   ]
  },
  {
   "cell_type": "code",
   "execution_count": 92,
   "id": "21d87910",
   "metadata": {},
   "outputs": [
    {
     "name": "stdout",
     "output_type": "stream",
     "text": [
      "<class 'pandas.core.frame.DataFrame'>\n",
      "Int64Index: 62042 entries, 1 to 63147\n",
      "Data columns (total 2 columns):\n",
      " #   Column        Non-Null Count  Dtype  \n",
      "---  ------        --------------  -----  \n",
      " 0   revenue       62042 non-null  float64\n",
      " 1   release_date  62042 non-null  object \n",
      "dtypes: float64(1), object(1)\n",
      "memory usage: 1.4+ MB\n"
     ]
    }
   ],
   "source": [
    "Q3_df.info()"
   ]
  },
  {
   "cell_type": "code",
   "execution_count": 93,
   "id": "cd8e3c0f",
   "metadata": {},
   "outputs": [
    {
     "data": {
      "text/plain": [
       "2009-01-01    258\n",
       "2010-01-01    229\n",
       "2008-01-01    200\n",
       "2011-01-01    195\n",
       "2012-01-01    177\n",
       "             ... \n",
       "2006-01-22      1\n",
       "2006-03-05      1\n",
       "2006-07-24      1\n",
       "2012-07-30      1\n",
       "2022-02-14      1\n",
       "Name: release_date, Length: 7829, dtype: int64"
      ]
     },
     "execution_count": 93,
     "metadata": {},
     "output_type": "execute_result"
    }
   ],
   "source": [
    "#inspect the format of 'release_date' column\n",
    "Q3_df['release_date'].value_counts()"
   ]
  },
  {
   "cell_type": "markdown",
   "id": "6799a8e9",
   "metadata": {},
   "source": [
    "I want to do 2 things with this 'release_date' column.\n",
    "\n",
    "- We only care if the movie was released in 2019 or 2020, so we need a column which only tells us the YEAR of release.\n",
    "- Filter so that we are only keeping data for 2019 and 2020."
   ]
  },
  {
   "cell_type": "code",
   "execution_count": 94,
   "id": "31ca7e88",
   "metadata": {},
   "outputs": [
    {
     "name": "stdout",
     "output_type": "stream",
     "text": [
      "<class 'pandas.core.frame.DataFrame'>\n",
      "Int64Index: 62042 entries, 1 to 63147\n",
      "Data columns (total 2 columns):\n",
      " #   Column        Non-Null Count  Dtype         \n",
      "---  ------        --------------  -----         \n",
      " 0   revenue       62042 non-null  float64       \n",
      " 1   release_date  62042 non-null  datetime64[ns]\n",
      "dtypes: datetime64[ns](1), float64(1)\n",
      "memory usage: 1.4 MB\n"
     ]
    }
   ],
   "source": [
    "#convert to dtype: datetime \n",
    "Q3_df['release_date'] = pd.to_datetime(Q3_df['release_date'])\n",
    "Q3_df.info()"
   ]
  },
  {
   "cell_type": "code",
   "execution_count": 95,
   "id": "4fcc18d0",
   "metadata": {},
   "outputs": [],
   "source": [
    "#make a new column which saves the year\n",
    "Q3_df['year'] = Q3_df['release_date'].dt.year"
   ]
  },
  {
   "cell_type": "code",
   "execution_count": 96,
   "id": "158e98f8",
   "metadata": {},
   "outputs": [
    {
     "data": {
      "text/html": [
       "<div>\n",
       "<style scoped>\n",
       "    .dataframe tbody tr th:only-of-type {\n",
       "        vertical-align: middle;\n",
       "    }\n",
       "\n",
       "    .dataframe tbody tr th {\n",
       "        vertical-align: top;\n",
       "    }\n",
       "\n",
       "    .dataframe thead th {\n",
       "        text-align: right;\n",
       "    }\n",
       "</style>\n",
       "<table border=\"1\" class=\"dataframe\">\n",
       "  <thead>\n",
       "    <tr style=\"text-align: right;\">\n",
       "      <th></th>\n",
       "      <th>revenue</th>\n",
       "      <th>release_date</th>\n",
       "      <th>year</th>\n",
       "    </tr>\n",
       "  </thead>\n",
       "  <tbody>\n",
       "    <tr>\n",
       "      <th>1</th>\n",
       "      <td>0.0</td>\n",
       "      <td>2000-09-22</td>\n",
       "      <td>2000</td>\n",
       "    </tr>\n",
       "    <tr>\n",
       "      <th>2</th>\n",
       "      <td>0.0</td>\n",
       "      <td>2000-11-15</td>\n",
       "      <td>2000</td>\n",
       "    </tr>\n",
       "    <tr>\n",
       "      <th>3</th>\n",
       "      <td>0.0</td>\n",
       "      <td>2000-04-14</td>\n",
       "      <td>2000</td>\n",
       "    </tr>\n",
       "    <tr>\n",
       "      <th>4</th>\n",
       "      <td>14204632.0</td>\n",
       "      <td>2000-09-29</td>\n",
       "      <td>2000</td>\n",
       "    </tr>\n",
       "    <tr>\n",
       "      <th>5</th>\n",
       "      <td>0.0</td>\n",
       "      <td>2000-09-02</td>\n",
       "      <td>2000</td>\n",
       "    </tr>\n",
       "  </tbody>\n",
       "</table>\n",
       "</div>"
      ],
      "text/plain": [
       "      revenue release_date  year\n",
       "1         0.0   2000-09-22  2000\n",
       "2         0.0   2000-11-15  2000\n",
       "3         0.0   2000-04-14  2000\n",
       "4  14204632.0   2000-09-29  2000\n",
       "5         0.0   2000-09-02  2000"
      ]
     },
     "execution_count": 96,
     "metadata": {},
     "output_type": "execute_result"
    }
   ],
   "source": [
    "Q3_df.head()"
   ]
  },
  {
   "cell_type": "code",
   "execution_count": 97,
   "id": "eaa08d1b",
   "metadata": {},
   "outputs": [
    {
     "data": {
      "text/html": [
       "<div>\n",
       "<style scoped>\n",
       "    .dataframe tbody tr th:only-of-type {\n",
       "        vertical-align: middle;\n",
       "    }\n",
       "\n",
       "    .dataframe tbody tr th {\n",
       "        vertical-align: top;\n",
       "    }\n",
       "\n",
       "    .dataframe thead th {\n",
       "        text-align: right;\n",
       "    }\n",
       "</style>\n",
       "<table border=\"1\" class=\"dataframe\">\n",
       "  <thead>\n",
       "    <tr style=\"text-align: right;\">\n",
       "      <th></th>\n",
       "      <th>revenue</th>\n",
       "      <th>release_date</th>\n",
       "      <th>year</th>\n",
       "    </tr>\n",
       "  </thead>\n",
       "  <tbody>\n",
       "    <tr>\n",
       "      <th>7862</th>\n",
       "      <td>0.0</td>\n",
       "      <td>2019-03-26</td>\n",
       "      <td>2019</td>\n",
       "    </tr>\n",
       "    <tr>\n",
       "      <th>14420</th>\n",
       "      <td>0.0</td>\n",
       "      <td>2019-02-01</td>\n",
       "      <td>2019</td>\n",
       "    </tr>\n",
       "    <tr>\n",
       "      <th>29432</th>\n",
       "      <td>0.0</td>\n",
       "      <td>2019-02-13</td>\n",
       "      <td>2019</td>\n",
       "    </tr>\n",
       "    <tr>\n",
       "      <th>29503</th>\n",
       "      <td>0.0</td>\n",
       "      <td>2019-09-14</td>\n",
       "      <td>2019</td>\n",
       "    </tr>\n",
       "    <tr>\n",
       "      <th>29523</th>\n",
       "      <td>0.0</td>\n",
       "      <td>2019-05-04</td>\n",
       "      <td>2019</td>\n",
       "    </tr>\n",
       "    <tr>\n",
       "      <th>...</th>\n",
       "      <td>...</td>\n",
       "      <td>...</td>\n",
       "      <td>...</td>\n",
       "    </tr>\n",
       "    <tr>\n",
       "      <th>62629</th>\n",
       "      <td>0.0</td>\n",
       "      <td>2019-11-01</td>\n",
       "      <td>2019</td>\n",
       "    </tr>\n",
       "    <tr>\n",
       "      <th>62729</th>\n",
       "      <td>0.0</td>\n",
       "      <td>2019-12-04</td>\n",
       "      <td>2019</td>\n",
       "    </tr>\n",
       "    <tr>\n",
       "      <th>62746</th>\n",
       "      <td>0.0</td>\n",
       "      <td>2019-12-01</td>\n",
       "      <td>2019</td>\n",
       "    </tr>\n",
       "    <tr>\n",
       "      <th>62789</th>\n",
       "      <td>0.0</td>\n",
       "      <td>2019-01-15</td>\n",
       "      <td>2019</td>\n",
       "    </tr>\n",
       "    <tr>\n",
       "      <th>62962</th>\n",
       "      <td>0.0</td>\n",
       "      <td>2019-01-01</td>\n",
       "      <td>2019</td>\n",
       "    </tr>\n",
       "  </tbody>\n",
       "</table>\n",
       "<p>4802 rows × 3 columns</p>\n",
       "</div>"
      ],
      "text/plain": [
       "       revenue release_date  year\n",
       "7862       0.0   2019-03-26  2019\n",
       "14420      0.0   2019-02-01  2019\n",
       "29432      0.0   2019-02-13  2019\n",
       "29503      0.0   2019-09-14  2019\n",
       "29523      0.0   2019-05-04  2019\n",
       "...        ...          ...   ...\n",
       "62629      0.0   2019-11-01  2019\n",
       "62729      0.0   2019-12-04  2019\n",
       "62746      0.0   2019-12-01  2019\n",
       "62789      0.0   2019-01-15  2019\n",
       "62962      0.0   2019-01-01  2019\n",
       "\n",
       "[4802 rows x 3 columns]"
      ]
     },
     "execution_count": 97,
     "metadata": {},
     "output_type": "execute_result"
    }
   ],
   "source": [
    "filter_2019 = Q3_df['year'] == 2019\n",
    "Q3_df[filter_2019]"
   ]
  },
  {
   "cell_type": "code",
   "execution_count": 98,
   "id": "9d8a033b",
   "metadata": {},
   "outputs": [
    {
     "data": {
      "text/html": [
       "<div>\n",
       "<style scoped>\n",
       "    .dataframe tbody tr th:only-of-type {\n",
       "        vertical-align: middle;\n",
       "    }\n",
       "\n",
       "    .dataframe tbody tr th {\n",
       "        vertical-align: top;\n",
       "    }\n",
       "\n",
       "    .dataframe thead th {\n",
       "        text-align: right;\n",
       "    }\n",
       "</style>\n",
       "<table border=\"1\" class=\"dataframe\">\n",
       "  <thead>\n",
       "    <tr style=\"text-align: right;\">\n",
       "      <th></th>\n",
       "      <th>revenue</th>\n",
       "      <th>release_date</th>\n",
       "      <th>year</th>\n",
       "    </tr>\n",
       "  </thead>\n",
       "  <tbody>\n",
       "    <tr>\n",
       "      <th>11819</th>\n",
       "      <td>0.0</td>\n",
       "      <td>2020-12-12</td>\n",
       "      <td>2020</td>\n",
       "    </tr>\n",
       "    <tr>\n",
       "      <th>16532</th>\n",
       "      <td>0.0</td>\n",
       "      <td>2020-02-10</td>\n",
       "      <td>2020</td>\n",
       "    </tr>\n",
       "    <tr>\n",
       "      <th>18559</th>\n",
       "      <td>0.0</td>\n",
       "      <td>2020-02-21</td>\n",
       "      <td>2020</td>\n",
       "    </tr>\n",
       "    <tr>\n",
       "      <th>28909</th>\n",
       "      <td>0.0</td>\n",
       "      <td>2020-10-01</td>\n",
       "      <td>2020</td>\n",
       "    </tr>\n",
       "    <tr>\n",
       "      <th>29290</th>\n",
       "      <td>0.0</td>\n",
       "      <td>2020-09-09</td>\n",
       "      <td>2020</td>\n",
       "    </tr>\n",
       "    <tr>\n",
       "      <th>...</th>\n",
       "      <td>...</td>\n",
       "      <td>...</td>\n",
       "      <td>...</td>\n",
       "    </tr>\n",
       "    <tr>\n",
       "      <th>62699</th>\n",
       "      <td>0.0</td>\n",
       "      <td>2020-02-07</td>\n",
       "      <td>2020</td>\n",
       "    </tr>\n",
       "    <tr>\n",
       "      <th>62708</th>\n",
       "      <td>0.0</td>\n",
       "      <td>2020-12-05</td>\n",
       "      <td>2020</td>\n",
       "    </tr>\n",
       "    <tr>\n",
       "      <th>62879</th>\n",
       "      <td>0.0</td>\n",
       "      <td>2020-03-08</td>\n",
       "      <td>2020</td>\n",
       "    </tr>\n",
       "    <tr>\n",
       "      <th>63013</th>\n",
       "      <td>0.0</td>\n",
       "      <td>2020-04-15</td>\n",
       "      <td>2020</td>\n",
       "    </tr>\n",
       "    <tr>\n",
       "      <th>63139</th>\n",
       "      <td>0.0</td>\n",
       "      <td>2020-09-04</td>\n",
       "      <td>2020</td>\n",
       "    </tr>\n",
       "  </tbody>\n",
       "</table>\n",
       "<p>3827 rows × 3 columns</p>\n",
       "</div>"
      ],
      "text/plain": [
       "       revenue release_date  year\n",
       "11819      0.0   2020-12-12  2020\n",
       "16532      0.0   2020-02-10  2020\n",
       "18559      0.0   2020-02-21  2020\n",
       "28909      0.0   2020-10-01  2020\n",
       "29290      0.0   2020-09-09  2020\n",
       "...        ...          ...   ...\n",
       "62699      0.0   2020-02-07  2020\n",
       "62708      0.0   2020-12-05  2020\n",
       "62879      0.0   2020-03-08  2020\n",
       "63013      0.0   2020-04-15  2020\n",
       "63139      0.0   2020-09-04  2020\n",
       "\n",
       "[3827 rows x 3 columns]"
      ]
     },
     "execution_count": 98,
     "metadata": {},
     "output_type": "execute_result"
    }
   ],
   "source": [
    "filter_2020 = Q3_df['year'] == 2020\n",
    "Q3_df[filter_2020]"
   ]
  },
  {
   "cell_type": "code",
   "execution_count": 99,
   "id": "47f9297c",
   "metadata": {},
   "outputs": [],
   "source": [
    "combined_filter = filter_2019 | filter_2020"
   ]
  },
  {
   "cell_type": "code",
   "execution_count": 100,
   "id": "5455f85b",
   "metadata": {},
   "outputs": [],
   "source": [
    "Q3_df = Q3_df[combined_filter]"
   ]
  },
  {
   "cell_type": "code",
   "execution_count": 101,
   "id": "2b4c1935",
   "metadata": {},
   "outputs": [
    {
     "name": "stdout",
     "output_type": "stream",
     "text": [
      "<class 'pandas.core.frame.DataFrame'>\n",
      "Int64Index: 8629 entries, 7862 to 63139\n",
      "Data columns (total 3 columns):\n",
      " #   Column        Non-Null Count  Dtype         \n",
      "---  ------        --------------  -----         \n",
      " 0   revenue       8629 non-null   float64       \n",
      " 1   release_date  8629 non-null   datetime64[ns]\n",
      " 2   year          8629 non-null   int64         \n",
      "dtypes: datetime64[ns](1), float64(1), int64(1)\n",
      "memory usage: 269.7 KB\n"
     ]
    }
   ],
   "source": [
    "Q3_df.info()"
   ]
  },
  {
   "cell_type": "code",
   "execution_count": 103,
   "id": "5aafd339",
   "metadata": {},
   "outputs": [
    {
     "data": {
      "text/plain": [
       "2019    4802\n",
       "2020    3827\n",
       "Name: year, dtype: int64"
      ]
     },
     "execution_count": 103,
     "metadata": {},
     "output_type": "execute_result"
    }
   ],
   "source": [
    "Q3_df['year'].value_counts()"
   ]
  },
  {
   "cell_type": "markdown",
   "id": "70539e70",
   "metadata": {},
   "source": [
    "**Data Cleaning & Preparation is complete for Q3**"
   ]
  },
  {
   "cell_type": "markdown",
   "id": "1fcbff77",
   "metadata": {},
   "source": [
    "## 1. Null Hypothesis and Alternative Hypothesis"
   ]
  },
  {
   "cell_type": "markdown",
   "id": "86020979",
   "metadata": {},
   "source": [
    "**Null Hypothesis**: There is no difference in revenue between movies that were released in 2019 and movies that were released in 2020.\n",
    "\n",
    "**Alternate Hypothesis**: There is difference in revenue between movies that were released in 2019 and movies that were released in 2020."
   ]
  },
  {
   "cell_type": "markdown",
   "id": "89864756",
   "metadata": {},
   "source": [
    "## 2. Select the Appropriate Hypothesis Test"
   ]
  },
  {
   "cell_type": "markdown",
   "id": "e90f6dcc",
   "metadata": {},
   "source": [
    "**Test Type**: 2-sample Independent T-Test\n",
    "\n",
    "**Justification**:\n",
    "- Target 'revenue' is Numerical\n",
    "- Comparing between 2 groups: \"Movies that were released in 2019\" and \"Movies that were released in 2020\""
   ]
  },
  {
   "cell_type": "markdown",
   "id": "82570114",
   "metadata": {},
   "source": [
    "## 3. Test the assumptions"
   ]
  },
  {
   "cell_type": "code",
   "execution_count": 104,
   "id": "99b84dff",
   "metadata": {},
   "outputs": [
    {
     "name": "stdout",
     "output_type": "stream",
     "text": [
      "For Movies released in 2019 (n=4802): Mean=6556434.96\n",
      "For Movies released in 2020 (n=3827): Mean=1516663.39\n"
     ]
    }
   ],
   "source": [
    "movie_2019 = Q3_df.loc[Q3_df['year']== 2019,\"revenue\"]\n",
    "movie_2020 = Q3_df.loc[Q3_df['year']== 2020,\"revenue\"]\n",
    "## Print the average revenue for each group\n",
    "print(f\"For Movies released in 2019 (n={len(movie_2019)}): Mean={np.mean(movie_2019):.2f}\")\n",
    "print(f\"For Movies released in 2020 (n={len(movie_2020)}): Mean={np.mean(movie_2020):.2f}\")"
   ]
  },
  {
   "cell_type": "markdown",
   "id": "cdff9b19",
   "metadata": {},
   "source": [
    "### 3.1 Check Outliers"
   ]
  },
  {
   "cell_type": "markdown",
   "id": "ea686f80",
   "metadata": {},
   "source": [
    "**2019**"
   ]
  },
  {
   "cell_type": "code",
   "execution_count": 105,
   "id": "329bde27",
   "metadata": {},
   "outputs": [
    {
     "data": {
      "text/plain": [
       "4802"
      ]
     },
     "execution_count": 105,
     "metadata": {},
     "output_type": "execute_result"
    }
   ],
   "source": [
    "#check initial count before removing outliers\n",
    "len(movie_2019)"
   ]
  },
  {
   "cell_type": "code",
   "execution_count": 106,
   "id": "8fd07d2a",
   "metadata": {},
   "outputs": [
    {
     "data": {
      "text/plain": [
       "35"
      ]
     },
     "execution_count": 106,
     "metadata": {},
     "output_type": "execute_result"
    }
   ],
   "source": [
    "#check for outliers\n",
    "zscores_f = stats.zscore(movie_2019)\n",
    "outliers_f = abs(zscores_f)>3\n",
    "np.sum(outliers_f)"
   ]
  },
  {
   "cell_type": "markdown",
   "id": "6dafd3cb",
   "metadata": {},
   "source": [
    "There are 35 outliers in this group, so I will remove the outliers."
   ]
  },
  {
   "cell_type": "code",
   "execution_count": 107,
   "id": "205dc10a",
   "metadata": {},
   "outputs": [],
   "source": [
    "# remove outliers \n",
    "movie_2019 = movie_2019[(np.abs(stats.zscore(movie_2019)) < 3)]"
   ]
  },
  {
   "cell_type": "code",
   "execution_count": 108,
   "id": "e1e57eff",
   "metadata": {},
   "outputs": [
    {
     "data": {
      "text/plain": [
       "4767"
      ]
     },
     "execution_count": 108,
     "metadata": {},
     "output_type": "execute_result"
    }
   ],
   "source": [
    "#check final count after removing outliers\n",
    "len(movie_2019)"
   ]
  },
  {
   "cell_type": "markdown",
   "id": "425965dd",
   "metadata": {},
   "source": [
    "**2020**"
   ]
  },
  {
   "cell_type": "code",
   "execution_count": 109,
   "id": "02327f93",
   "metadata": {},
   "outputs": [
    {
     "data": {
      "text/plain": [
       "3827"
      ]
     },
     "execution_count": 109,
     "metadata": {},
     "output_type": "execute_result"
    }
   ],
   "source": [
    "#check initial count before removing outliers\n",
    "len(movie_2020)"
   ]
  },
  {
   "cell_type": "code",
   "execution_count": 110,
   "id": "7ec7d8fb",
   "metadata": {},
   "outputs": [
    {
     "data": {
      "text/plain": [
       "18"
      ]
     },
     "execution_count": 110,
     "metadata": {},
     "output_type": "execute_result"
    }
   ],
   "source": [
    "#check for outliers\n",
    "zscores_f = stats.zscore(movie_2020)\n",
    "outliers_f = abs(zscores_f)>3\n",
    "np.sum(outliers_f)"
   ]
  },
  {
   "cell_type": "markdown",
   "id": "64d53dcb",
   "metadata": {},
   "source": [
    "There are 18 outliers in this group, so I will remove the outliers."
   ]
  },
  {
   "cell_type": "code",
   "execution_count": 111,
   "id": "c50f25f2",
   "metadata": {},
   "outputs": [],
   "source": [
    "# remove outliers \n",
    "movie_2020 = movie_2020[(np.abs(stats.zscore(movie_2020)) < 3)]"
   ]
  },
  {
   "cell_type": "code",
   "execution_count": 112,
   "id": "1e2540b1",
   "metadata": {},
   "outputs": [
    {
     "data": {
      "text/plain": [
       "3809"
      ]
     },
     "execution_count": 112,
     "metadata": {},
     "output_type": "execute_result"
    }
   ],
   "source": [
    "#check final count after removing outliers\n",
    "len(movie_2020)"
   ]
  },
  {
   "cell_type": "markdown",
   "id": "89105ca1",
   "metadata": {},
   "source": [
    "### 3.2 Test for Normality"
   ]
  },
  {
   "cell_type": "code",
   "execution_count": 113,
   "id": "af9cd18e",
   "metadata": {},
   "outputs": [
    {
     "data": {
      "text/plain": [
       "NormaltestResult(statistic=7402.55738282762, pvalue=0.0)"
      ]
     },
     "execution_count": 113,
     "metadata": {},
     "output_type": "execute_result"
    }
   ],
   "source": [
    "# normal test: movie_2019\n",
    "result_2019 = stats.normaltest(movie_2019)\n",
    "result_2019"
   ]
  },
  {
   "cell_type": "code",
   "execution_count": 114,
   "id": "3b13ce3f",
   "metadata": {},
   "outputs": [
    {
     "data": {
      "text/plain": [
       "NormaltestResult(statistic=6140.227922519486, pvalue=0.0)"
      ]
     },
     "execution_count": 114,
     "metadata": {},
     "output_type": "execute_result"
    }
   ],
   "source": [
    "# normal test: movie_2020\n",
    "result_2020 = stats.normaltest(movie_2020)\n",
    "result_2020"
   ]
  },
  {
   "cell_type": "markdown",
   "id": "bfefc5d2",
   "metadata": {},
   "source": [
    "**Interpretation**: For both groups, the p-value is less than 0.05, which means that the data is NOT normally distributed for both groups, however, since the sample size for each group is more than 15, we can proceed."
   ]
  },
  {
   "cell_type": "markdown",
   "id": "524cc304",
   "metadata": {},
   "source": [
    "### 3.3 Test for Equal Variance"
   ]
  },
  {
   "cell_type": "code",
   "execution_count": 115,
   "id": "722288dd",
   "metadata": {},
   "outputs": [
    {
     "data": {
      "text/plain": [
       "LeveneResult(statistic=41.64925427637272, pvalue=1.1512976697248497e-10)"
      ]
     },
     "execution_count": 115,
     "metadata": {},
     "output_type": "execute_result"
    }
   ],
   "source": [
    "result = stats.levene(movie_2019, movie_2020)\n",
    "result"
   ]
  },
  {
   "cell_type": "markdown",
   "id": "9c0d4f35",
   "metadata": {},
   "source": [
    "**Interpretation**: Since p-value is less than 0.05, we do **not** have equal variance.\n",
    "\n",
    "We will need to include `\"equal_var = False\"` when we perform our t-test."
   ]
  },
  {
   "cell_type": "markdown",
   "id": "4902ed32",
   "metadata": {},
   "source": [
    "## 4. Execute the selected test"
   ]
  },
  {
   "cell_type": "code",
   "execution_count": 116,
   "id": "b72da4af",
   "metadata": {},
   "outputs": [
    {
     "data": {
      "text/plain": [
       "Ttest_indResult(statistic=7.127433030937575, pvalue=1.1549083125041838e-12)"
      ]
     },
     "execution_count": 116,
     "metadata": {},
     "output_type": "execute_result"
    }
   ],
   "source": [
    "# Independent t-test with equal_var set to False\n",
    "result = stats.ttest_ind(movie_2019, movie_2020, equal_var = False)\n",
    "result"
   ]
  },
  {
   "cell_type": "markdown",
   "id": "283163bc",
   "metadata": {},
   "source": [
    "## 5. Interpret the p-value with reference to null hypothesis\n",
    "\n",
    "The p-value < alpha (0.05), therefore, we reject the null hypothesis and support that there is a significant difference in the revenue between movies that were released in 2019 and those released in 2020."
   ]
  },
  {
   "cell_type": "markdown",
   "id": "5425aaa2",
   "metadata": {},
   "source": [
    "## 6. Visualization"
   ]
  },
  {
   "cell_type": "code",
   "execution_count": 117,
   "id": "f4a24501",
   "metadata": {},
   "outputs": [
    {
     "data": {
      "text/plain": [
       "Text(0.5, 1.0, 'Revenue by Release Year')"
      ]
     },
     "execution_count": 117,
     "metadata": {},
     "output_type": "execute_result"
    },
    {
     "data": {
      "image/png": "[encoded data removed]",
      "text/plain": [
       "<Figure size 640x480 with 1 Axes>"
      ]
     },
     "metadata": {},
     "output_type": "display_data"
    }
   ],
   "source": [
    "ax = sns.barplot(data=Q3_df, x='year', y='revenue')\n",
    "ax.set_title('Revenue by Release Year')"
   ]
  },
  {
   "cell_type": "markdown",
   "id": "07f39fc6",
   "metadata": {},
   "source": [
    "## 7. Answering Question"
   ]
  },
  {
   "cell_type": "markdown",
   "id": "3e8eb71f",
   "metadata": {},
   "source": [
    "**Question**: Do movies released in 2020 earn less revenue than movies released in 2019 ?\n",
    "\n",
    "**Conclusion**: Yes, movies released in 2020 earned less revenue compared to movies released in 2019."
   ]
  }
 ],
 "metadata": {
  "kernelspec": {
   "display_name": "Python (dojo-env)",
   "language": "python",
   "name": "dojo-env"
  },
  "language_info": {
   "codemirror_mode": {
    "name": "ipython",
    "version": 3
   },
   "file_extension": ".py",
   "mimetype": "text/x-python",
   "name": "python",
   "nbconvert_exporter": "python",
   "pygments_lexer": "ipython3",
   "version": "3.9.15"
  },
  "toc": {
   "base_numbering": 1,
   "nav_menu": {},
   "number_sections": false,
   "sideBar": true,
   "skip_h1_title": false,
   "title_cell": "Table of Contents",
   "title_sidebar": "Contents",
   "toc_cell": false,
   "toc_position": {
    "height": "calc(100% - 180px)",
    "left": "10px",
    "top": "150px",
    "width": "268.391px"
   },
   "toc_section_display": true,
   "toc_window_display": true
  }
 },
 "nbformat": 4,
 "nbformat_minor": 5
}
