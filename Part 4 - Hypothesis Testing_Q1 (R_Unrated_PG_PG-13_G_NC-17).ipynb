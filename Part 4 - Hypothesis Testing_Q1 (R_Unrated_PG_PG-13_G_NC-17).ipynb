{
 "cells": [
  {
   "cell_type": "markdown",
   "id": "2b45335a",
   "metadata": {},
   "source": [
    "# 1. Import Library"
   ]
  },
  {
   "cell_type": "code",
   "execution_count": 1,
   "id": "d04d9566",
   "metadata": {},
   "outputs": [],
   "source": [
    "import pandas as pd\n",
    "import numpy as np\n",
    "import matplotlib.pyplot as plt\n",
    "import seaborn as sns\n",
    "import scipy.stats as stats"
   ]
  },
  {
   "cell_type": "markdown",
   "id": "5c835b62",
   "metadata": {},
   "source": [
    "# 2. Load Data"
   ]
  },
  {
   "cell_type": "code",
   "execution_count": 2,
   "id": "b2ec9a4f",
   "metadata": {},
   "outputs": [
    {
     "data": {
      "text/html": [
       "<div>\n",
       "<style scoped>\n",
       "    .dataframe tbody tr th:only-of-type {\n",
       "        vertical-align: middle;\n",
       "    }\n",
       "\n",
       "    .dataframe tbody tr th {\n",
       "        vertical-align: top;\n",
       "    }\n",
       "\n",
       "    .dataframe thead th {\n",
       "        text-align: right;\n",
       "    }\n",
       "</style>\n",
       "<table border=\"1\" class=\"dataframe\">\n",
       "  <thead>\n",
       "    <tr style=\"text-align: right;\">\n",
       "      <th></th>\n",
       "      <th>adult</th>\n",
       "      <th>backdrop_path</th>\n",
       "      <th>belongs_to_collection</th>\n",
       "      <th>budget</th>\n",
       "      <th>genres</th>\n",
       "      <th>homepage</th>\n",
       "      <th>id</th>\n",
       "      <th>original_language</th>\n",
       "      <th>original_title</th>\n",
       "      <th>overview</th>\n",
       "      <th>...</th>\n",
       "      <th>revenue</th>\n",
       "      <th>runtime</th>\n",
       "      <th>spoken_languages</th>\n",
       "      <th>status</th>\n",
       "      <th>tagline</th>\n",
       "      <th>title</th>\n",
       "      <th>video</th>\n",
       "      <th>vote_average</th>\n",
       "      <th>vote_count</th>\n",
       "      <th>certification</th>\n",
       "    </tr>\n",
       "  </thead>\n",
       "  <tbody>\n",
       "    <tr>\n",
       "      <th>0</th>\n",
       "      <td>NaN</td>\n",
       "      <td>NaN</td>\n",
       "      <td>NaN</td>\n",
       "      <td>NaN</td>\n",
       "      <td>NaN</td>\n",
       "      <td>NaN</td>\n",
       "      <td>NaN</td>\n",
       "      <td>NaN</td>\n",
       "      <td>NaN</td>\n",
       "      <td>NaN</td>\n",
       "      <td>...</td>\n",
       "      <td>NaN</td>\n",
       "      <td>NaN</td>\n",
       "      <td>NaN</td>\n",
       "      <td>NaN</td>\n",
       "      <td>NaN</td>\n",
       "      <td>NaN</td>\n",
       "      <td>NaN</td>\n",
       "      <td>NaN</td>\n",
       "      <td>NaN</td>\n",
       "      <td>NaN</td>\n",
       "    </tr>\n",
       "    <tr>\n",
       "      <th>1</th>\n",
       "      <td>0.0</td>\n",
       "      <td>/vMFs7nw6P0bIV1jDsQpxAieAVnH.jpg</td>\n",
       "      <td>NaN</td>\n",
       "      <td>10000000.0</td>\n",
       "      <td>[{'id': 35, 'name': 'Comedy'}, {'id': 10402, '...</td>\n",
       "      <td>NaN</td>\n",
       "      <td>62127.0</td>\n",
       "      <td>en</td>\n",
       "      <td>The Fantasticks</td>\n",
       "      <td>Two rural teens sing and dance their way throu...</td>\n",
       "      <td>...</td>\n",
       "      <td>0.0</td>\n",
       "      <td>86.0</td>\n",
       "      <td>[{'english_name': 'English', 'iso_639_1': 'en'...</td>\n",
       "      <td>Released</td>\n",
       "      <td>Try to remember the first time magic happened</td>\n",
       "      <td>The Fantasticks</td>\n",
       "      <td>0.0</td>\n",
       "      <td>5.5</td>\n",
       "      <td>22.0</td>\n",
       "      <td>NaN</td>\n",
       "    </tr>\n",
       "  </tbody>\n",
       "</table>\n",
       "<p>2 rows × 25 columns</p>\n",
       "</div>"
      ],
      "text/plain": [
       "   adult                     backdrop_path belongs_to_collection      budget  \\\n",
       "0    NaN                               NaN                   NaN         NaN   \n",
       "1    0.0  /vMFs7nw6P0bIV1jDsQpxAieAVnH.jpg                   NaN  10000000.0   \n",
       "\n",
       "                                              genres homepage       id  \\\n",
       "0                                                NaN      NaN      NaN   \n",
       "1  [{'id': 35, 'name': 'Comedy'}, {'id': 10402, '...      NaN  62127.0   \n",
       "\n",
       "  original_language   original_title  \\\n",
       "0               NaN              NaN   \n",
       "1                en  The Fantasticks   \n",
       "\n",
       "                                            overview  ...  revenue runtime  \\\n",
       "0                                                NaN  ...      NaN     NaN   \n",
       "1  Two rural teens sing and dance their way throu...  ...      0.0    86.0   \n",
       "\n",
       "                                    spoken_languages    status  \\\n",
       "0                                                NaN       NaN   \n",
       "1  [{'english_name': 'English', 'iso_639_1': 'en'...  Released   \n",
       "\n",
       "                                         tagline            title  video  \\\n",
       "0                                            NaN              NaN    NaN   \n",
       "1  Try to remember the first time magic happened  The Fantasticks    0.0   \n",
       "\n",
       "  vote_average vote_count certification  \n",
       "0          NaN        NaN           NaN  \n",
       "1          5.5       22.0           NaN  \n",
       "\n",
       "[2 rows x 25 columns]"
      ]
     },
     "execution_count": 2,
     "metadata": {},
     "output_type": "execute_result"
    }
   ],
   "source": [
    "df = pd.read_csv('Data/part4_tmdb_results_all.csv.gz', lineterminator='\\n')\n",
    "df.head(2)"
   ]
  },
  {
   "cell_type": "code",
   "execution_count": 3,
   "id": "6b454e30",
   "metadata": {},
   "outputs": [
    {
     "name": "stdout",
     "output_type": "stream",
     "text": [
      "<class 'pandas.core.frame.DataFrame'>\n",
      "RangeIndex: 63148 entries, 0 to 63147\n",
      "Data columns (total 25 columns):\n",
      " #   Column                 Non-Null Count  Dtype  \n",
      "---  ------                 --------------  -----  \n",
      " 0   adult                  63126 non-null  float64\n",
      " 1   backdrop_path          40883 non-null  object \n",
      " 2   belongs_to_collection  4257 non-null   object \n",
      " 3   budget                 63126 non-null  float64\n",
      " 4   genres                 63126 non-null  object \n",
      " 5   homepage               15142 non-null  object \n",
      " 6   id                     63126 non-null  float64\n",
      " 7   original_language      63126 non-null  object \n",
      " 8   original_title         63126 non-null  object \n",
      " 9   overview               61824 non-null  object \n",
      " 10  popularity             63126 non-null  float64\n",
      " 11  poster_path            58195 non-null  object \n",
      " 12  production_companies   63126 non-null  object \n",
      " 13  production_countries   63126 non-null  object \n",
      " 14  release_date           62044 non-null  object \n",
      " 15  revenue                63126 non-null  float64\n",
      " 16  runtime                63126 non-null  float64\n",
      " 17  spoken_languages       63126 non-null  object \n",
      " 18  status                 63126 non-null  object \n",
      " 19  tagline                24146 non-null  object \n",
      " 20  title                  63126 non-null  object \n",
      " 21  video                  63126 non-null  float64\n",
      " 22  vote_average           63126 non-null  float64\n",
      " 23  vote_count             63126 non-null  float64\n",
      " 24  certification          15242 non-null  object \n",
      "dtypes: float64(9), object(16)\n",
      "memory usage: 12.0+ MB\n"
     ]
    }
   ],
   "source": [
    "df.info()"
   ]
  },
  {
   "cell_type": "markdown",
   "id": "64633627",
   "metadata": {},
   "source": [
    "# 3. Clean Data"
   ]
  },
  {
   "cell_type": "markdown",
   "id": "9400b5a4",
   "metadata": {},
   "source": [
    "## 3.1 Check & remove duplicated rows"
   ]
  },
  {
   "cell_type": "code",
   "execution_count": 4,
   "id": "39657413",
   "metadata": {},
   "outputs": [
    {
     "data": {
      "text/plain": [
       "21"
      ]
     },
     "execution_count": 4,
     "metadata": {},
     "output_type": "execute_result"
    }
   ],
   "source": [
    "#check duplicates\n",
    "df.duplicated().sum()"
   ]
  },
  {
   "cell_type": "code",
   "execution_count": 5,
   "id": "5f490cf5",
   "metadata": {},
   "outputs": [],
   "source": [
    "#remove duplicates\n",
    "df = df.drop_duplicates()"
   ]
  },
  {
   "cell_type": "code",
   "execution_count": 6,
   "id": "7f4c33cc",
   "metadata": {},
   "outputs": [
    {
     "data": {
      "text/plain": [
       "0"
      ]
     },
     "execution_count": 6,
     "metadata": {},
     "output_type": "execute_result"
    }
   ],
   "source": [
    "#check that the duplicates have been dropped\n",
    "df.duplicated().sum()"
   ]
  },
  {
   "cell_type": "markdown",
   "id": "c5d55176",
   "metadata": {},
   "source": [
    "## 3.2 Check for missing values"
   ]
  },
  {
   "cell_type": "code",
   "execution_count": 7,
   "id": "2eb162c4",
   "metadata": {},
   "outputs": [
    {
     "data": {
      "text/plain": [
       "adult                        1\n",
       "backdrop_path            22244\n",
       "belongs_to_collection    58870\n",
       "budget                       1\n",
       "genres                       1\n",
       "homepage                 47985\n",
       "id                           1\n",
       "original_language            1\n",
       "original_title               1\n",
       "overview                  1303\n",
       "popularity                   1\n",
       "poster_path               4932\n",
       "production_companies         1\n",
       "production_countries         1\n",
       "release_date              1083\n",
       "revenue                      1\n",
       "runtime                      1\n",
       "spoken_languages             1\n",
       "status                       1\n",
       "tagline                  38981\n",
       "title                        1\n",
       "video                        1\n",
       "vote_average                 1\n",
       "vote_count                   1\n",
       "certification            47885\n",
       "dtype: int64"
      ]
     },
     "execution_count": 7,
     "metadata": {},
     "output_type": "execute_result"
    }
   ],
   "source": [
    "#check missing values in each column\n",
    "df.isna().sum()"
   ]
  },
  {
   "cell_type": "markdown",
   "id": "893297f9",
   "metadata": {},
   "source": [
    "**Observation**: There are many missing values in `backdrop_path`, `belongs_to_collection`, `homepage`, `tagline`, and `certification` columns.\n",
    "\n",
    "There are some missing values in `overview`, `poster_path`, and `release_date` columns."
   ]
  },
  {
   "cell_type": "markdown",
   "id": "ce6bed6f",
   "metadata": {},
   "source": [
    "## 3.3 Check for unnecessary columns"
   ]
  },
  {
   "cell_type": "code",
   "execution_count": 8,
   "id": "ff9c3156",
   "metadata": {},
   "outputs": [
    {
     "data": {
      "text/html": [
       "<div>\n",
       "<style scoped>\n",
       "    .dataframe tbody tr th:only-of-type {\n",
       "        vertical-align: middle;\n",
       "    }\n",
       "\n",
       "    .dataframe tbody tr th {\n",
       "        vertical-align: top;\n",
       "    }\n",
       "\n",
       "    .dataframe thead th {\n",
       "        text-align: right;\n",
       "    }\n",
       "</style>\n",
       "<table border=\"1\" class=\"dataframe\">\n",
       "  <thead>\n",
       "    <tr style=\"text-align: right;\">\n",
       "      <th></th>\n",
       "      <th>adult</th>\n",
       "      <th>backdrop_path</th>\n",
       "      <th>belongs_to_collection</th>\n",
       "      <th>budget</th>\n",
       "      <th>genres</th>\n",
       "      <th>homepage</th>\n",
       "      <th>id</th>\n",
       "      <th>original_language</th>\n",
       "      <th>original_title</th>\n",
       "      <th>overview</th>\n",
       "      <th>...</th>\n",
       "      <th>revenue</th>\n",
       "      <th>runtime</th>\n",
       "      <th>spoken_languages</th>\n",
       "      <th>status</th>\n",
       "      <th>tagline</th>\n",
       "      <th>title</th>\n",
       "      <th>video</th>\n",
       "      <th>vote_average</th>\n",
       "      <th>vote_count</th>\n",
       "      <th>certification</th>\n",
       "    </tr>\n",
       "  </thead>\n",
       "  <tbody>\n",
       "    <tr>\n",
       "      <th>0</th>\n",
       "      <td>NaN</td>\n",
       "      <td>NaN</td>\n",
       "      <td>NaN</td>\n",
       "      <td>NaN</td>\n",
       "      <td>NaN</td>\n",
       "      <td>NaN</td>\n",
       "      <td>NaN</td>\n",
       "      <td>NaN</td>\n",
       "      <td>NaN</td>\n",
       "      <td>NaN</td>\n",
       "      <td>...</td>\n",
       "      <td>NaN</td>\n",
       "      <td>NaN</td>\n",
       "      <td>NaN</td>\n",
       "      <td>NaN</td>\n",
       "      <td>NaN</td>\n",
       "      <td>NaN</td>\n",
       "      <td>NaN</td>\n",
       "      <td>NaN</td>\n",
       "      <td>NaN</td>\n",
       "      <td>NaN</td>\n",
       "    </tr>\n",
       "    <tr>\n",
       "      <th>1</th>\n",
       "      <td>0.0</td>\n",
       "      <td>/vMFs7nw6P0bIV1jDsQpxAieAVnH.jpg</td>\n",
       "      <td>NaN</td>\n",
       "      <td>10000000.0</td>\n",
       "      <td>[{'id': 35, 'name': 'Comedy'}, {'id': 10402, '...</td>\n",
       "      <td>NaN</td>\n",
       "      <td>62127.0</td>\n",
       "      <td>en</td>\n",
       "      <td>The Fantasticks</td>\n",
       "      <td>Two rural teens sing and dance their way throu...</td>\n",
       "      <td>...</td>\n",
       "      <td>0.0</td>\n",
       "      <td>86.0</td>\n",
       "      <td>[{'english_name': 'English', 'iso_639_1': 'en'...</td>\n",
       "      <td>Released</td>\n",
       "      <td>Try to remember the first time magic happened</td>\n",
       "      <td>The Fantasticks</td>\n",
       "      <td>0.0</td>\n",
       "      <td>5.5</td>\n",
       "      <td>22.0</td>\n",
       "      <td>NaN</td>\n",
       "    </tr>\n",
       "    <tr>\n",
       "      <th>2</th>\n",
       "      <td>0.0</td>\n",
       "      <td>NaN</td>\n",
       "      <td>NaN</td>\n",
       "      <td>0.0</td>\n",
       "      <td>[{'id': 878, 'name': 'Science Fiction'}]</td>\n",
       "      <td>NaN</td>\n",
       "      <td>110977.0</td>\n",
       "      <td>en</td>\n",
       "      <td>For the Cause</td>\n",
       "      <td>Earth is in a state of constant war and two co...</td>\n",
       "      <td>...</td>\n",
       "      <td>0.0</td>\n",
       "      <td>100.0</td>\n",
       "      <td>[{'english_name': 'English', 'iso_639_1': 'en'...</td>\n",
       "      <td>Released</td>\n",
       "      <td>The ultimate showdown on a forbidden planet.</td>\n",
       "      <td>For the Cause</td>\n",
       "      <td>0.0</td>\n",
       "      <td>5.1</td>\n",
       "      <td>8.0</td>\n",
       "      <td>NaN</td>\n",
       "    </tr>\n",
       "    <tr>\n",
       "      <th>3</th>\n",
       "      <td>0.0</td>\n",
       "      <td>NaN</td>\n",
       "      <td>NaN</td>\n",
       "      <td>0.0</td>\n",
       "      <td>[{'id': 18, 'name': 'Drama'}, {'id': 28, 'name...</td>\n",
       "      <td>NaN</td>\n",
       "      <td>442869.0</td>\n",
       "      <td>hi</td>\n",
       "      <td>Gang</td>\n",
       "      <td>After falling prey to underworld, four friends...</td>\n",
       "      <td>...</td>\n",
       "      <td>0.0</td>\n",
       "      <td>152.0</td>\n",
       "      <td>[{'english_name': 'Hindi', 'iso_639_1': 'hi', ...</td>\n",
       "      <td>Released</td>\n",
       "      <td>NaN</td>\n",
       "      <td>Gang</td>\n",
       "      <td>0.0</td>\n",
       "      <td>4.0</td>\n",
       "      <td>1.0</td>\n",
       "      <td>NaN</td>\n",
       "    </tr>\n",
       "    <tr>\n",
       "      <th>4</th>\n",
       "      <td>0.0</td>\n",
       "      <td>/n4GJFGzsc7NinI1VeGDXIcQjtU2.jpg</td>\n",
       "      <td>{'id': 1131062, 'name': 'Wong Kar-Wai’s Love T...</td>\n",
       "      <td>150000.0</td>\n",
       "      <td>[{'id': 18, 'name': 'Drama'}, {'id': 10749, 'n...</td>\n",
       "      <td>NaN</td>\n",
       "      <td>843.0</td>\n",
       "      <td>cn</td>\n",
       "      <td>花樣年華</td>\n",
       "      <td>Two neighbors become intimate after discoverin...</td>\n",
       "      <td>...</td>\n",
       "      <td>14204632.0</td>\n",
       "      <td>99.0</td>\n",
       "      <td>[{'english_name': 'Cantonese', 'iso_639_1': 'c...</td>\n",
       "      <td>Released</td>\n",
       "      <td>Feel the heat, keep the feeling burning, let t...</td>\n",
       "      <td>In the Mood for Love</td>\n",
       "      <td>0.0</td>\n",
       "      <td>8.1</td>\n",
       "      <td>2244.0</td>\n",
       "      <td>PG</td>\n",
       "    </tr>\n",
       "  </tbody>\n",
       "</table>\n",
       "<p>5 rows × 25 columns</p>\n",
       "</div>"
      ],
      "text/plain": [
       "   adult                     backdrop_path  \\\n",
       "0    NaN                               NaN   \n",
       "1    0.0  /vMFs7nw6P0bIV1jDsQpxAieAVnH.jpg   \n",
       "2    0.0                               NaN   \n",
       "3    0.0                               NaN   \n",
       "4    0.0  /n4GJFGzsc7NinI1VeGDXIcQjtU2.jpg   \n",
       "\n",
       "                               belongs_to_collection      budget  \\\n",
       "0                                                NaN         NaN   \n",
       "1                                                NaN  10000000.0   \n",
       "2                                                NaN         0.0   \n",
       "3                                                NaN         0.0   \n",
       "4  {'id': 1131062, 'name': 'Wong Kar-Wai’s Love T...    150000.0   \n",
       "\n",
       "                                              genres homepage        id  \\\n",
       "0                                                NaN      NaN       NaN   \n",
       "1  [{'id': 35, 'name': 'Comedy'}, {'id': 10402, '...      NaN   62127.0   \n",
       "2           [{'id': 878, 'name': 'Science Fiction'}]      NaN  110977.0   \n",
       "3  [{'id': 18, 'name': 'Drama'}, {'id': 28, 'name...      NaN  442869.0   \n",
       "4  [{'id': 18, 'name': 'Drama'}, {'id': 10749, 'n...      NaN     843.0   \n",
       "\n",
       "  original_language   original_title  \\\n",
       "0               NaN              NaN   \n",
       "1                en  The Fantasticks   \n",
       "2                en    For the Cause   \n",
       "3                hi             Gang   \n",
       "4                cn             花樣年華   \n",
       "\n",
       "                                            overview  ...     revenue runtime  \\\n",
       "0                                                NaN  ...         NaN     NaN   \n",
       "1  Two rural teens sing and dance their way throu...  ...         0.0    86.0   \n",
       "2  Earth is in a state of constant war and two co...  ...         0.0   100.0   \n",
       "3  After falling prey to underworld, four friends...  ...         0.0   152.0   \n",
       "4  Two neighbors become intimate after discoverin...  ...  14204632.0    99.0   \n",
       "\n",
       "                                    spoken_languages    status  \\\n",
       "0                                                NaN       NaN   \n",
       "1  [{'english_name': 'English', 'iso_639_1': 'en'...  Released   \n",
       "2  [{'english_name': 'English', 'iso_639_1': 'en'...  Released   \n",
       "3  [{'english_name': 'Hindi', 'iso_639_1': 'hi', ...  Released   \n",
       "4  [{'english_name': 'Cantonese', 'iso_639_1': 'c...  Released   \n",
       "\n",
       "                                             tagline                 title  \\\n",
       "0                                                NaN                   NaN   \n",
       "1      Try to remember the first time magic happened       The Fantasticks   \n",
       "2       The ultimate showdown on a forbidden planet.         For the Cause   \n",
       "3                                                NaN                  Gang   \n",
       "4  Feel the heat, keep the feeling burning, let t...  In the Mood for Love   \n",
       "\n",
       "   video vote_average vote_count certification  \n",
       "0    NaN          NaN        NaN           NaN  \n",
       "1    0.0          5.5       22.0           NaN  \n",
       "2    0.0          5.1        8.0           NaN  \n",
       "3    0.0          4.0        1.0           NaN  \n",
       "4    0.0          8.1     2244.0            PG  \n",
       "\n",
       "[5 rows x 25 columns]"
      ]
     },
     "execution_count": 8,
     "metadata": {},
     "output_type": "execute_result"
    }
   ],
   "source": [
    "df.head()"
   ]
  },
  {
   "cell_type": "code",
   "execution_count": 9,
   "id": "cc16225d",
   "metadata": {},
   "outputs": [
    {
     "data": {
      "text/plain": [
       "adult                    0.000016\n",
       "backdrop_path            0.352369\n",
       "belongs_to_collection    0.932565\n",
       "budget                   0.000016\n",
       "genres                   0.000016\n",
       "homepage                 0.760134\n",
       "id                       0.000016\n",
       "original_language        0.000016\n",
       "original_title           0.000016\n",
       "overview                 0.020641\n",
       "popularity               0.000016\n",
       "poster_path              0.078128\n",
       "production_companies     0.000016\n",
       "production_countries     0.000016\n",
       "release_date             0.017156\n",
       "revenue                  0.000016\n",
       "runtime                  0.000016\n",
       "spoken_languages         0.000016\n",
       "status                   0.000016\n",
       "tagline                  0.617501\n",
       "title                    0.000016\n",
       "video                    0.000016\n",
       "vote_average             0.000016\n",
       "vote_count               0.000016\n",
       "certification            0.758550\n",
       "dtype: float64"
      ]
     },
     "execution_count": 9,
     "metadata": {},
     "output_type": "execute_result"
    }
   ],
   "source": [
    "#check what % of the data are missing for each column\n",
    "df.isna().sum() / df.shape[0]"
   ]
  },
  {
   "cell_type": "code",
   "execution_count": 10,
   "id": "bb078b3d",
   "metadata": {},
   "outputs": [
    {
     "data": {
      "text/plain": [
       "adult                        2\n",
       "backdrop_path            40879\n",
       "belongs_to_collection     2210\n",
       "budget                    1660\n",
       "genres                    3944\n",
       "homepage                 14983\n",
       "id                       63126\n",
       "original_language          125\n",
       "original_title           60339\n",
       "overview                 61793\n",
       "popularity               14308\n",
       "poster_path              58192\n",
       "production_companies     34910\n",
       "production_countries      3430\n",
       "release_date              7829\n",
       "revenue                   7598\n",
       "runtime                    240\n",
       "spoken_languages          2672\n",
       "status                       3\n",
       "tagline                  23819\n",
       "title                    57861\n",
       "video                        2\n",
       "vote_average              3518\n",
       "vote_count                3059\n",
       "certification               12\n",
       "dtype: int64"
      ]
     },
     "execution_count": 10,
     "metadata": {},
     "output_type": "execute_result"
    }
   ],
   "source": [
    "#check the number of unique values in each column\n",
    "df.nunique()"
   ]
  },
  {
   "cell_type": "code",
   "execution_count": 11,
   "id": "11813cf5",
   "metadata": {},
   "outputs": [],
   "source": [
    "#Display data under this column to determine whether to keep this column or not\n",
    "#df['belongs_to_collection'].value_counts()"
   ]
  },
  {
   "cell_type": "code",
   "execution_count": 12,
   "id": "ef92d644",
   "metadata": {},
   "outputs": [],
   "source": [
    "#Display data under this column to determine whether to keep this column or not\n",
    "#df['homepage'].value_counts()"
   ]
  },
  {
   "cell_type": "code",
   "execution_count": 13,
   "id": "4228fb03",
   "metadata": {},
   "outputs": [],
   "source": [
    "#Display data under this column to determine whether to keep this column or not\n",
    "#df['tagline'].value_counts()"
   ]
  },
  {
   "cell_type": "markdown",
   "id": "dc75c85c",
   "metadata": {},
   "source": [
    "**Columns to be dropped due to too many missing data:**\n",
    "- `backdrop_path` \n",
    "   - Reason: More than 35% of the data is missing, and this data does not look useful for hypothesis testing.\n",
    "- `homepage`\n",
    "   - Reason: More than 76% of the data is missing, and I will not use this data for hypothesis testing.\n",
    "   \n",
    "**Columns to be dropped due to too many unique values:**\n",
    "- `poster_path`\n",
    "   - Reason: I will not use this data for hypothesis testing.\n",
    "        \n",
    "**Columns with many missing data and unique values, but keeping as they may be useful:**\n",
    "- `tagline`\n",
    "   - Reason: More than 61.7% of the data is missing, but it may be utilized for comparing some target between two groups: (a) movies with tagline and (b) movies without tagline. Alternatively, it could be used when checking the revenue of movies that has a specific word in the tagline vs. movies that do not have the specific word in the tagline.\n",
    "        \n",
    "- `belongs_to_collection`\n",
    "   - Reason: It is missing 93% of the data, but the feature looks useful.\n",
    "\n",
    "- `certification`\n",
    "   - Reason: It is missing more than 75% of the data, but we **need** to keep this column for our Hypothesis Testing requested by the Stakeholder.\n",
    "\n",
    "Other columns with many unique values that are not mentioned above may also be useful, therefore, I will keep them in the dataframe for now.\n"
   ]
  },
  {
   "cell_type": "code",
   "execution_count": 14,
   "id": "628bfabd",
   "metadata": {},
   "outputs": [],
   "source": [
    "df = df.drop(columns = ['backdrop_path', 'homepage', 'poster_path'])"
   ]
  },
  {
   "cell_type": "code",
   "execution_count": 15,
   "id": "0d3cd8ba",
   "metadata": {},
   "outputs": [
    {
     "name": "stdout",
     "output_type": "stream",
     "text": [
      "<class 'pandas.core.frame.DataFrame'>\n",
      "Int64Index: 63127 entries, 0 to 63147\n",
      "Data columns (total 22 columns):\n",
      " #   Column                 Non-Null Count  Dtype  \n",
      "---  ------                 --------------  -----  \n",
      " 0   adult                  63126 non-null  float64\n",
      " 1   belongs_to_collection  4257 non-null   object \n",
      " 2   budget                 63126 non-null  float64\n",
      " 3   genres                 63126 non-null  object \n",
      " 4   id                     63126 non-null  float64\n",
      " 5   original_language      63126 non-null  object \n",
      " 6   original_title         63126 non-null  object \n",
      " 7   overview               61824 non-null  object \n",
      " 8   popularity             63126 non-null  float64\n",
      " 9   production_companies   63126 non-null  object \n",
      " 10  production_countries   63126 non-null  object \n",
      " 11  release_date           62044 non-null  object \n",
      " 12  revenue                63126 non-null  float64\n",
      " 13  runtime                63126 non-null  float64\n",
      " 14  spoken_languages       63126 non-null  object \n",
      " 15  status                 63126 non-null  object \n",
      " 16  tagline                24146 non-null  object \n",
      " 17  title                  63126 non-null  object \n",
      " 18  video                  63126 non-null  float64\n",
      " 19  vote_average           63126 non-null  float64\n",
      " 20  vote_count             63126 non-null  float64\n",
      " 21  certification          15242 non-null  object \n",
      "dtypes: float64(9), object(13)\n",
      "memory usage: 11.1+ MB\n"
     ]
    }
   ],
   "source": [
    "#confirm the columns have been dropped\n",
    "df.info()"
   ]
  },
  {
   "cell_type": "markdown",
   "id": "dcee9edb",
   "metadata": {},
   "source": [
    "## 3.4 Check for inconsistent values"
   ]
  },
  {
   "cell_type": "code",
   "execution_count": 16,
   "id": "f8c5fb0e",
   "metadata": {},
   "outputs": [
    {
     "data": {
      "text/html": [
       "<div>\n",
       "<style scoped>\n",
       "    .dataframe tbody tr th:only-of-type {\n",
       "        vertical-align: middle;\n",
       "    }\n",
       "\n",
       "    .dataframe tbody tr th {\n",
       "        vertical-align: top;\n",
       "    }\n",
       "\n",
       "    .dataframe thead th {\n",
       "        text-align: right;\n",
       "    }\n",
       "</style>\n",
       "<table border=\"1\" class=\"dataframe\">\n",
       "  <thead>\n",
       "    <tr style=\"text-align: right;\">\n",
       "      <th></th>\n",
       "      <th>belongs_to_collection</th>\n",
       "      <th>genres</th>\n",
       "      <th>original_language</th>\n",
       "      <th>original_title</th>\n",
       "      <th>overview</th>\n",
       "      <th>production_companies</th>\n",
       "      <th>production_countries</th>\n",
       "      <th>release_date</th>\n",
       "      <th>spoken_languages</th>\n",
       "      <th>status</th>\n",
       "      <th>tagline</th>\n",
       "      <th>title</th>\n",
       "      <th>certification</th>\n",
       "    </tr>\n",
       "  </thead>\n",
       "  <tbody>\n",
       "    <tr>\n",
       "      <th>count</th>\n",
       "      <td>4257</td>\n",
       "      <td>63126</td>\n",
       "      <td>63126</td>\n",
       "      <td>63126</td>\n",
       "      <td>61824</td>\n",
       "      <td>63126</td>\n",
       "      <td>63126</td>\n",
       "      <td>62044</td>\n",
       "      <td>63126</td>\n",
       "      <td>63126</td>\n",
       "      <td>24146</td>\n",
       "      <td>63126</td>\n",
       "      <td>15242</td>\n",
       "    </tr>\n",
       "    <tr>\n",
       "      <th>unique</th>\n",
       "      <td>2210</td>\n",
       "      <td>3944</td>\n",
       "      <td>125</td>\n",
       "      <td>60339</td>\n",
       "      <td>61793</td>\n",
       "      <td>34910</td>\n",
       "      <td>3430</td>\n",
       "      <td>7829</td>\n",
       "      <td>2672</td>\n",
       "      <td>3</td>\n",
       "      <td>23819</td>\n",
       "      <td>57861</td>\n",
       "      <td>12</td>\n",
       "    </tr>\n",
       "    <tr>\n",
       "      <th>top</th>\n",
       "      <td>{'id': 39199, 'name': 'Detective Conan Collect...</td>\n",
       "      <td>[{'id': 18, 'name': 'Drama'}]</td>\n",
       "      <td>en</td>\n",
       "      <td>A Christmas Carol</td>\n",
       "      <td>The story follows a boy named Quon and others ...</td>\n",
       "      <td>[]</td>\n",
       "      <td>[{'iso_3166_1': 'US', 'name': 'United States o...</td>\n",
       "      <td>2009-01-01</td>\n",
       "      <td>[{'english_name': 'English', 'iso_639_1': 'en'...</td>\n",
       "      <td>Released</td>\n",
       "      <td>Based on a true story</td>\n",
       "      <td>Home</td>\n",
       "      <td>R</td>\n",
       "    </tr>\n",
       "    <tr>\n",
       "      <th>freq</th>\n",
       "      <td>18</td>\n",
       "      <td>10827</td>\n",
       "      <td>37376</td>\n",
       "      <td>9</td>\n",
       "      <td>5</td>\n",
       "      <td>20911</td>\n",
       "      <td>16983</td>\n",
       "      <td>258</td>\n",
       "      <td>23998</td>\n",
       "      <td>63112</td>\n",
       "      <td>9</td>\n",
       "      <td>13</td>\n",
       "      <td>6252</td>\n",
       "    </tr>\n",
       "  </tbody>\n",
       "</table>\n",
       "</div>"
      ],
      "text/plain": [
       "                                    belongs_to_collection  \\\n",
       "count                                                4257   \n",
       "unique                                               2210   \n",
       "top     {'id': 39199, 'name': 'Detective Conan Collect...   \n",
       "freq                                                   18   \n",
       "\n",
       "                               genres original_language     original_title  \\\n",
       "count                           63126             63126              63126   \n",
       "unique                           3944               125              60339   \n",
       "top     [{'id': 18, 'name': 'Drama'}]                en  A Christmas Carol   \n",
       "freq                            10827             37376                  9   \n",
       "\n",
       "                                                 overview  \\\n",
       "count                                               61824   \n",
       "unique                                              61793   \n",
       "top     The story follows a boy named Quon and others ...   \n",
       "freq                                                    5   \n",
       "\n",
       "       production_companies  \\\n",
       "count                 63126   \n",
       "unique                34910   \n",
       "top                      []   \n",
       "freq                  20911   \n",
       "\n",
       "                                     production_countries release_date  \\\n",
       "count                                               63126        62044   \n",
       "unique                                               3430         7829   \n",
       "top     [{'iso_3166_1': 'US', 'name': 'United States o...   2009-01-01   \n",
       "freq                                                16983          258   \n",
       "\n",
       "                                         spoken_languages    status  \\\n",
       "count                                               63126     63126   \n",
       "unique                                               2672         3   \n",
       "top     [{'english_name': 'English', 'iso_639_1': 'en'...  Released   \n",
       "freq                                                23998     63112   \n",
       "\n",
       "                      tagline  title certification  \n",
       "count                   24146  63126         15242  \n",
       "unique                  23819  57861            12  \n",
       "top     Based on a true story   Home             R  \n",
       "freq                        9     13          6252  "
      ]
     },
     "execution_count": 16,
     "metadata": {},
     "output_type": "execute_result"
    }
   ],
   "source": [
    "df.describe(include=object)"
   ]
  },
  {
   "cell_type": "markdown",
   "id": "b0a2a261",
   "metadata": {},
   "source": [
    "Many of these columns have many unique values, therefore, I will focus on only checking the columns with few unique values at this point, and will clean the other columns when there is a use-case.\n",
    "\n",
    "Columns with few unique values:\n",
    "    \n",
    "    - 'status' (number of unique values: 3)\n",
    "    - 'certification' (number of unique values: 12)"
   ]
  },
  {
   "cell_type": "code",
   "execution_count": 17,
   "id": "baca7270",
   "metadata": {},
   "outputs": [
    {
     "data": {
      "text/plain": [
       "Released           63112\n",
       "Post Production       11\n",
       "In Production          3\n",
       "Name: status, dtype: int64"
      ]
     },
     "execution_count": 17,
     "metadata": {},
     "output_type": "execute_result"
    }
   ],
   "source": [
    "df['status'].value_counts()"
   ]
  },
  {
   "cell_type": "markdown",
   "id": "2c7f5e44",
   "metadata": {},
   "source": [
    "This column does not have any inconsistent values. I would need to check with a Subject Matter Expert if I want to find out whether there is a difference in the above 3 categories."
   ]
  },
  {
   "cell_type": "code",
   "execution_count": 18,
   "id": "17bbc00a",
   "metadata": {},
   "outputs": [
    {
     "data": {
      "text/plain": [
       "R                                  6252\n",
       "NR                                 3596\n",
       "PG-13                              3288\n",
       "PG                                 1472\n",
       "G                                   457\n",
       "NC-17                               167\n",
       "Unrated                               5\n",
       "UR                                    1\n",
       "Not Rated                             1\n",
       "ScreamFest Horror Film Festival       1\n",
       "PG-13                                 1\n",
       "10                                    1\n",
       "Name: certification, dtype: int64"
      ]
     },
     "execution_count": 18,
     "metadata": {},
     "output_type": "execute_result"
    }
   ],
   "source": [
    "df['certification'].value_counts()"
   ]
  },
  {
   "cell_type": "markdown",
   "id": "d13384c6",
   "metadata": {},
   "source": [
    "**Observation: This column contains many inconsistent values, therefore I will clean them.**"
   ]
  },
  {
   "cell_type": "markdown",
   "id": "510931d7",
   "metadata": {},
   "source": [
    "### 3.4.1 Cleaning inconsistent values in **`certification`** "
   ]
  },
  {
   "cell_type": "markdown",
   "id": "90527b35",
   "metadata": {},
   "source": [
    "According to several sources (example: [www.filmratings.com](https://www.filmratings.com/)), the MPAA rating consists of 5 values + 1 (\"Unrated/Not Rated\") categories:\n",
    "- G\n",
    "- PG\n",
    "- PG-13\n",
    "- R\n",
    "- NC-17\n",
    "- Unrated / Not Rated / NR / UR\n",
    "    \n",
    "    "
   ]
  },
  {
   "cell_type": "markdown",
   "id": "e3f21b13",
   "metadata": {},
   "source": [
    "Therefore, I will take the following actions to clean up the 'certification' column:\n",
    "\n",
    "|current value | count | replace with|\n",
    "| - | - | - |\n",
    "| R | 6252 | R |                              \n",
    "| NR   | 3596 | Unrated |                             \n",
    "| PG-13 | 3288 | PG-13 |                           \n",
    "| PG    | 1472| PG |                          \n",
    "| G     | 457 | G |                         \n",
    "| NC-17 | 167| NC-17 |                         \n",
    "| Unrated | 5 | Unrated  |                            \n",
    "| UR   | 1 | Unrated |         \n",
    "|Not Rated | 1 | Unrated |                            \n",
    "| ScreamFest Horror Film Festival  |   1 | Drop |\n",
    "| PG-13 | 1 | PG-13 |                                \n",
    "| 10  | 1 | Drop |                               "
   ]
  },
  {
   "cell_type": "code",
   "execution_count": 19,
   "id": "ca606017",
   "metadata": {},
   "outputs": [],
   "source": [
    "#Replace\n",
    "df['certification'].replace({'NR':'Unrated', \n",
    "                             'PG-13 ': 'PG-13', \n",
    "                             'UR' : 'Unrated', \n",
    "                             'Not Rated' : 'Unrated'\n",
    "                             }, inplace=True)"
   ]
  },
  {
   "cell_type": "code",
   "execution_count": 20,
   "id": "4edc26d0",
   "metadata": {},
   "outputs": [
    {
     "data": {
      "text/html": [
       "<div>\n",
       "<style scoped>\n",
       "    .dataframe tbody tr th:only-of-type {\n",
       "        vertical-align: middle;\n",
       "    }\n",
       "\n",
       "    .dataframe tbody tr th {\n",
       "        vertical-align: top;\n",
       "    }\n",
       "\n",
       "    .dataframe thead th {\n",
       "        text-align: right;\n",
       "    }\n",
       "</style>\n",
       "<table border=\"1\" class=\"dataframe\">\n",
       "  <thead>\n",
       "    <tr style=\"text-align: right;\">\n",
       "      <th></th>\n",
       "      <th>adult</th>\n",
       "      <th>belongs_to_collection</th>\n",
       "      <th>budget</th>\n",
       "      <th>genres</th>\n",
       "      <th>id</th>\n",
       "      <th>original_language</th>\n",
       "      <th>original_title</th>\n",
       "      <th>overview</th>\n",
       "      <th>popularity</th>\n",
       "      <th>production_companies</th>\n",
       "      <th>...</th>\n",
       "      <th>revenue</th>\n",
       "      <th>runtime</th>\n",
       "      <th>spoken_languages</th>\n",
       "      <th>status</th>\n",
       "      <th>tagline</th>\n",
       "      <th>title</th>\n",
       "      <th>video</th>\n",
       "      <th>vote_average</th>\n",
       "      <th>vote_count</th>\n",
       "      <th>certification</th>\n",
       "    </tr>\n",
       "  </thead>\n",
       "  <tbody>\n",
       "    <tr>\n",
       "      <th>8996</th>\n",
       "      <td>0.0</td>\n",
       "      <td>NaN</td>\n",
       "      <td>0.0</td>\n",
       "      <td>[{'id': 27, 'name': 'Horror'}, {'id': 35, 'nam...</td>\n",
       "      <td>310725.0</td>\n",
       "      <td>en</td>\n",
       "      <td>Hoodoo for Voodoo</td>\n",
       "      <td>After winning an all-expenses-paid Mardis Gras...</td>\n",
       "      <td>1.4</td>\n",
       "      <td>[{'id': 81428, 'logo_path': None, 'name': 'Aby...</td>\n",
       "      <td>...</td>\n",
       "      <td>0.0</td>\n",
       "      <td>79.0</td>\n",
       "      <td>[{'english_name': 'English', 'iso_639_1': 'en'...</td>\n",
       "      <td>Released</td>\n",
       "      <td>Let the dead times roll!</td>\n",
       "      <td>Hoodoo for Voodoo</td>\n",
       "      <td>0.0</td>\n",
       "      <td>1.5</td>\n",
       "      <td>2.0</td>\n",
       "      <td>ScreamFest Horror Film Festival</td>\n",
       "    </tr>\n",
       "  </tbody>\n",
       "</table>\n",
       "<p>1 rows × 22 columns</p>\n",
       "</div>"
      ],
      "text/plain": [
       "      adult belongs_to_collection  budget  \\\n",
       "8996    0.0                   NaN     0.0   \n",
       "\n",
       "                                                 genres        id  \\\n",
       "8996  [{'id': 27, 'name': 'Horror'}, {'id': 35, 'nam...  310725.0   \n",
       "\n",
       "     original_language     original_title  \\\n",
       "8996                en  Hoodoo for Voodoo   \n",
       "\n",
       "                                               overview  popularity  \\\n",
       "8996  After winning an all-expenses-paid Mardis Gras...         1.4   \n",
       "\n",
       "                                   production_companies  ... revenue runtime  \\\n",
       "8996  [{'id': 81428, 'logo_path': None, 'name': 'Aby...  ...     0.0    79.0   \n",
       "\n",
       "                                       spoken_languages    status  \\\n",
       "8996  [{'english_name': 'English', 'iso_639_1': 'en'...  Released   \n",
       "\n",
       "                       tagline              title video vote_average  \\\n",
       "8996  Let the dead times roll!  Hoodoo for Voodoo   0.0          1.5   \n",
       "\n",
       "      vote_count                    certification  \n",
       "8996         2.0  ScreamFest Horror Film Festival  \n",
       "\n",
       "[1 rows x 22 columns]"
      ]
     },
     "execution_count": 20,
     "metadata": {},
     "output_type": "execute_result"
    }
   ],
   "source": [
    "#Filter\n",
    "\n",
    "filter_1 = df['certification'] == 'ScreamFest Horror Film Festival'\n",
    "df[filter_1]"
   ]
  },
  {
   "cell_type": "code",
   "execution_count": 21,
   "id": "f6efb4ad",
   "metadata": {},
   "outputs": [
    {
     "data": {
      "text/html": [
       "<div>\n",
       "<style scoped>\n",
       "    .dataframe tbody tr th:only-of-type {\n",
       "        vertical-align: middle;\n",
       "    }\n",
       "\n",
       "    .dataframe tbody tr th {\n",
       "        vertical-align: top;\n",
       "    }\n",
       "\n",
       "    .dataframe thead th {\n",
       "        text-align: right;\n",
       "    }\n",
       "</style>\n",
       "<table border=\"1\" class=\"dataframe\">\n",
       "  <thead>\n",
       "    <tr style=\"text-align: right;\">\n",
       "      <th></th>\n",
       "      <th>adult</th>\n",
       "      <th>belongs_to_collection</th>\n",
       "      <th>budget</th>\n",
       "      <th>genres</th>\n",
       "      <th>id</th>\n",
       "      <th>original_language</th>\n",
       "      <th>original_title</th>\n",
       "      <th>overview</th>\n",
       "      <th>popularity</th>\n",
       "      <th>production_companies</th>\n",
       "      <th>...</th>\n",
       "      <th>revenue</th>\n",
       "      <th>runtime</th>\n",
       "      <th>spoken_languages</th>\n",
       "      <th>status</th>\n",
       "      <th>tagline</th>\n",
       "      <th>title</th>\n",
       "      <th>video</th>\n",
       "      <th>vote_average</th>\n",
       "      <th>vote_count</th>\n",
       "      <th>certification</th>\n",
       "    </tr>\n",
       "  </thead>\n",
       "  <tbody>\n",
       "    <tr>\n",
       "      <th>32094</th>\n",
       "      <td>0.0</td>\n",
       "      <td>NaN</td>\n",
       "      <td>0.0</td>\n",
       "      <td>[{'id': 27, 'name': 'Horror'}, {'id': 53, 'nam...</td>\n",
       "      <td>402515.0</td>\n",
       "      <td>en</td>\n",
       "      <td>American Beast</td>\n",
       "      <td>After his mother's death, James Erikson discov...</td>\n",
       "      <td>3.226</td>\n",
       "      <td>[{'id': 44632, 'logo_path': '/neCKH4sJCBhZ1B4Q...</td>\n",
       "      <td>...</td>\n",
       "      <td>0.0</td>\n",
       "      <td>89.0</td>\n",
       "      <td>[{'english_name': 'English', 'iso_639_1': 'en'...</td>\n",
       "      <td>Released</td>\n",
       "      <td>NaN</td>\n",
       "      <td>American Beast</td>\n",
       "      <td>0.0</td>\n",
       "      <td>6.6</td>\n",
       "      <td>31.0</td>\n",
       "      <td>10</td>\n",
       "    </tr>\n",
       "  </tbody>\n",
       "</table>\n",
       "<p>1 rows × 22 columns</p>\n",
       "</div>"
      ],
      "text/plain": [
       "       adult belongs_to_collection  budget  \\\n",
       "32094    0.0                   NaN     0.0   \n",
       "\n",
       "                                                  genres        id  \\\n",
       "32094  [{'id': 27, 'name': 'Horror'}, {'id': 53, 'nam...  402515.0   \n",
       "\n",
       "      original_language  original_title  \\\n",
       "32094                en  American Beast   \n",
       "\n",
       "                                                overview  popularity  \\\n",
       "32094  After his mother's death, James Erikson discov...       3.226   \n",
       "\n",
       "                                    production_companies  ... revenue runtime  \\\n",
       "32094  [{'id': 44632, 'logo_path': '/neCKH4sJCBhZ1B4Q...  ...     0.0    89.0   \n",
       "\n",
       "                                        spoken_languages    status tagline  \\\n",
       "32094  [{'english_name': 'English', 'iso_639_1': 'en'...  Released     NaN   \n",
       "\n",
       "                title video vote_average  vote_count  certification  \n",
       "32094  American Beast   0.0          6.6        31.0             10  \n",
       "\n",
       "[1 rows x 22 columns]"
      ]
     },
     "execution_count": 21,
     "metadata": {},
     "output_type": "execute_result"
    }
   ],
   "source": [
    "#Filter\n",
    "filter_2 = df['certification'] == '10'\n",
    "df[filter_2]"
   ]
  },
  {
   "cell_type": "code",
   "execution_count": 22,
   "id": "e17dde50",
   "metadata": {},
   "outputs": [],
   "source": [
    "#condition is satisfy filter_1 OR filter_2\n",
    "combined_filter = (filter_1) | (filter_2)"
   ]
  },
  {
   "cell_type": "code",
   "execution_count": 23,
   "id": "1354e62f",
   "metadata": {},
   "outputs": [
    {
     "data": {
      "text/html": [
       "<div>\n",
       "<style scoped>\n",
       "    .dataframe tbody tr th:only-of-type {\n",
       "        vertical-align: middle;\n",
       "    }\n",
       "\n",
       "    .dataframe tbody tr th {\n",
       "        vertical-align: top;\n",
       "    }\n",
       "\n",
       "    .dataframe thead th {\n",
       "        text-align: right;\n",
       "    }\n",
       "</style>\n",
       "<table border=\"1\" class=\"dataframe\">\n",
       "  <thead>\n",
       "    <tr style=\"text-align: right;\">\n",
       "      <th></th>\n",
       "      <th>adult</th>\n",
       "      <th>belongs_to_collection</th>\n",
       "      <th>budget</th>\n",
       "      <th>genres</th>\n",
       "      <th>id</th>\n",
       "      <th>original_language</th>\n",
       "      <th>original_title</th>\n",
       "      <th>overview</th>\n",
       "      <th>popularity</th>\n",
       "      <th>production_companies</th>\n",
       "      <th>...</th>\n",
       "      <th>revenue</th>\n",
       "      <th>runtime</th>\n",
       "      <th>spoken_languages</th>\n",
       "      <th>status</th>\n",
       "      <th>tagline</th>\n",
       "      <th>title</th>\n",
       "      <th>video</th>\n",
       "      <th>vote_average</th>\n",
       "      <th>vote_count</th>\n",
       "      <th>certification</th>\n",
       "    </tr>\n",
       "  </thead>\n",
       "  <tbody>\n",
       "    <tr>\n",
       "      <th>8996</th>\n",
       "      <td>0.0</td>\n",
       "      <td>NaN</td>\n",
       "      <td>0.0</td>\n",
       "      <td>[{'id': 27, 'name': 'Horror'}, {'id': 35, 'nam...</td>\n",
       "      <td>310725.0</td>\n",
       "      <td>en</td>\n",
       "      <td>Hoodoo for Voodoo</td>\n",
       "      <td>After winning an all-expenses-paid Mardis Gras...</td>\n",
       "      <td>1.400</td>\n",
       "      <td>[{'id': 81428, 'logo_path': None, 'name': 'Aby...</td>\n",
       "      <td>...</td>\n",
       "      <td>0.0</td>\n",
       "      <td>79.0</td>\n",
       "      <td>[{'english_name': 'English', 'iso_639_1': 'en'...</td>\n",
       "      <td>Released</td>\n",
       "      <td>Let the dead times roll!</td>\n",
       "      <td>Hoodoo for Voodoo</td>\n",
       "      <td>0.0</td>\n",
       "      <td>1.5</td>\n",
       "      <td>2.0</td>\n",
       "      <td>ScreamFest Horror Film Festival</td>\n",
       "    </tr>\n",
       "    <tr>\n",
       "      <th>32094</th>\n",
       "      <td>0.0</td>\n",
       "      <td>NaN</td>\n",
       "      <td>0.0</td>\n",
       "      <td>[{'id': 27, 'name': 'Horror'}, {'id': 53, 'nam...</td>\n",
       "      <td>402515.0</td>\n",
       "      <td>en</td>\n",
       "      <td>American Beast</td>\n",
       "      <td>After his mother's death, James Erikson discov...</td>\n",
       "      <td>3.226</td>\n",
       "      <td>[{'id': 44632, 'logo_path': '/neCKH4sJCBhZ1B4Q...</td>\n",
       "      <td>...</td>\n",
       "      <td>0.0</td>\n",
       "      <td>89.0</td>\n",
       "      <td>[{'english_name': 'English', 'iso_639_1': 'en'...</td>\n",
       "      <td>Released</td>\n",
       "      <td>NaN</td>\n",
       "      <td>American Beast</td>\n",
       "      <td>0.0</td>\n",
       "      <td>6.6</td>\n",
       "      <td>31.0</td>\n",
       "      <td>10</td>\n",
       "    </tr>\n",
       "  </tbody>\n",
       "</table>\n",
       "<p>2 rows × 22 columns</p>\n",
       "</div>"
      ],
      "text/plain": [
       "       adult belongs_to_collection  budget  \\\n",
       "8996     0.0                   NaN     0.0   \n",
       "32094    0.0                   NaN     0.0   \n",
       "\n",
       "                                                  genres        id  \\\n",
       "8996   [{'id': 27, 'name': 'Horror'}, {'id': 35, 'nam...  310725.0   \n",
       "32094  [{'id': 27, 'name': 'Horror'}, {'id': 53, 'nam...  402515.0   \n",
       "\n",
       "      original_language     original_title  \\\n",
       "8996                 en  Hoodoo for Voodoo   \n",
       "32094                en     American Beast   \n",
       "\n",
       "                                                overview  popularity  \\\n",
       "8996   After winning an all-expenses-paid Mardis Gras...       1.400   \n",
       "32094  After his mother's death, James Erikson discov...       3.226   \n",
       "\n",
       "                                    production_companies  ... revenue runtime  \\\n",
       "8996   [{'id': 81428, 'logo_path': None, 'name': 'Aby...  ...     0.0    79.0   \n",
       "32094  [{'id': 44632, 'logo_path': '/neCKH4sJCBhZ1B4Q...  ...     0.0    89.0   \n",
       "\n",
       "                                        spoken_languages    status  \\\n",
       "8996   [{'english_name': 'English', 'iso_639_1': 'en'...  Released   \n",
       "32094  [{'english_name': 'English', 'iso_639_1': 'en'...  Released   \n",
       "\n",
       "                        tagline              title video vote_average  \\\n",
       "8996   Let the dead times roll!  Hoodoo for Voodoo   0.0          1.5   \n",
       "32094                       NaN     American Beast   0.0          6.6   \n",
       "\n",
       "       vote_count                    certification  \n",
       "8996          2.0  ScreamFest Horror Film Festival  \n",
       "32094        31.0                               10  \n",
       "\n",
       "[2 rows x 22 columns]"
      ]
     },
     "execution_count": 23,
     "metadata": {},
     "output_type": "execute_result"
    }
   ],
   "source": [
    "#display filtered rows\n",
    "df[combined_filter]"
   ]
  },
  {
   "cell_type": "code",
   "execution_count": 24,
   "id": "7a831082",
   "metadata": {},
   "outputs": [],
   "source": [
    "#drop filtered rows\n",
    "df = df[~combined_filter]"
   ]
  },
  {
   "cell_type": "code",
   "execution_count": 25,
   "id": "27af8f94",
   "metadata": {},
   "outputs": [
    {
     "data": {
      "text/plain": [
       "R          6252\n",
       "Unrated    3603\n",
       "PG-13      3289\n",
       "PG         1472\n",
       "G           457\n",
       "NC-17       167\n",
       "Name: certification, dtype: int64"
      ]
     },
     "execution_count": 25,
     "metadata": {},
     "output_type": "execute_result"
    }
   ],
   "source": [
    "df['certification'].value_counts()"
   ]
  },
  {
   "cell_type": "markdown",
   "id": "a35ba72a",
   "metadata": {},
   "source": [
    "## 3.5 Check for odd values"
   ]
  },
  {
   "cell_type": "code",
   "execution_count": 26,
   "id": "a40f40a5",
   "metadata": {},
   "outputs": [
    {
     "data": {
      "text/html": [
       "<div>\n",
       "<style scoped>\n",
       "    .dataframe tbody tr th:only-of-type {\n",
       "        vertical-align: middle;\n",
       "    }\n",
       "\n",
       "    .dataframe tbody tr th {\n",
       "        vertical-align: top;\n",
       "    }\n",
       "\n",
       "    .dataframe thead th {\n",
       "        text-align: right;\n",
       "    }\n",
       "</style>\n",
       "<table border=\"1\" class=\"dataframe\">\n",
       "  <thead>\n",
       "    <tr style=\"text-align: right;\">\n",
       "      <th></th>\n",
       "      <th>adult</th>\n",
       "      <th>budget</th>\n",
       "      <th>id</th>\n",
       "      <th>popularity</th>\n",
       "      <th>revenue</th>\n",
       "      <th>runtime</th>\n",
       "      <th>video</th>\n",
       "      <th>vote_average</th>\n",
       "      <th>vote_count</th>\n",
       "    </tr>\n",
       "  </thead>\n",
       "  <tbody>\n",
       "    <tr>\n",
       "      <th>count</th>\n",
       "      <td>63124.000000</td>\n",
       "      <td>6.312400e+04</td>\n",
       "      <td>6.312400e+04</td>\n",
       "      <td>63124.000000</td>\n",
       "      <td>6.312400e+04</td>\n",
       "      <td>63124.000000</td>\n",
       "      <td>63124.000000</td>\n",
       "      <td>63124.000000</td>\n",
       "      <td>63124.000000</td>\n",
       "    </tr>\n",
       "    <tr>\n",
       "      <th>mean</th>\n",
       "      <td>0.001838</td>\n",
       "      <td>3.038191e+06</td>\n",
       "      <td>3.814483e+05</td>\n",
       "      <td>4.893317</td>\n",
       "      <td>8.028349e+06</td>\n",
       "      <td>91.840489</td>\n",
       "      <td>0.007826</td>\n",
       "      <td>4.600025</td>\n",
       "      <td>219.842073</td>\n",
       "    </tr>\n",
       "    <tr>\n",
       "      <th>std</th>\n",
       "      <td>0.042829</td>\n",
       "      <td>1.584748e+07</td>\n",
       "      <td>2.708746e+05</td>\n",
       "      <td>16.391970</td>\n",
       "      <td>6.008496e+07</td>\n",
       "      <td>31.022150</td>\n",
       "      <td>0.088118</td>\n",
       "      <td>2.623544</td>\n",
       "      <td>1170.382903</td>\n",
       "    </tr>\n",
       "    <tr>\n",
       "      <th>min</th>\n",
       "      <td>0.000000</td>\n",
       "      <td>0.000000e+00</td>\n",
       "      <td>1.200000e+01</td>\n",
       "      <td>0.000000</td>\n",
       "      <td>0.000000e+00</td>\n",
       "      <td>0.000000</td>\n",
       "      <td>0.000000</td>\n",
       "      <td>0.000000</td>\n",
       "      <td>0.000000</td>\n",
       "    </tr>\n",
       "    <tr>\n",
       "      <th>25%</th>\n",
       "      <td>0.000000</td>\n",
       "      <td>0.000000e+00</td>\n",
       "      <td>1.273785e+05</td>\n",
       "      <td>0.677000</td>\n",
       "      <td>0.000000e+00</td>\n",
       "      <td>84.000000</td>\n",
       "      <td>0.000000</td>\n",
       "      <td>3.200000</td>\n",
       "      <td>1.000000</td>\n",
       "    </tr>\n",
       "    <tr>\n",
       "      <th>50%</th>\n",
       "      <td>0.000000</td>\n",
       "      <td>0.000000e+00</td>\n",
       "      <td>3.672080e+05</td>\n",
       "      <td>1.655000</td>\n",
       "      <td>0.000000e+00</td>\n",
       "      <td>93.000000</td>\n",
       "      <td>0.000000</td>\n",
       "      <td>5.455000</td>\n",
       "      <td>6.000000</td>\n",
       "    </tr>\n",
       "    <tr>\n",
       "      <th>75%</th>\n",
       "      <td>0.000000</td>\n",
       "      <td>0.000000e+00</td>\n",
       "      <td>5.752385e+05</td>\n",
       "      <td>4.689000</td>\n",
       "      <td>0.000000e+00</td>\n",
       "      <td>105.000000</td>\n",
       "      <td>0.000000</td>\n",
       "      <td>6.400000</td>\n",
       "      <td>35.000000</td>\n",
       "    </tr>\n",
       "    <tr>\n",
       "      <th>max</th>\n",
       "      <td>1.000000</td>\n",
       "      <td>3.790000e+08</td>\n",
       "      <td>1.152334e+06</td>\n",
       "      <td>1947.386000</td>\n",
       "      <td>2.923706e+09</td>\n",
       "      <td>1440.000000</td>\n",
       "      <td>1.000000</td>\n",
       "      <td>10.000000</td>\n",
       "      <td>33995.000000</td>\n",
       "    </tr>\n",
       "  </tbody>\n",
       "</table>\n",
       "</div>"
      ],
      "text/plain": [
       "              adult        budget            id    popularity       revenue  \\\n",
       "count  63124.000000  6.312400e+04  6.312400e+04  63124.000000  6.312400e+04   \n",
       "mean       0.001838  3.038191e+06  3.814483e+05      4.893317  8.028349e+06   \n",
       "std        0.042829  1.584748e+07  2.708746e+05     16.391970  6.008496e+07   \n",
       "min        0.000000  0.000000e+00  1.200000e+01      0.000000  0.000000e+00   \n",
       "25%        0.000000  0.000000e+00  1.273785e+05      0.677000  0.000000e+00   \n",
       "50%        0.000000  0.000000e+00  3.672080e+05      1.655000  0.000000e+00   \n",
       "75%        0.000000  0.000000e+00  5.752385e+05      4.689000  0.000000e+00   \n",
       "max        1.000000  3.790000e+08  1.152334e+06   1947.386000  2.923706e+09   \n",
       "\n",
       "            runtime         video  vote_average    vote_count  \n",
       "count  63124.000000  63124.000000  63124.000000  63124.000000  \n",
       "mean      91.840489      0.007826      4.600025    219.842073  \n",
       "std       31.022150      0.088118      2.623544   1170.382903  \n",
       "min        0.000000      0.000000      0.000000      0.000000  \n",
       "25%       84.000000      0.000000      3.200000      1.000000  \n",
       "50%       93.000000      0.000000      5.455000      6.000000  \n",
       "75%      105.000000      0.000000      6.400000     35.000000  \n",
       "max     1440.000000      1.000000     10.000000  33995.000000  "
      ]
     },
     "execution_count": 26,
     "metadata": {},
     "output_type": "execute_result"
    }
   ],
   "source": [
    "df.describe()"
   ]
  },
  {
   "cell_type": "markdown",
   "id": "6244d1c2",
   "metadata": {},
   "source": [
    "**Observation**: There are no obvious odd values based on the above check."
   ]
  },
  {
   "cell_type": "markdown",
   "id": "3524f2ad",
   "metadata": {},
   "source": [
    "# Hypothesis Testing"
   ]
  },
  {
   "cell_type": "markdown",
   "id": "ccf9b55c",
   "metadata": {},
   "source": [
    "# Q1. Does the MPAA rating of a movie (G/PG/PG-13/R) affect how much revenue the movie generates?\n",
    "\n"
   ]
  },
  {
   "cell_type": "markdown",
   "id": "7622ce7c",
   "metadata": {},
   "source": [
    "## 0. Data Preparation"
   ]
  },
  {
   "cell_type": "code",
   "execution_count": 27,
   "id": "a7d7546a",
   "metadata": {},
   "outputs": [
    {
     "data": {
      "text/plain": [
       "R          6252\n",
       "Unrated    3603\n",
       "PG-13      3289\n",
       "PG         1472\n",
       "G           457\n",
       "NC-17       167\n",
       "Name: certification, dtype: int64"
      ]
     },
     "execution_count": 27,
     "metadata": {},
     "output_type": "execute_result"
    }
   ],
   "source": [
    "df['certification'].value_counts()"
   ]
  },
  {
   "cell_type": "markdown",
   "id": "8b74faf7",
   "metadata": {},
   "source": [
    "There are no inconsistent values because I have cleaned this already in #3.4.1."
   ]
  },
  {
   "cell_type": "code",
   "execution_count": 28,
   "id": "00e00f7c",
   "metadata": {},
   "outputs": [
    {
     "data": {
      "text/plain": [
       "47885"
      ]
     },
     "execution_count": 28,
     "metadata": {},
     "output_type": "execute_result"
    }
   ],
   "source": [
    "df['certification'].isna().sum()"
   ]
  },
  {
   "cell_type": "markdown",
   "id": "3102a6f6",
   "metadata": {},
   "source": [
    "There are 47885 missing values in this column. I will drop these rows when performing the Hypothesis Testing."
   ]
  },
  {
   "cell_type": "code",
   "execution_count": 29,
   "id": "ca52fae1",
   "metadata": {},
   "outputs": [
    {
     "data": {
      "text/plain": [
       "1"
      ]
     },
     "execution_count": 29,
     "metadata": {},
     "output_type": "execute_result"
    }
   ],
   "source": [
    "df['revenue'].isna().sum()"
   ]
  },
  {
   "cell_type": "markdown",
   "id": "ac4629fe",
   "metadata": {},
   "source": [
    "There is 1 missing value in this column. I will drop this row when performing the Hypothesis Testing."
   ]
  },
  {
   "cell_type": "code",
   "execution_count": 30,
   "id": "5b1bab99",
   "metadata": {},
   "outputs": [],
   "source": [
    "Q1_df=df.copy()"
   ]
  },
  {
   "cell_type": "code",
   "execution_count": 31,
   "id": "78b52e82",
   "metadata": {},
   "outputs": [],
   "source": [
    "Q1_df=Q1_df[['certification', 'revenue']]"
   ]
  },
  {
   "cell_type": "code",
   "execution_count": 32,
   "id": "b02b88b4",
   "metadata": {},
   "outputs": [
    {
     "name": "stdout",
     "output_type": "stream",
     "text": [
      "<class 'pandas.core.frame.DataFrame'>\n",
      "Int64Index: 63125 entries, 0 to 63147\n",
      "Data columns (total 2 columns):\n",
      " #   Column         Non-Null Count  Dtype  \n",
      "---  ------         --------------  -----  \n",
      " 0   certification  15240 non-null  object \n",
      " 1   revenue        63124 non-null  float64\n",
      "dtypes: float64(1), object(1)\n",
      "memory usage: 1.4+ MB\n"
     ]
    }
   ],
   "source": [
    "Q1_df.info()"
   ]
  },
  {
   "cell_type": "code",
   "execution_count": 33,
   "id": "a812b78b",
   "metadata": {},
   "outputs": [],
   "source": [
    "#drop rows with missing values\n",
    "Q1_df = Q1_df.dropna()"
   ]
  },
  {
   "cell_type": "code",
   "execution_count": 34,
   "id": "c41b5264",
   "metadata": {},
   "outputs": [
    {
     "name": "stdout",
     "output_type": "stream",
     "text": [
      "<class 'pandas.core.frame.DataFrame'>\n",
      "Int64Index: 15240 entries, 4 to 63147\n",
      "Data columns (total 2 columns):\n",
      " #   Column         Non-Null Count  Dtype  \n",
      "---  ------         --------------  -----  \n",
      " 0   certification  15240 non-null  object \n",
      " 1   revenue        15240 non-null  float64\n",
      "dtypes: float64(1), object(1)\n",
      "memory usage: 357.2+ KB\n"
     ]
    }
   ],
   "source": [
    "Q1_df.info()"
   ]
  },
  {
   "cell_type": "markdown",
   "id": "34fdf4b4",
   "metadata": {},
   "source": [
    "**Data Cleaning & Preparation is complete for Q1.**"
   ]
  },
  {
   "cell_type": "markdown",
   "id": "5cf6f2b9",
   "metadata": {},
   "source": [
    "## 1.  Null Hypothesis and Alternative Hypothesis"
   ]
  },
  {
   "cell_type": "markdown",
   "id": "dadc8380",
   "metadata": {},
   "source": [
    "**Null Hypothesis**: The MPAA rating of a movie does not affect how much revenue the movie generates.\n",
    "    \n",
    "**Alternative Hypothesis**: The MPAA rating of a movie affects how much revenue the movie generates."
   ]
  },
  {
   "cell_type": "markdown",
   "id": "e48acca2",
   "metadata": {},
   "source": [
    "## 2. Selecting the Hypothesis Test"
   ]
  },
  {
   "cell_type": "code",
   "execution_count": 35,
   "id": "db049cfb",
   "metadata": {},
   "outputs": [
    {
     "data": {
      "text/plain": [
       "R          6252\n",
       "Unrated    3603\n",
       "PG-13      3289\n",
       "PG         1472\n",
       "G           457\n",
       "NC-17       167\n",
       "Name: certification, dtype: int64"
      ]
     },
     "execution_count": 35,
     "metadata": {},
     "output_type": "execute_result"
    }
   ],
   "source": [
    "Q1_df['certification'].value_counts()"
   ]
  },
  {
   "cell_type": "markdown",
   "id": "600fb387",
   "metadata": {},
   "source": [
    "* Target: 'revenue' - **Numerical**\n",
    "* Number of groups: **6 groups**"
   ]
  },
  {
   "cell_type": "markdown",
   "id": "38843ce7",
   "metadata": {},
   "source": [
    "**Test Type**: One-Way ANOVA and/or Tukey (if assumptions are met.)"
   ]
  },
  {
   "cell_type": "markdown",
   "id": "23c306a6",
   "metadata": {},
   "source": [
    "## 3. Test the assumptions"
   ]
  },
  {
   "cell_type": "markdown",
   "id": "63e1d511",
   "metadata": {},
   "source": [
    "One Way ANOVA test assumptions:\n",
    "\n",
    "- No significant outliers\n",
    "- Normality\n",
    "- Equal variance"
   ]
  },
  {
   "cell_type": "code",
   "execution_count": 36,
   "id": "28e9bd74",
   "metadata": {},
   "outputs": [
    {
     "name": "stdout",
     "output_type": "stream",
     "text": [
      "For MPAA Rating Certification: R (n=6252): Mean=16113805.42\n",
      "For MPAA Rating Certification: Unrated (n=3603): Mean=1910180.39\n",
      "For MPAA Rating Certification: PG-13 (n=3289): Mean=71680653.10\n",
      "For MPAA Rating Certification: PG (n=1472): Mean=68864955.12\n",
      "For MPAA Rating Certification: G (n=457): Mean=32259302.51\n",
      "For MPAA Rating Certification: NC-17 (n=167): Mean=1178514.14\n"
     ]
    }
   ],
   "source": [
    "R = Q1_df.loc[df['certification']=='R',\"revenue\"]\n",
    "Unrated = Q1_df.loc[df['certification']=='Unrated',\"revenue\"]\n",
    "PG_thirteen = Q1_df.loc[df['certification']=='PG-13',\"revenue\"]\n",
    "PG = Q1_df.loc[df['certification']=='PG',\"revenue\"]\n",
    "G = Q1_df.loc[df['certification']=='G',\"revenue\"]\n",
    "NC_seventeen = Q1_df.loc[df['certification']=='NC-17',\"revenue\"]\n",
    "## Print the average revenue for each group\n",
    "print(f\"For MPAA Rating Certification: R (n={len(R)}): Mean={np.mean(R):.2f}\")\n",
    "print(f\"For MPAA Rating Certification: Unrated (n={len(Unrated)}): Mean={np.mean(Unrated):.2f}\")\n",
    "print(f\"For MPAA Rating Certification: PG-13 (n={len(PG_thirteen)}): Mean={np.mean(PG_thirteen):.2f}\")\n",
    "print(f\"For MPAA Rating Certification: PG (n={len(PG)}): Mean={np.mean(PG):.2f}\")\n",
    "print(f\"For MPAA Rating Certification: G (n={len(G)}): Mean={np.mean(G):.2f}\")\n",
    "print(f\"For MPAA Rating Certification: NC-17 (n={len(NC_seventeen)}): Mean={np.mean(NC_seventeen):.2f}\")"
   ]
  },
  {
   "cell_type": "markdown",
   "id": "3d62a602",
   "metadata": {},
   "source": [
    "### 3.1 Check Outliers"
   ]
  },
  {
   "cell_type": "markdown",
   "id": "0d7ae6dd",
   "metadata": {},
   "source": [
    "#### **Certification: `R`**"
   ]
  },
  {
   "cell_type": "code",
   "execution_count": 37,
   "id": "64c12660",
   "metadata": {},
   "outputs": [
    {
     "data": {
      "text/plain": [
       "6252"
      ]
     },
     "execution_count": 37,
     "metadata": {},
     "output_type": "execute_result"
    }
   ],
   "source": [
    "#check initial count before removing outliers\n",
    "len(R)"
   ]
  },
  {
   "cell_type": "code",
   "execution_count": 38,
   "id": "ee04c942",
   "metadata": {},
   "outputs": [
    {
     "data": {
      "text/plain": [
       "121"
      ]
     },
     "execution_count": 38,
     "metadata": {},
     "output_type": "execute_result"
    }
   ],
   "source": [
    "#check for outliers\n",
    "zscores_f = stats.zscore(R)\n",
    "outliers_f = abs(zscores_f)>3\n",
    "np.sum(outliers_f)"
   ]
  },
  {
   "cell_type": "markdown",
   "id": "757089e0",
   "metadata": {},
   "source": [
    "There are 121 outliers in the R group, so I will remove the outliers."
   ]
  },
  {
   "cell_type": "code",
   "execution_count": 39,
   "id": "8f18ae99",
   "metadata": {},
   "outputs": [],
   "source": [
    "# remove outliers \n",
    "R = R[(np.abs(stats.zscore(R)) < 3)]"
   ]
  },
  {
   "cell_type": "code",
   "execution_count": 40,
   "id": "2331fcc4",
   "metadata": {},
   "outputs": [
    {
     "data": {
      "text/plain": [
       "6131"
      ]
     },
     "execution_count": 40,
     "metadata": {},
     "output_type": "execute_result"
    }
   ],
   "source": [
    "#check final count after removing outliers\n",
    "len(R)"
   ]
  },
  {
   "cell_type": "markdown",
   "id": "1392eed8",
   "metadata": {},
   "source": [
    "#### **Certification: `Unrated`**"
   ]
  },
  {
   "cell_type": "code",
   "execution_count": 41,
   "id": "8ea75531",
   "metadata": {},
   "outputs": [
    {
     "data": {
      "text/plain": [
       "3603"
      ]
     },
     "execution_count": 41,
     "metadata": {},
     "output_type": "execute_result"
    }
   ],
   "source": [
    "#check initial count before removing outliers\n",
    "len(Unrated)"
   ]
  },
  {
   "cell_type": "code",
   "execution_count": 42,
   "id": "33b173ec",
   "metadata": {},
   "outputs": [
    {
     "data": {
      "text/plain": [
       "32"
      ]
     },
     "execution_count": 42,
     "metadata": {},
     "output_type": "execute_result"
    }
   ],
   "source": [
    "#check for outliers\n",
    "zscores_f = stats.zscore(Unrated)\n",
    "outliers_f = abs(zscores_f)>3\n",
    "np.sum(outliers_f)"
   ]
  },
  {
   "cell_type": "markdown",
   "id": "de2e753c",
   "metadata": {},
   "source": [
    "There are 32 outliers in the Unrated group, so I will remove the outliers."
   ]
  },
  {
   "cell_type": "code",
   "execution_count": 43,
   "id": "c1141f01",
   "metadata": {},
   "outputs": [],
   "source": [
    "# remove outliers \n",
    "Unrated = Unrated[(np.abs(stats.zscore(Unrated)) < 3)]"
   ]
  },
  {
   "cell_type": "code",
   "execution_count": 44,
   "id": "bb16fc77",
   "metadata": {},
   "outputs": [
    {
     "data": {
      "text/plain": [
       "3571"
      ]
     },
     "execution_count": 44,
     "metadata": {},
     "output_type": "execute_result"
    }
   ],
   "source": [
    "#check final count after removing outliers\n",
    "len(Unrated)"
   ]
  },
  {
   "cell_type": "markdown",
   "id": "50e4f582",
   "metadata": {},
   "source": [
    "#### **Certification: `PG-13`**"
   ]
  },
  {
   "cell_type": "code",
   "execution_count": 45,
   "id": "eeeb8023",
   "metadata": {},
   "outputs": [
    {
     "data": {
      "text/plain": [
       "3289"
      ]
     },
     "execution_count": 45,
     "metadata": {},
     "output_type": "execute_result"
    }
   ],
   "source": [
    "#check initial count before removing outliers\n",
    "len(PG_thirteen)"
   ]
  },
  {
   "cell_type": "code",
   "execution_count": 46,
   "id": "c4fce8cd",
   "metadata": {},
   "outputs": [
    {
     "data": {
      "text/plain": [
       "87"
      ]
     },
     "execution_count": 46,
     "metadata": {},
     "output_type": "execute_result"
    }
   ],
   "source": [
    "#check for outliers\n",
    "zscores_f = stats.zscore(PG_thirteen)\n",
    "outliers_f = abs(zscores_f)>3\n",
    "np.sum(outliers_f)"
   ]
  },
  {
   "cell_type": "markdown",
   "id": "c8a222a7",
   "metadata": {},
   "source": [
    "There are 87 outliers in the PG-13 group, so I will remove the outliers."
   ]
  },
  {
   "cell_type": "code",
   "execution_count": 47,
   "id": "19de441d",
   "metadata": {},
   "outputs": [],
   "source": [
    "# remove outliers \n",
    "PG_thirteen = PG_thirteen[(np.abs(stats.zscore(PG_thirteen)) < 3)]"
   ]
  },
  {
   "cell_type": "code",
   "execution_count": 48,
   "id": "edd94d96",
   "metadata": {},
   "outputs": [
    {
     "data": {
      "text/plain": [
       "3202"
      ]
     },
     "execution_count": 48,
     "metadata": {},
     "output_type": "execute_result"
    }
   ],
   "source": [
    "#check final count after removing outliers\n",
    "len(PG_thirteen)"
   ]
  },
  {
   "cell_type": "markdown",
   "id": "18aaf941",
   "metadata": {},
   "source": [
    "#### **Certification: `PG`**"
   ]
  },
  {
   "cell_type": "code",
   "execution_count": 49,
   "id": "cf19bf6a",
   "metadata": {},
   "outputs": [
    {
     "data": {
      "text/plain": [
       "1472"
      ]
     },
     "execution_count": 49,
     "metadata": {},
     "output_type": "execute_result"
    }
   ],
   "source": [
    "#check initial count before removing outliers\n",
    "len(PG)"
   ]
  },
  {
   "cell_type": "code",
   "execution_count": 50,
   "id": "f0403d31",
   "metadata": {},
   "outputs": [
    {
     "data": {
      "text/plain": [
       "41"
      ]
     },
     "execution_count": 50,
     "metadata": {},
     "output_type": "execute_result"
    }
   ],
   "source": [
    "#check for outliers\n",
    "zscores_f = stats.zscore(PG)\n",
    "outliers_f = abs(zscores_f)>3\n",
    "np.sum(outliers_f)"
   ]
  },
  {
   "cell_type": "markdown",
   "id": "95077bf0",
   "metadata": {},
   "source": [
    "There are 41 outliers in the PG group, so I will remove the outliers."
   ]
  },
  {
   "cell_type": "code",
   "execution_count": 51,
   "id": "2f37fd07",
   "metadata": {},
   "outputs": [],
   "source": [
    "# remove outliers \n",
    "PG = PG[(np.abs(stats.zscore(PG)) < 3)]"
   ]
  },
  {
   "cell_type": "code",
   "execution_count": 52,
   "id": "932fa215",
   "metadata": {},
   "outputs": [
    {
     "data": {
      "text/plain": [
       "1431"
      ]
     },
     "execution_count": 52,
     "metadata": {},
     "output_type": "execute_result"
    }
   ],
   "source": [
    "#check final count after removing outliers\n",
    "len(PG)"
   ]
  },
  {
   "cell_type": "markdown",
   "id": "6ca94e82",
   "metadata": {},
   "source": [
    "#### **Certification: `G`**"
   ]
  },
  {
   "cell_type": "code",
   "execution_count": 53,
   "id": "f13f399c",
   "metadata": {},
   "outputs": [
    {
     "data": {
      "text/plain": [
       "457"
      ]
     },
     "execution_count": 53,
     "metadata": {},
     "output_type": "execute_result"
    }
   ],
   "source": [
    "#check initial count before removing outliers\n",
    "len(G)"
   ]
  },
  {
   "cell_type": "code",
   "execution_count": 54,
   "id": "a281362a",
   "metadata": {},
   "outputs": [
    {
     "data": {
      "text/plain": [
       "10"
      ]
     },
     "execution_count": 54,
     "metadata": {},
     "output_type": "execute_result"
    }
   ],
   "source": [
    "#check for outliers\n",
    "zscores_f = stats.zscore(G)\n",
    "outliers_f = abs(zscores_f)>3\n",
    "np.sum(outliers_f)"
   ]
  },
  {
   "cell_type": "markdown",
   "id": "1bffcef7",
   "metadata": {},
   "source": [
    "There are 10 outliers in the G group, so I will remove the outliers."
   ]
  },
  {
   "cell_type": "code",
   "execution_count": 55,
   "id": "2c3ddf4f",
   "metadata": {},
   "outputs": [],
   "source": [
    "# remove outliers \n",
    "G = G[(np.abs(stats.zscore(G)) < 3)]"
   ]
  },
  {
   "cell_type": "code",
   "execution_count": 56,
   "id": "6067b15b",
   "metadata": {},
   "outputs": [
    {
     "data": {
      "text/plain": [
       "447"
      ]
     },
     "execution_count": 56,
     "metadata": {},
     "output_type": "execute_result"
    }
   ],
   "source": [
    "#check final count after removing outliers\n",
    "len(G)"
   ]
  },
  {
   "cell_type": "markdown",
   "id": "3dd30ce4",
   "metadata": {},
   "source": [
    "#### **Certification: `NC-17`**"
   ]
  },
  {
   "cell_type": "code",
   "execution_count": 57,
   "id": "a9200c13",
   "metadata": {},
   "outputs": [
    {
     "data": {
      "text/plain": [
       "167"
      ]
     },
     "execution_count": 57,
     "metadata": {},
     "output_type": "execute_result"
    }
   ],
   "source": [
    "#check initial count before removing outliers\n",
    "len(NC_seventeen)"
   ]
  },
  {
   "cell_type": "code",
   "execution_count": 58,
   "id": "73180687",
   "metadata": {},
   "outputs": [
    {
     "data": {
      "text/plain": [
       "3"
      ]
     },
     "execution_count": 58,
     "metadata": {},
     "output_type": "execute_result"
    }
   ],
   "source": [
    "#check for outliers\n",
    "zscores_f = stats.zscore(NC_seventeen)\n",
    "outliers_f = abs(zscores_f)>3\n",
    "np.sum(outliers_f)"
   ]
  },
  {
   "cell_type": "markdown",
   "id": "9b26c577",
   "metadata": {},
   "source": [
    "There are 3 outliers in the NC-17 group, so I will remove the outliers."
   ]
  },
  {
   "cell_type": "code",
   "execution_count": 59,
   "id": "625a657a",
   "metadata": {},
   "outputs": [],
   "source": [
    "# remove outliers \n",
    "NC_seventeen = NC_seventeen[(np.abs(stats.zscore(NC_seventeen)) < 3)]"
   ]
  },
  {
   "cell_type": "code",
   "execution_count": 60,
   "id": "360cc935",
   "metadata": {},
   "outputs": [
    {
     "data": {
      "text/plain": [
       "164"
      ]
     },
     "execution_count": 60,
     "metadata": {},
     "output_type": "execute_result"
    }
   ],
   "source": [
    "#check final count after removing outliers\n",
    "len(NC_seventeen)"
   ]
  },
  {
   "cell_type": "markdown",
   "id": "727b6946",
   "metadata": {},
   "source": [
    "### 3.2 Test for Normality"
   ]
  },
  {
   "cell_type": "code",
   "execution_count": 61,
   "id": "18302d94",
   "metadata": {},
   "outputs": [
    {
     "data": {
      "text/plain": [
       "dict_keys(['PG', 'R', 'G', 'Unrated', 'PG-13', 'NC-17'])"
      ]
     },
     "execution_count": 61,
     "metadata": {},
     "output_type": "execute_result"
    }
   ],
   "source": [
    "## Create groups dictionary. \n",
    "groups = {}\n",
    "## Loop through all unique categories\n",
    "for i in Q1_df['certification'].unique():\n",
    "    ## Get series for group and rename\n",
    "    data = Q1_df.loc[Q1_df['certification']==i,'revenue'].copy()\n",
    "    \n",
    "    # save into the dictionary\n",
    "    groups[i] = data\n",
    "groups.keys()"
   ]
  },
  {
   "cell_type": "code",
   "execution_count": 62,
   "id": "abf1f5c3",
   "metadata": {},
   "outputs": [
    {
     "data": {
      "text/html": [
       "<div>\n",
       "<style scoped>\n",
       "    .dataframe tbody tr th:only-of-type {\n",
       "        vertical-align: middle;\n",
       "    }\n",
       "\n",
       "    .dataframe tbody tr th {\n",
       "        vertical-align: top;\n",
       "    }\n",
       "\n",
       "    .dataframe thead th {\n",
       "        text-align: right;\n",
       "    }\n",
       "</style>\n",
       "<table border=\"1\" class=\"dataframe\">\n",
       "  <thead>\n",
       "    <tr style=\"text-align: right;\">\n",
       "      <th></th>\n",
       "      <th>n</th>\n",
       "      <th>p</th>\n",
       "      <th>test stat</th>\n",
       "    </tr>\n",
       "  </thead>\n",
       "  <tbody>\n",
       "    <tr>\n",
       "      <th>PG</th>\n",
       "      <td>1472.0</td>\n",
       "      <td>6.733746e-275</td>\n",
       "      <td>1262.607538</td>\n",
       "    </tr>\n",
       "    <tr>\n",
       "      <th>R</th>\n",
       "      <td>6252.0</td>\n",
       "      <td>0.000000e+00</td>\n",
       "      <td>7963.911586</td>\n",
       "    </tr>\n",
       "    <tr>\n",
       "      <th>G</th>\n",
       "      <td>457.0</td>\n",
       "      <td>1.119525e-119</td>\n",
       "      <td>547.789444</td>\n",
       "    </tr>\n",
       "    <tr>\n",
       "      <th>Unrated</th>\n",
       "      <td>3603.0</td>\n",
       "      <td>0.000000e+00</td>\n",
       "      <td>7818.733854</td>\n",
       "    </tr>\n",
       "    <tr>\n",
       "      <th>PG-13</th>\n",
       "      <td>3289.0</td>\n",
       "      <td>0.000000e+00</td>\n",
       "      <td>3660.257859</td>\n",
       "    </tr>\n",
       "    <tr>\n",
       "      <th>NC-17</th>\n",
       "      <td>167.0</td>\n",
       "      <td>8.690971e-59</td>\n",
       "      <td>267.380472</td>\n",
       "    </tr>\n",
       "  </tbody>\n",
       "</table>\n",
       "</div>"
      ],
      "text/plain": [
       "              n              p    test stat\n",
       "PG       1472.0  6.733746e-275  1262.607538\n",
       "R        6252.0   0.000000e+00  7963.911586\n",
       "G         457.0  1.119525e-119   547.789444\n",
       "Unrated  3603.0   0.000000e+00  7818.733854\n",
       "PG-13    3289.0   0.000000e+00  3660.257859\n",
       "NC-17     167.0   8.690971e-59   267.380472"
      ]
     },
     "execution_count": 62,
     "metadata": {},
     "output_type": "execute_result"
    }
   ],
   "source": [
    "## Run normal test on each group and confirming there are >15 in each group\n",
    "norm_results = {}\n",
    "for i, data in groups.items():\n",
    "    stat, p = stats.normaltest(data)\n",
    "    ## save the p val, test statistic, and the size of the group\n",
    "    norm_results[i] = {'n': len(data),\n",
    "                             'p':p,\n",
    "                             'test stat':stat,}\n",
    "## convert to a dataframe\n",
    "norm_results_df = pd.DataFrame(norm_results).T\n",
    "norm_results_df"
   ]
  },
  {
   "cell_type": "code",
   "execution_count": 63,
   "id": "776654c0",
   "metadata": {},
   "outputs": [
    {
     "data": {
      "text/html": [
       "<div>\n",
       "<style scoped>\n",
       "    .dataframe tbody tr th:only-of-type {\n",
       "        vertical-align: middle;\n",
       "    }\n",
       "\n",
       "    .dataframe tbody tr th {\n",
       "        vertical-align: top;\n",
       "    }\n",
       "\n",
       "    .dataframe thead th {\n",
       "        text-align: right;\n",
       "    }\n",
       "</style>\n",
       "<table border=\"1\" class=\"dataframe\">\n",
       "  <thead>\n",
       "    <tr style=\"text-align: right;\">\n",
       "      <th></th>\n",
       "      <th>n</th>\n",
       "      <th>p</th>\n",
       "      <th>test stat</th>\n",
       "      <th>sig</th>\n",
       "    </tr>\n",
       "  </thead>\n",
       "  <tbody>\n",
       "    <tr>\n",
       "      <th>PG</th>\n",
       "      <td>1472.0</td>\n",
       "      <td>6.733746e-275</td>\n",
       "      <td>1262.607538</td>\n",
       "      <td>True</td>\n",
       "    </tr>\n",
       "    <tr>\n",
       "      <th>R</th>\n",
       "      <td>6252.0</td>\n",
       "      <td>0.000000e+00</td>\n",
       "      <td>7963.911586</td>\n",
       "      <td>True</td>\n",
       "    </tr>\n",
       "    <tr>\n",
       "      <th>G</th>\n",
       "      <td>457.0</td>\n",
       "      <td>1.119525e-119</td>\n",
       "      <td>547.789444</td>\n",
       "      <td>True</td>\n",
       "    </tr>\n",
       "    <tr>\n",
       "      <th>Unrated</th>\n",
       "      <td>3603.0</td>\n",
       "      <td>0.000000e+00</td>\n",
       "      <td>7818.733854</td>\n",
       "      <td>True</td>\n",
       "    </tr>\n",
       "    <tr>\n",
       "      <th>PG-13</th>\n",
       "      <td>3289.0</td>\n",
       "      <td>0.000000e+00</td>\n",
       "      <td>3660.257859</td>\n",
       "      <td>True</td>\n",
       "    </tr>\n",
       "    <tr>\n",
       "      <th>NC-17</th>\n",
       "      <td>167.0</td>\n",
       "      <td>8.690971e-59</td>\n",
       "      <td>267.380472</td>\n",
       "      <td>True</td>\n",
       "    </tr>\n",
       "  </tbody>\n",
       "</table>\n",
       "</div>"
      ],
      "text/plain": [
       "              n              p    test stat   sig\n",
       "PG       1472.0  6.733746e-275  1262.607538  True\n",
       "R        6252.0   0.000000e+00  7963.911586  True\n",
       "G         457.0  1.119525e-119   547.789444  True\n",
       "Unrated  3603.0   0.000000e+00  7818.733854  True\n",
       "PG-13    3289.0   0.000000e+00  3660.257859  True\n",
       "NC-17     167.0   8.690971e-59   267.380472  True"
      ]
     },
     "execution_count": 63,
     "metadata": {},
     "output_type": "execute_result"
    }
   ],
   "source": [
    "### check significance\n",
    "norm_results_df['sig'] = norm_results_df['p'] < .05 \n",
    "norm_results_df"
   ]
  },
  {
   "cell_type": "markdown",
   "id": "68efad52",
   "metadata": {},
   "source": [
    "These groups do not have normal distribution, but the sample size is greater than 15, so we can proceed."
   ]
  },
  {
   "cell_type": "markdown",
   "id": "4abccc9d",
   "metadata": {},
   "source": [
    "### 3.3 Equal Variance"
   ]
  },
  {
   "cell_type": "code",
   "execution_count": 64,
   "id": "e4360584",
   "metadata": {},
   "outputs": [
    {
     "data": {
      "text/plain": [
       "LeveneResult(statistic=190.48302945412448, pvalue=1.7709361345403903e-197)"
      ]
     },
     "execution_count": 64,
     "metadata": {},
     "output_type": "execute_result"
    }
   ],
   "source": [
    "# with the * operator \n",
    "stats.levene(*groups.values())"
   ]
  },
  {
   "cell_type": "markdown",
   "id": "d25b3d9d",
   "metadata": {},
   "source": [
    "**Interpretation**: p-value is < 0.05, therefore, we do **not** have equal variance.\n",
    "\n",
    "Therefore, we must select the **non-parametric equivalent** of the ONE-WAY ANOVA test, which is the **Kruskal-Wallis** test."
   ]
  },
  {
   "cell_type": "markdown",
   "id": "5462cdfc",
   "metadata": {},
   "source": [
    "# 4.  Execute the selected non-parametric equivalent test (Kruskal-Wallis test)"
   ]
  },
  {
   "cell_type": "code",
   "execution_count": 65,
   "id": "374cb1fc",
   "metadata": {},
   "outputs": [
    {
     "data": {
      "text/plain": [
       "KruskalResult(statistic=2014.532438478708, pvalue=0.0)"
      ]
     },
     "execution_count": 65,
     "metadata": {},
     "output_type": "execute_result"
    }
   ],
   "source": [
    "# perform the hypothesis test\n",
    "result = stats.kruskal( *groups.values())\n",
    "result"
   ]
  },
  {
   "cell_type": "markdown",
   "id": "90aed93e",
   "metadata": {},
   "source": [
    "# 5. Interpret the p-value with reference to the null hypothesis"
   ]
  },
  {
   "cell_type": "markdown",
   "id": "96e85dfa",
   "metadata": {},
   "source": [
    "p-value is < 0.05, therefore, the test result showed significance.\n",
    "\n",
    "We reject the null hypothesis and support that there is a significant difference in the average revenue between the 6 groups."
   ]
  },
  {
   "cell_type": "markdown",
   "id": "44f5ba46",
   "metadata": {},
   "source": [
    "# 6. Post-hoc multiple comparison tests (Tukey's test)"
   ]
  },
  {
   "cell_type": "code",
   "execution_count": 66,
   "id": "84dc8216",
   "metadata": {},
   "outputs": [],
   "source": [
    "from statsmodels.stats.multicomp import pairwise_tukeyhsd\n",
    "\n",
    "values = Q1_df['revenue']\n",
    "labels = Q1_df['certification']"
   ]
  },
  {
   "cell_type": "code",
   "execution_count": 67,
   "id": "2d7e0af2",
   "metadata": {},
   "outputs": [
    {
     "data": {
      "text/html": [
       "<table class=\"simpletable\">\n",
       "<caption>Multiple Comparison of Means - Tukey HSD, FWER=0.05</caption>\n",
       "<tr>\n",
       "  <th>group1</th> <th>group2</th>     <th>meandiff</th>     <th>p-adj</th>      <th>lower</th>          <th>upper</th>     <th>reject</th>\n",
       "</tr>\n",
       "<tr>\n",
       "     <td>G</td>    <td>NC-17</td>  <td>-31080788.3639</td> <td>0.0282</td> <td>-60177430.8464</td>  <td>-1984145.8815</td>  <td>True</td> \n",
       "</tr>\n",
       "<tr>\n",
       "     <td>G</td>     <td>PG</td>     <td>36605652.6119</td>   <td>0.0</td>   <td>19374234.2281</td>  <td>53837070.9957</td>  <td>True</td> \n",
       "</tr>\n",
       "<tr>\n",
       "     <td>G</td>    <td>PG-13</td>   <td>39421350.5905</td>   <td>0.0</td>   <td>23357088.9728</td>  <td>55485612.2083</td>  <td>True</td> \n",
       "</tr>\n",
       "<tr>\n",
       "     <td>G</td>      <td>R</td>     <td>-16145497.09</td>  <td>0.0374</td> <td>-31738445.0616</td>  <td>-552549.1184</td>   <td>True</td> \n",
       "</tr>\n",
       "<tr>\n",
       "     <td>G</td>   <td>Unrated</td> <td>-30349122.1152</td>   <td>0.0</td>  <td>-46327758.1449</td> <td>-14370486.0855</td>  <td>True</td> \n",
       "</tr>\n",
       "<tr>\n",
       "   <td>NC-17</td>   <td>PG</td>     <td>67686440.9759</td>   <td>0.0</td>   <td>41411348.4052</td>  <td>93961533.5465</td>  <td>True</td> \n",
       "</tr>\n",
       "<tr>\n",
       "   <td>NC-17</td>  <td>PG-13</td>   <td>70502138.9545</td>   <td>0.0</td>   <td>44977264.5885</td>  <td>96027013.3205</td>  <td>True</td> \n",
       "</tr>\n",
       "<tr>\n",
       "   <td>NC-17</td>    <td>R</td>     <td>14935291.2739</td> <td>0.5404</td> <td>-10295617.0832</td>  <td>40166199.631</td>   <td>False</td>\n",
       "</tr>\n",
       "<tr>\n",
       "   <td>NC-17</td> <td>Unrated</td>   <td>731666.2487</td>    <td>1.0</td>  <td>-24739405.9597</td>  <td>26202738.4572</td>  <td>False</td>\n",
       "</tr>\n",
       "<tr>\n",
       "    <td>PG</td>    <td>PG-13</td>   <td>2815697.9786</td>  <td>0.9684</td>  <td>-7275208.1832</td>  <td>12906604.1404</td>  <td>False</td>\n",
       "</tr>\n",
       "<tr>\n",
       "    <td>PG</td>      <td>R</td>    <td>-52751149.7019</td>   <td>0.0</td>  <td>-62073483.7598</td>  <td>-43428815.644</td>  <td>True</td> \n",
       "</tr>\n",
       "<tr>\n",
       "    <td>PG</td>   <td>Unrated</td> <td>-66954774.7271</td>   <td>0.0</td>  <td>-76908803.8215</td> <td>-57000745.6327</td>  <td>True</td> \n",
       "</tr>\n",
       "<tr>\n",
       "   <td>PG-13</td>    <td>R</td>    <td>-55566847.6806</td>   <td>0.0</td>  <td>-62498271.3506</td> <td>-48635424.0105</td>  <td>True</td> \n",
       "</tr>\n",
       "<tr>\n",
       "   <td>PG-13</td> <td>Unrated</td> <td>-69770472.7058</td>   <td>0.0</td>  <td>-77530718.6438</td> <td>-62010226.7677</td>  <td>True</td> \n",
       "</tr>\n",
       "<tr>\n",
       "     <td>R</td>   <td>Unrated</td> <td>-14203625.0252</td>   <td>0.0</td>   <td>-20934222.483</td>  <td>-7473027.5673</td>  <td>True</td> \n",
       "</tr>\n",
       "</table>"
      ],
      "text/plain": [
       "<class 'statsmodels.iolib.table.SimpleTable'>"
      ]
     },
     "execution_count": 67,
     "metadata": {},
     "output_type": "execute_result"
    }
   ],
   "source": [
    "## perform tukey's multiple comparison test and display the summary\n",
    "tukeys_results = pairwise_tukeyhsd(values,labels)\n",
    "tukeys_results.summary()"
   ]
  },
  {
   "cell_type": "markdown",
   "id": "91ea4783",
   "metadata": {},
   "source": [
    "There is no significant difference between the following groups:\n",
    "- NC-17 and R\n",
    "- NC-17 and Unrated\n",
    "- PG and PG-13.\n",
    "\n",
    "There is a significant difference between the following groups:\n",
    "- G and NC-17\n",
    "- G and PG\n",
    "- G and PG-13\n",
    "- G and R\n",
    "- G and Unrated\n",
    "- NC-17 and PG\n",
    "- NC-17 and PG-13\n",
    "- PG and R\n",
    "- PG and Unrated\n",
    "- PG-13 and R\n",
    "- PG-13 and Unrated\n",
    "- R and Unrated"
   ]
  },
  {
   "cell_type": "markdown",
   "id": "1531e2db",
   "metadata": {},
   "source": [
    "# 7. Visualization"
   ]
  },
  {
   "cell_type": "code",
   "execution_count": 71,
   "id": "69d99951",
   "metadata": {},
   "outputs": [
    {
     "data": {
      "text/plain": [
       "Text(0.5, 1.0, 'Comparison of average revenue per certification group')"
      ]
     },
     "execution_count": 71,
     "metadata": {},
     "output_type": "execute_result"
    },
    {
     "data": {
      "image/png": "[encoded data removed]",
      "text/plain": [
       "<Figure size 640x480 with 1 Axes>"
      ]
     },
     "metadata": {},
     "output_type": "display_data"
    }
   ],
   "source": [
    "ax = sns.barplot(data=Q1_df, x='certification', y='revenue' )\n",
    "ax.set_title('Comparison of average revenue per certification group')"
   ]
  },
  {
   "cell_type": "markdown",
   "id": "697d53a0",
   "metadata": {},
   "source": [
    "# 8. Answering Stakeholder's Question"
   ]
  },
  {
   "cell_type": "markdown",
   "id": "396e6fca",
   "metadata": {},
   "source": [
    "**Question**: Does the MPAA rating of a movie affect how much revenue the movie generates?\n",
    "\n",
    "**Conclusion**: There is a significant difference in the average revenue between the 6 groups."
   ]
  }
 ],
 "metadata": {
  "kernelspec": {
   "display_name": "Python (dojo-env)",
   "language": "python",
   "name": "dojo-env"
  },
  "language_info": {
   "codemirror_mode": {
    "name": "ipython",
    "version": 3
   },
   "file_extension": ".py",
   "mimetype": "text/x-python",
   "name": "python",
   "nbconvert_exporter": "python",
   "pygments_lexer": "ipython3",
   "version": "3.9.15"
  },
  "toc": {
   "base_numbering": 1,
   "nav_menu": {},
   "number_sections": false,
   "sideBar": true,
   "skip_h1_title": false,
   "title_cell": "Table of Contents",
   "title_sidebar": "Contents",
   "toc_cell": false,
   "toc_position": {
    "height": "calc(100% - 180px)",
    "left": "10px",
    "top": "150px",
    "width": "268.391px"
   },
   "toc_section_display": true,
   "toc_window_display": true
  }
 },
 "nbformat": 4,
 "nbformat_minor": 5
}
