{
 "cells": [
  {
   "cell_type": "markdown",
   "id": "5f45c735",
   "metadata": {},
   "source": [
    "# Import Libraries"
   ]
  },
  {
   "cell_type": "code",
   "execution_count": 1,
   "id": "f386f891",
   "metadata": {},
   "outputs": [],
   "source": [
    "import pandas as pd\n",
    "import numpy as np"
   ]
  },
  {
   "cell_type": "markdown",
   "id": "c9e7d34c",
   "metadata": {},
   "source": [
    "# Load Data"
   ]
  },
  {
   "cell_type": "code",
   "execution_count": 2,
   "id": "71d055b0",
   "metadata": {},
   "outputs": [],
   "source": [
    "title_basics = 'https://datasets.imdbws.com/title.basics.tsv.gz'\n",
    "title_akas = 'https://datasets.imdbws.com/title.akas.tsv.gz'\n",
    "title_ratings = 'https://datasets.imdbws.com/title.ratings.tsv.gz'"
   ]
  },
  {
   "cell_type": "code",
   "execution_count": 3,
   "id": "2308219a",
   "metadata": {},
   "outputs": [],
   "source": [
    "basics = pd.read_csv(title_basics, sep='\\t', low_memory=False)\n",
    "akas = pd.read_csv(title_akas, sep='\\t', low_memory=False)\n",
    "ratings = pd.read_csv(title_ratings, sep='\\t', low_memory=False)"
   ]
  },
  {
   "cell_type": "markdown",
   "id": "fe448e73",
   "metadata": {},
   "source": [
    "## Specifications - [LP URL](https://login.codingdojo.com/m/376/12528/88060)\n",
    "Your stakeholder only wants you to include information for movies based on the following specifications:\n",
    "\n",
    "- Exclude any movie with missing values for genre or runtime\n",
    "- Include only full-length movies (titleType = \"movie\").\n",
    "- Include only fictional movies (not from documentary genre)\n",
    "- Include only movies that were released 2000 - 2021 (include 2000 and 2021)\n",
    "- Include only movies that were released in the United States\n",
    "\n",
    "## Deliverable\n",
    "After filtering out movies that do not meet the stakeholder's specifications:\n",
    "\n",
    "- Before saving, run a final .info() for each of the dataframes to show a summary of how many movies remain and the datatypes of each feature\n",
    "- Save each file to a compressed csv file \"Data/\" folder inside your repository.\n",
    "- Commit your changes to your repository in GitHub desktop and Publish repository / Push Changes.\n",
    "- Submit the link to your repository"
   ]
  },
  {
   "cell_type": "markdown",
   "id": "bfb8866f",
   "metadata": {},
   "source": [
    "## Required Preprocessing - Details - [LP URL](https://login.codingdojo.com/m/376/12528/88061)\n",
    "### Filtering/Cleaning Steps:\n",
    "\n",
    "#### Title Basics:\n",
    "- Replace \"\\N\" with np.nan\n",
    "- Eliminate movies that are null for runtimeMinutes\n",
    "- Eliminate movies that are null for genre\n",
    "- keep only titleType==Movie\n",
    "- keep startYear 2000-2022\n",
    "- Eliminate movies that include \"Documentary\" in genre (see tip below)\n",
    "- Keep only US movies (Use AKAs table, see \"Filtering one dataframe based on another\" section below)\n",
    "\n",
    "#### AKAs:\n",
    "- keep only US movies.\n",
    "- Replace \"\\N\" with np.nan\n",
    "\n",
    "#### Ratings:\n",
    "- Replace \"\\N\" with np.nan (if any)\n",
    "- Keep only US movies (Use AKAs table, see \"Filtering one dataframe based on another\" section below)"
   ]
  },
  {
   "cell_type": "code",
   "execution_count": 4,
   "id": "892f8a89",
   "metadata": {},
   "outputs": [
    {
     "name": "stdout",
     "output_type": "stream",
     "text": [
      "<class 'pandas.core.frame.DataFrame'>\n",
      "RangeIndex: 9958356 entries, 0 to 9958355\n",
      "Data columns (total 9 columns):\n",
      " #   Column          Dtype \n",
      "---  ------          ----- \n",
      " 0   tconst          object\n",
      " 1   titleType       object\n",
      " 2   primaryTitle    object\n",
      " 3   originalTitle   object\n",
      " 4   isAdult         object\n",
      " 5   startYear       object\n",
      " 6   endYear         object\n",
      " 7   runtimeMinutes  object\n",
      " 8   genres          object\n",
      "dtypes: object(9)\n",
      "memory usage: 683.8+ MB\n"
     ]
    }
   ],
   "source": [
    "# Display the column names of basics\n",
    "basics.info()"
   ]
  },
  {
   "cell_type": "code",
   "execution_count": 5,
   "id": "345a02a2",
   "metadata": {},
   "outputs": [
    {
     "data": {
      "text/plain": [
       "tconst             0\n",
       "titleType          0\n",
       "primaryTitle      11\n",
       "originalTitle     11\n",
       "isAdult            0\n",
       "startYear          0\n",
       "endYear            0\n",
       "runtimeMinutes     0\n",
       "genres            15\n",
       "dtype: int64"
      ]
     },
     "execution_count": 5,
     "metadata": {},
     "output_type": "execute_result"
    }
   ],
   "source": [
    "# Check the number of null values in each column\n",
    "basics.isna().sum()"
   ]
  },
  {
   "cell_type": "code",
   "execution_count": 22,
   "id": "e5104d47",
   "metadata": {},
   "outputs": [
    {
     "data": {
      "text/plain": [
       "tconst            9958356\n",
       "titleType              11\n",
       "primaryTitle      4497205\n",
       "originalTitle     4519318\n",
       "isAdult                11\n",
       "startYear             154\n",
       "endYear                96\n",
       "runtimeMinutes        892\n",
       "genres               2342\n",
       "dtype: int64"
      ]
     },
     "execution_count": 22,
     "metadata": {},
     "output_type": "execute_result"
    }
   ],
   "source": [
    "# Display the number of unique values under each column\n",
    "basics.nunique()"
   ]
  },
  {
   "cell_type": "code",
   "execution_count": 25,
   "id": "2f093419",
   "metadata": {},
   "outputs": [],
   "source": [
    "# Replace \"\\N\" with np.nan\n",
    "basics.replace({'\\\\N':np.nan}, inplace=True)"
   ]
  },
  {
   "cell_type": "code",
   "execution_count": null,
   "id": "605c8b9a",
   "metadata": {},
   "outputs": [],
   "source": []
  },
  {
   "cell_type": "code",
   "execution_count": 26,
   "id": "591f9391",
   "metadata": {},
   "outputs": [
    {
     "data": {
      "text/html": [
       "<div>\n",
       "<style scoped>\n",
       "    .dataframe tbody tr th:only-of-type {\n",
       "        vertical-align: middle;\n",
       "    }\n",
       "\n",
       "    .dataframe tbody tr th {\n",
       "        vertical-align: top;\n",
       "    }\n",
       "\n",
       "    .dataframe thead th {\n",
       "        text-align: right;\n",
       "    }\n",
       "</style>\n",
       "<table border=\"1\" class=\"dataframe\">\n",
       "  <thead>\n",
       "    <tr style=\"text-align: right;\">\n",
       "      <th></th>\n",
       "      <th>tconst</th>\n",
       "      <th>titleType</th>\n",
       "      <th>primaryTitle</th>\n",
       "      <th>originalTitle</th>\n",
       "      <th>isAdult</th>\n",
       "      <th>startYear</th>\n",
       "      <th>endYear</th>\n",
       "      <th>runtimeMinutes</th>\n",
       "      <th>genres</th>\n",
       "    </tr>\n",
       "  </thead>\n",
       "  <tbody>\n",
       "    <tr>\n",
       "      <th>498</th>\n",
       "      <td>tt0000502</td>\n",
       "      <td>movie</td>\n",
       "      <td>Bohemios</td>\n",
       "      <td>Bohemios</td>\n",
       "      <td>0</td>\n",
       "      <td>1905</td>\n",
       "      <td>NaN</td>\n",
       "      <td>100</td>\n",
       "      <td>NaN</td>\n",
       "    </tr>\n",
       "    <tr>\n",
       "      <th>828</th>\n",
       "      <td>tt0000838</td>\n",
       "      <td>movie</td>\n",
       "      <td>A Cultura do Cacau</td>\n",
       "      <td>A Cultura do Cacau</td>\n",
       "      <td>0</td>\n",
       "      <td>1909</td>\n",
       "      <td>NaN</td>\n",
       "      <td>NaN</td>\n",
       "      <td>NaN</td>\n",
       "    </tr>\n",
       "    <tr>\n",
       "      <th>832</th>\n",
       "      <td>tt0000842</td>\n",
       "      <td>movie</td>\n",
       "      <td>De Garraf a Barcelona</td>\n",
       "      <td>De Garraf a Barcelona</td>\n",
       "      <td>0</td>\n",
       "      <td>1909</td>\n",
       "      <td>NaN</td>\n",
       "      <td>NaN</td>\n",
       "      <td>NaN</td>\n",
       "    </tr>\n",
       "    <tr>\n",
       "      <th>836</th>\n",
       "      <td>tt0000846</td>\n",
       "      <td>movie</td>\n",
       "      <td>Un día en Xochimilco</td>\n",
       "      <td>Un día en Xochimilco</td>\n",
       "      <td>0</td>\n",
       "      <td>1909</td>\n",
       "      <td>NaN</td>\n",
       "      <td>NaN</td>\n",
       "      <td>NaN</td>\n",
       "    </tr>\n",
       "    <tr>\n",
       "      <th>840</th>\n",
       "      <td>tt0000850</td>\n",
       "      <td>movie</td>\n",
       "      <td>Los dos hermanos</td>\n",
       "      <td>Los dos hermanos</td>\n",
       "      <td>0</td>\n",
       "      <td>1909</td>\n",
       "      <td>NaN</td>\n",
       "      <td>NaN</td>\n",
       "      <td>NaN</td>\n",
       "    </tr>\n",
       "    <tr>\n",
       "      <th>...</th>\n",
       "      <td>...</td>\n",
       "      <td>...</td>\n",
       "      <td>...</td>\n",
       "      <td>...</td>\n",
       "      <td>...</td>\n",
       "      <td>...</td>\n",
       "      <td>...</td>\n",
       "      <td>...</td>\n",
       "      <td>...</td>\n",
       "    </tr>\n",
       "    <tr>\n",
       "      <th>9958047</th>\n",
       "      <td>tt9916210</td>\n",
       "      <td>tvSeries</td>\n",
       "      <td>Rumpole of the Bailey</td>\n",
       "      <td>Rumpole of the Bailey</td>\n",
       "      <td>0</td>\n",
       "      <td>NaN</td>\n",
       "      <td>NaN</td>\n",
       "      <td>NaN</td>\n",
       "      <td>NaN</td>\n",
       "    </tr>\n",
       "    <tr>\n",
       "      <th>9958270</th>\n",
       "      <td>tt9916672</td>\n",
       "      <td>tvEpisode</td>\n",
       "      <td>L'échange</td>\n",
       "      <td>L'échange</td>\n",
       "      <td>0</td>\n",
       "      <td>2007</td>\n",
       "      <td>NaN</td>\n",
       "      <td>NaN</td>\n",
       "      <td>NaN</td>\n",
       "    </tr>\n",
       "    <tr>\n",
       "      <th>9958276</th>\n",
       "      <td>tt9916684</td>\n",
       "      <td>tvEpisode</td>\n",
       "      <td>Otages (1e partie)</td>\n",
       "      <td>Otages (1e partie)</td>\n",
       "      <td>0</td>\n",
       "      <td>2007</td>\n",
       "      <td>NaN</td>\n",
       "      <td>NaN</td>\n",
       "      <td>NaN</td>\n",
       "    </tr>\n",
       "    <tr>\n",
       "      <th>9958283</th>\n",
       "      <td>tt9916700</td>\n",
       "      <td>tvEpisode</td>\n",
       "      <td>Apex Cartoon - Meet the Legends</td>\n",
       "      <td>Apex Cartoon - Meet the Legends</td>\n",
       "      <td>0</td>\n",
       "      <td>2019</td>\n",
       "      <td>NaN</td>\n",
       "      <td>NaN</td>\n",
       "      <td>NaN</td>\n",
       "    </tr>\n",
       "    <tr>\n",
       "      <th>9958296</th>\n",
       "      <td>tt9916730</td>\n",
       "      <td>movie</td>\n",
       "      <td>6 Gunn</td>\n",
       "      <td>6 Gunn</td>\n",
       "      <td>0</td>\n",
       "      <td>2017</td>\n",
       "      <td>NaN</td>\n",
       "      <td>116</td>\n",
       "      <td>NaN</td>\n",
       "    </tr>\n",
       "  </tbody>\n",
       "</table>\n",
       "<p>446334 rows × 9 columns</p>\n",
       "</div>"
      ],
      "text/plain": [
       "            tconst  titleType                     primaryTitle  \\\n",
       "498      tt0000502      movie                         Bohemios   \n",
       "828      tt0000838      movie               A Cultura do Cacau   \n",
       "832      tt0000842      movie            De Garraf a Barcelona   \n",
       "836      tt0000846      movie             Un día en Xochimilco   \n",
       "840      tt0000850      movie                 Los dos hermanos   \n",
       "...            ...        ...                              ...   \n",
       "9958047  tt9916210   tvSeries            Rumpole of the Bailey   \n",
       "9958270  tt9916672  tvEpisode                        L'échange   \n",
       "9958276  tt9916684  tvEpisode               Otages (1e partie)   \n",
       "9958283  tt9916700  tvEpisode  Apex Cartoon - Meet the Legends   \n",
       "9958296  tt9916730      movie                           6 Gunn   \n",
       "\n",
       "                           originalTitle isAdult startYear endYear  \\\n",
       "498                             Bohemios       0      1905     NaN   \n",
       "828                   A Cultura do Cacau       0      1909     NaN   \n",
       "832                De Garraf a Barcelona       0      1909     NaN   \n",
       "836                 Un día en Xochimilco       0      1909     NaN   \n",
       "840                     Los dos hermanos       0      1909     NaN   \n",
       "...                                  ...     ...       ...     ...   \n",
       "9958047            Rumpole of the Bailey       0       NaN     NaN   \n",
       "9958270                        L'échange       0      2007     NaN   \n",
       "9958276               Otages (1e partie)       0      2007     NaN   \n",
       "9958283  Apex Cartoon - Meet the Legends       0      2019     NaN   \n",
       "9958296                           6 Gunn       0      2017     NaN   \n",
       "\n",
       "        runtimeMinutes genres  \n",
       "498                100    NaN  \n",
       "828                NaN    NaN  \n",
       "832                NaN    NaN  \n",
       "836                NaN    NaN  \n",
       "840                NaN    NaN  \n",
       "...                ...    ...  \n",
       "9958047            NaN    NaN  \n",
       "9958270            NaN    NaN  \n",
       "9958276            NaN    NaN  \n",
       "9958283            NaN    NaN  \n",
       "9958296            116    NaN  \n",
       "\n",
       "[446334 rows x 9 columns]"
      ]
     },
     "execution_count": 26,
     "metadata": {},
     "output_type": "execute_result"
    }
   ],
   "source": [
    "# Display the rows that contain null values in the genres column\n",
    "filter1 = basics['genres'].isna() == True\n",
    "basics[filter1]"
   ]
  },
  {
   "cell_type": "code",
   "execution_count": null,
   "id": "e9bed7bc",
   "metadata": {},
   "outputs": [],
   "source": []
  },
  {
   "cell_type": "code",
   "execution_count": null,
   "id": "1183e8ff",
   "metadata": {},
   "outputs": [],
   "source": []
  }
 ],
 "metadata": {
  "kernelspec": {
   "display_name": "Python (dojo-env)",
   "language": "python",
   "name": "dojo-env"
  },
  "language_info": {
   "codemirror_mode": {
    "name": "ipython",
    "version": 3
   },
   "file_extension": ".py",
   "mimetype": "text/x-python",
   "name": "python",
   "nbconvert_exporter": "python",
   "pygments_lexer": "ipython3",
   "version": "3.9.15"
  },
  "toc": {
   "base_numbering": 1,
   "nav_menu": {},
   "number_sections": false,
   "sideBar": true,
   "skip_h1_title": false,
   "title_cell": "Table of Contents",
   "title_sidebar": "Contents",
   "toc_cell": false,
   "toc_position": {},
   "toc_section_display": true,
   "toc_window_display": false
  }
 },
 "nbformat": 4,
 "nbformat_minor": 5
}
